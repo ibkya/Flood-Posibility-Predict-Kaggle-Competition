{
 "cells": [
  {
   "cell_type": "code",
   "execution_count": 1,
   "id": "058ccb9c",
   "metadata": {
    "_cell_guid": "b1076dfc-b9ad-4769-8c92-a6c4dae69d19",
    "_uuid": "8f2839f25d086af736a60e9eeb907d3b93b6e0e5",
    "execution": {
     "iopub.execute_input": "2024-05-31T21:47:02.932823Z",
     "iopub.status.busy": "2024-05-31T21:47:02.932317Z",
     "iopub.status.idle": "2024-05-31T21:47:03.862229Z",
     "shell.execute_reply": "2024-05-31T21:47:03.861092Z"
    },
    "papermill": {
     "duration": 0.945234,
     "end_time": "2024-05-31T21:47:03.865062",
     "exception": false,
     "start_time": "2024-05-31T21:47:02.919828",
     "status": "completed"
    },
    "tags": []
   },
   "outputs": [
    {
     "name": "stdout",
     "output_type": "stream",
     "text": [
      "/kaggle/input/playground-series-s4e5/sample_submission.csv\n",
      "/kaggle/input/playground-series-s4e5/train.csv\n",
      "/kaggle/input/playground-series-s4e5/test.csv\n"
     ]
    }
   ],
   "source": [
    "import numpy as np \n",
    "import pandas as pd \n",
    "import os\n",
    "for dirname, _, filenames in os.walk('/kaggle/input'):\n",
    "    for filename in filenames:\n",
    "        print(os.path.join(dirname, filename))"
   ]
  },
  {
   "cell_type": "code",
   "execution_count": 2,
   "id": "f50edab1",
   "metadata": {
    "execution": {
     "iopub.execute_input": "2024-05-31T21:47:03.888275Z",
     "iopub.status.busy": "2024-05-31T21:47:03.887781Z",
     "iopub.status.idle": "2024-05-31T21:47:05.199731Z",
     "shell.execute_reply": "2024-05-31T21:47:05.198733Z"
    },
    "papermill": {
     "duration": 1.326586,
     "end_time": "2024-05-31T21:47:05.202473",
     "exception": false,
     "start_time": "2024-05-31T21:47:03.875887",
     "status": "completed"
    },
    "tags": []
   },
   "outputs": [],
   "source": [
    "from sklearn.metrics import mean_squared_error, r2_score\n",
    "from sklearn.model_selection import train_test_split"
   ]
  },
  {
   "cell_type": "code",
   "execution_count": 3,
   "id": "0738ccfa",
   "metadata": {
    "execution": {
     "iopub.execute_input": "2024-05-31T21:47:05.225834Z",
     "iopub.status.busy": "2024-05-31T21:47:05.225414Z",
     "iopub.status.idle": "2024-05-31T21:47:07.717218Z",
     "shell.execute_reply": "2024-05-31T21:47:07.716050Z"
    },
    "papermill": {
     "duration": 2.506795,
     "end_time": "2024-05-31T21:47:07.719916",
     "exception": false,
     "start_time": "2024-05-31T21:47:05.213121",
     "status": "completed"
    },
    "tags": []
   },
   "outputs": [],
   "source": [
    "flood_dataset = pd.read_csv(\"/kaggle/input/playground-series-s4e5/train.csv\")"
   ]
  },
  {
   "cell_type": "code",
   "execution_count": 4,
   "id": "5275bf95",
   "metadata": {
    "execution": {
     "iopub.execute_input": "2024-05-31T21:47:07.742960Z",
     "iopub.status.busy": "2024-05-31T21:47:07.742556Z",
     "iopub.status.idle": "2024-05-31T21:47:08.749101Z",
     "shell.execute_reply": "2024-05-31T21:47:08.747883Z"
    },
    "papermill": {
     "duration": 1.021298,
     "end_time": "2024-05-31T21:47:08.751867",
     "exception": false,
     "start_time": "2024-05-31T21:47:07.730569",
     "status": "completed"
    },
    "tags": []
   },
   "outputs": [
    {
     "data": {
      "text/html": [
       "<div>\n",
       "<style scoped>\n",
       "    .dataframe tbody tr th:only-of-type {\n",
       "        vertical-align: middle;\n",
       "    }\n",
       "\n",
       "    .dataframe tbody tr th {\n",
       "        vertical-align: top;\n",
       "    }\n",
       "\n",
       "    .dataframe thead th {\n",
       "        text-align: right;\n",
       "    }\n",
       "</style>\n",
       "<table border=\"1\" class=\"dataframe\">\n",
       "  <thead>\n",
       "    <tr style=\"text-align: right;\">\n",
       "      <th></th>\n",
       "      <th>count</th>\n",
       "      <th>mean</th>\n",
       "      <th>std</th>\n",
       "      <th>min</th>\n",
       "      <th>25%</th>\n",
       "      <th>50%</th>\n",
       "      <th>75%</th>\n",
       "      <th>max</th>\n",
       "    </tr>\n",
       "  </thead>\n",
       "  <tbody>\n",
       "    <tr>\n",
       "      <th>id</th>\n",
       "      <td>1117957.0</td>\n",
       "      <td>558978.000000</td>\n",
       "      <td>322726.531784</td>\n",
       "      <td>0.000</td>\n",
       "      <td>279489.00</td>\n",
       "      <td>558978.000</td>\n",
       "      <td>838467.00</td>\n",
       "      <td>1117956.000</td>\n",
       "    </tr>\n",
       "    <tr>\n",
       "      <th>MonsoonIntensity</th>\n",
       "      <td>1117957.0</td>\n",
       "      <td>4.921450</td>\n",
       "      <td>2.056387</td>\n",
       "      <td>0.000</td>\n",
       "      <td>3.00</td>\n",
       "      <td>5.000</td>\n",
       "      <td>6.00</td>\n",
       "      <td>16.000</td>\n",
       "    </tr>\n",
       "    <tr>\n",
       "      <th>TopographyDrainage</th>\n",
       "      <td>1117957.0</td>\n",
       "      <td>4.926671</td>\n",
       "      <td>2.093879</td>\n",
       "      <td>0.000</td>\n",
       "      <td>3.00</td>\n",
       "      <td>5.000</td>\n",
       "      <td>6.00</td>\n",
       "      <td>18.000</td>\n",
       "    </tr>\n",
       "    <tr>\n",
       "      <th>RiverManagement</th>\n",
       "      <td>1117957.0</td>\n",
       "      <td>4.955322</td>\n",
       "      <td>2.072186</td>\n",
       "      <td>0.000</td>\n",
       "      <td>4.00</td>\n",
       "      <td>5.000</td>\n",
       "      <td>6.00</td>\n",
       "      <td>16.000</td>\n",
       "    </tr>\n",
       "    <tr>\n",
       "      <th>Deforestation</th>\n",
       "      <td>1117957.0</td>\n",
       "      <td>4.942240</td>\n",
       "      <td>2.051689</td>\n",
       "      <td>0.000</td>\n",
       "      <td>4.00</td>\n",
       "      <td>5.000</td>\n",
       "      <td>6.00</td>\n",
       "      <td>17.000</td>\n",
       "    </tr>\n",
       "    <tr>\n",
       "      <th>Urbanization</th>\n",
       "      <td>1117957.0</td>\n",
       "      <td>4.942517</td>\n",
       "      <td>2.083391</td>\n",
       "      <td>0.000</td>\n",
       "      <td>3.00</td>\n",
       "      <td>5.000</td>\n",
       "      <td>6.00</td>\n",
       "      <td>17.000</td>\n",
       "    </tr>\n",
       "    <tr>\n",
       "      <th>ClimateChange</th>\n",
       "      <td>1117957.0</td>\n",
       "      <td>4.934093</td>\n",
       "      <td>2.057742</td>\n",
       "      <td>0.000</td>\n",
       "      <td>3.00</td>\n",
       "      <td>5.000</td>\n",
       "      <td>6.00</td>\n",
       "      <td>17.000</td>\n",
       "    </tr>\n",
       "    <tr>\n",
       "      <th>DamsQuality</th>\n",
       "      <td>1117957.0</td>\n",
       "      <td>4.955878</td>\n",
       "      <td>2.083063</td>\n",
       "      <td>0.000</td>\n",
       "      <td>4.00</td>\n",
       "      <td>5.000</td>\n",
       "      <td>6.00</td>\n",
       "      <td>16.000</td>\n",
       "    </tr>\n",
       "    <tr>\n",
       "      <th>Siltation</th>\n",
       "      <td>1117957.0</td>\n",
       "      <td>4.927791</td>\n",
       "      <td>2.065992</td>\n",
       "      <td>0.000</td>\n",
       "      <td>3.00</td>\n",
       "      <td>5.000</td>\n",
       "      <td>6.00</td>\n",
       "      <td>16.000</td>\n",
       "    </tr>\n",
       "    <tr>\n",
       "      <th>AgriculturalPractices</th>\n",
       "      <td>1117957.0</td>\n",
       "      <td>4.942619</td>\n",
       "      <td>2.068545</td>\n",
       "      <td>0.000</td>\n",
       "      <td>3.00</td>\n",
       "      <td>5.000</td>\n",
       "      <td>6.00</td>\n",
       "      <td>16.000</td>\n",
       "    </tr>\n",
       "    <tr>\n",
       "      <th>Encroachments</th>\n",
       "      <td>1117957.0</td>\n",
       "      <td>4.949230</td>\n",
       "      <td>2.083324</td>\n",
       "      <td>0.000</td>\n",
       "      <td>4.00</td>\n",
       "      <td>5.000</td>\n",
       "      <td>6.00</td>\n",
       "      <td>18.000</td>\n",
       "    </tr>\n",
       "    <tr>\n",
       "      <th>IneffectiveDisasterPreparedness</th>\n",
       "      <td>1117957.0</td>\n",
       "      <td>4.945239</td>\n",
       "      <td>2.078141</td>\n",
       "      <td>0.000</td>\n",
       "      <td>3.00</td>\n",
       "      <td>5.000</td>\n",
       "      <td>6.00</td>\n",
       "      <td>16.000</td>\n",
       "    </tr>\n",
       "    <tr>\n",
       "      <th>DrainageSystems</th>\n",
       "      <td>1117957.0</td>\n",
       "      <td>4.946893</td>\n",
       "      <td>2.072333</td>\n",
       "      <td>0.000</td>\n",
       "      <td>4.00</td>\n",
       "      <td>5.000</td>\n",
       "      <td>6.00</td>\n",
       "      <td>17.000</td>\n",
       "    </tr>\n",
       "    <tr>\n",
       "      <th>CoastalVulnerability</th>\n",
       "      <td>1117957.0</td>\n",
       "      <td>4.953999</td>\n",
       "      <td>2.088899</td>\n",
       "      <td>0.000</td>\n",
       "      <td>3.00</td>\n",
       "      <td>5.000</td>\n",
       "      <td>6.00</td>\n",
       "      <td>17.000</td>\n",
       "    </tr>\n",
       "    <tr>\n",
       "      <th>Landslides</th>\n",
       "      <td>1117957.0</td>\n",
       "      <td>4.931376</td>\n",
       "      <td>2.078287</td>\n",
       "      <td>0.000</td>\n",
       "      <td>3.00</td>\n",
       "      <td>5.000</td>\n",
       "      <td>6.00</td>\n",
       "      <td>16.000</td>\n",
       "    </tr>\n",
       "    <tr>\n",
       "      <th>Watersheds</th>\n",
       "      <td>1117957.0</td>\n",
       "      <td>4.929032</td>\n",
       "      <td>2.082395</td>\n",
       "      <td>0.000</td>\n",
       "      <td>3.00</td>\n",
       "      <td>5.000</td>\n",
       "      <td>6.00</td>\n",
       "      <td>16.000</td>\n",
       "    </tr>\n",
       "    <tr>\n",
       "      <th>DeterioratingInfrastructure</th>\n",
       "      <td>1117957.0</td>\n",
       "      <td>4.925907</td>\n",
       "      <td>2.064813</td>\n",
       "      <td>0.000</td>\n",
       "      <td>3.00</td>\n",
       "      <td>5.000</td>\n",
       "      <td>6.00</td>\n",
       "      <td>17.000</td>\n",
       "    </tr>\n",
       "    <tr>\n",
       "      <th>PopulationScore</th>\n",
       "      <td>1117957.0</td>\n",
       "      <td>4.927520</td>\n",
       "      <td>2.074176</td>\n",
       "      <td>0.000</td>\n",
       "      <td>3.00</td>\n",
       "      <td>5.000</td>\n",
       "      <td>6.00</td>\n",
       "      <td>18.000</td>\n",
       "    </tr>\n",
       "    <tr>\n",
       "      <th>WetlandLoss</th>\n",
       "      <td>1117957.0</td>\n",
       "      <td>4.950859</td>\n",
       "      <td>2.068696</td>\n",
       "      <td>0.000</td>\n",
       "      <td>4.00</td>\n",
       "      <td>5.000</td>\n",
       "      <td>6.00</td>\n",
       "      <td>19.000</td>\n",
       "    </tr>\n",
       "    <tr>\n",
       "      <th>InadequatePlanning</th>\n",
       "      <td>1117957.0</td>\n",
       "      <td>4.940587</td>\n",
       "      <td>2.081123</td>\n",
       "      <td>0.000</td>\n",
       "      <td>3.00</td>\n",
       "      <td>5.000</td>\n",
       "      <td>6.00</td>\n",
       "      <td>16.000</td>\n",
       "    </tr>\n",
       "    <tr>\n",
       "      <th>PoliticalFactors</th>\n",
       "      <td>1117957.0</td>\n",
       "      <td>4.939004</td>\n",
       "      <td>2.090350</td>\n",
       "      <td>0.000</td>\n",
       "      <td>3.00</td>\n",
       "      <td>5.000</td>\n",
       "      <td>6.00</td>\n",
       "      <td>16.000</td>\n",
       "    </tr>\n",
       "    <tr>\n",
       "      <th>FloodProbability</th>\n",
       "      <td>1117957.0</td>\n",
       "      <td>0.504480</td>\n",
       "      <td>0.051026</td>\n",
       "      <td>0.285</td>\n",
       "      <td>0.47</td>\n",
       "      <td>0.505</td>\n",
       "      <td>0.54</td>\n",
       "      <td>0.725</td>\n",
       "    </tr>\n",
       "  </tbody>\n",
       "</table>\n",
       "</div>"
      ],
      "text/plain": [
       "                                     count           mean            std  \\\n",
       "id                               1117957.0  558978.000000  322726.531784   \n",
       "MonsoonIntensity                 1117957.0       4.921450       2.056387   \n",
       "TopographyDrainage               1117957.0       4.926671       2.093879   \n",
       "RiverManagement                  1117957.0       4.955322       2.072186   \n",
       "Deforestation                    1117957.0       4.942240       2.051689   \n",
       "Urbanization                     1117957.0       4.942517       2.083391   \n",
       "ClimateChange                    1117957.0       4.934093       2.057742   \n",
       "DamsQuality                      1117957.0       4.955878       2.083063   \n",
       "Siltation                        1117957.0       4.927791       2.065992   \n",
       "AgriculturalPractices            1117957.0       4.942619       2.068545   \n",
       "Encroachments                    1117957.0       4.949230       2.083324   \n",
       "IneffectiveDisasterPreparedness  1117957.0       4.945239       2.078141   \n",
       "DrainageSystems                  1117957.0       4.946893       2.072333   \n",
       "CoastalVulnerability             1117957.0       4.953999       2.088899   \n",
       "Landslides                       1117957.0       4.931376       2.078287   \n",
       "Watersheds                       1117957.0       4.929032       2.082395   \n",
       "DeterioratingInfrastructure      1117957.0       4.925907       2.064813   \n",
       "PopulationScore                  1117957.0       4.927520       2.074176   \n",
       "WetlandLoss                      1117957.0       4.950859       2.068696   \n",
       "InadequatePlanning               1117957.0       4.940587       2.081123   \n",
       "PoliticalFactors                 1117957.0       4.939004       2.090350   \n",
       "FloodProbability                 1117957.0       0.504480       0.051026   \n",
       "\n",
       "                                   min        25%         50%        75%  \\\n",
       "id                               0.000  279489.00  558978.000  838467.00   \n",
       "MonsoonIntensity                 0.000       3.00       5.000       6.00   \n",
       "TopographyDrainage               0.000       3.00       5.000       6.00   \n",
       "RiverManagement                  0.000       4.00       5.000       6.00   \n",
       "Deforestation                    0.000       4.00       5.000       6.00   \n",
       "Urbanization                     0.000       3.00       5.000       6.00   \n",
       "ClimateChange                    0.000       3.00       5.000       6.00   \n",
       "DamsQuality                      0.000       4.00       5.000       6.00   \n",
       "Siltation                        0.000       3.00       5.000       6.00   \n",
       "AgriculturalPractices            0.000       3.00       5.000       6.00   \n",
       "Encroachments                    0.000       4.00       5.000       6.00   \n",
       "IneffectiveDisasterPreparedness  0.000       3.00       5.000       6.00   \n",
       "DrainageSystems                  0.000       4.00       5.000       6.00   \n",
       "CoastalVulnerability             0.000       3.00       5.000       6.00   \n",
       "Landslides                       0.000       3.00       5.000       6.00   \n",
       "Watersheds                       0.000       3.00       5.000       6.00   \n",
       "DeterioratingInfrastructure      0.000       3.00       5.000       6.00   \n",
       "PopulationScore                  0.000       3.00       5.000       6.00   \n",
       "WetlandLoss                      0.000       4.00       5.000       6.00   \n",
       "InadequatePlanning               0.000       3.00       5.000       6.00   \n",
       "PoliticalFactors                 0.000       3.00       5.000       6.00   \n",
       "FloodProbability                 0.285       0.47       0.505       0.54   \n",
       "\n",
       "                                         max  \n",
       "id                               1117956.000  \n",
       "MonsoonIntensity                      16.000  \n",
       "TopographyDrainage                    18.000  \n",
       "RiverManagement                       16.000  \n",
       "Deforestation                         17.000  \n",
       "Urbanization                          17.000  \n",
       "ClimateChange                         17.000  \n",
       "DamsQuality                           16.000  \n",
       "Siltation                             16.000  \n",
       "AgriculturalPractices                 16.000  \n",
       "Encroachments                         18.000  \n",
       "IneffectiveDisasterPreparedness       16.000  \n",
       "DrainageSystems                       17.000  \n",
       "CoastalVulnerability                  17.000  \n",
       "Landslides                            16.000  \n",
       "Watersheds                            16.000  \n",
       "DeterioratingInfrastructure           17.000  \n",
       "PopulationScore                       18.000  \n",
       "WetlandLoss                           19.000  \n",
       "InadequatePlanning                    16.000  \n",
       "PoliticalFactors                      16.000  \n",
       "FloodProbability                       0.725  "
      ]
     },
     "execution_count": 4,
     "metadata": {},
     "output_type": "execute_result"
    }
   ],
   "source": [
    "flood_dataset.describe().T"
   ]
  },
  {
   "cell_type": "markdown",
   "id": "ee9c5c92",
   "metadata": {
    "papermill": {
     "duration": 0.011261,
     "end_time": "2024-05-31T21:47:08.774886",
     "exception": false,
     "start_time": "2024-05-31T21:47:08.763625",
     "status": "completed"
    },
    "tags": []
   },
   "source": [
    "# **Data Preprocessing: (for each columns in Horizontal ways)**"
   ]
  },
  {
   "cell_type": "code",
   "execution_count": 5,
   "id": "ce443a40",
   "metadata": {
    "execution": {
     "iopub.execute_input": "2024-05-31T21:47:08.801510Z",
     "iopub.status.busy": "2024-05-31T21:47:08.800442Z",
     "iopub.status.idle": "2024-05-31T21:47:08.809393Z",
     "shell.execute_reply": "2024-05-31T21:47:08.808215Z"
    },
    "papermill": {
     "duration": 0.025634,
     "end_time": "2024-05-31T21:47:08.812027",
     "exception": false,
     "start_time": "2024-05-31T21:47:08.786393",
     "status": "completed"
    },
    "tags": []
   },
   "outputs": [],
   "source": [
    "def add_features(df):\n",
    "    addfeatures = df.columns.tolist()\n",
    "    df['std_features'] = df[addfeatures].std(axis=1)\n",
    "    df['mean_features'] = 0.1*df[addfeatures].mean(axis=1)\n",
    "    df['median_features'] = 0.1*df[addfeatures].median(axis=1)\n",
    "    df['max_features'] = df[addfeatures].max(axis=1)\n",
    "    df['min_features'] = df[addfeatures].min(axis=1)    \n",
    "    return df"
   ]
  },
  {
   "cell_type": "code",
   "execution_count": 6,
   "id": "f8482498",
   "metadata": {
    "execution": {
     "iopub.execute_input": "2024-05-31T21:47:08.837852Z",
     "iopub.status.busy": "2024-05-31T21:47:08.836560Z",
     "iopub.status.idle": "2024-05-31T21:47:09.026253Z",
     "shell.execute_reply": "2024-05-31T21:47:09.025025Z"
    },
    "papermill": {
     "duration": 0.20502,
     "end_time": "2024-05-31T21:47:09.029202",
     "exception": false,
     "start_time": "2024-05-31T21:47:08.824182",
     "status": "completed"
    },
    "tags": []
   },
   "outputs": [],
   "source": [
    "flood_dataset_df=flood_dataset.copy()\n",
    "flood_dataset_df.drop(['id'], axis = 1, inplace = True)"
   ]
  },
  {
   "cell_type": "code",
   "execution_count": 7,
   "id": "5cca5728",
   "metadata": {
    "execution": {
     "iopub.execute_input": "2024-05-31T21:47:09.055297Z",
     "iopub.status.busy": "2024-05-31T21:47:09.054322Z",
     "iopub.status.idle": "2024-05-31T21:47:09.128908Z",
     "shell.execute_reply": "2024-05-31T21:47:09.127762Z"
    },
    "papermill": {
     "duration": 0.091229,
     "end_time": "2024-05-31T21:47:09.132558",
     "exception": false,
     "start_time": "2024-05-31T21:47:09.041329",
     "status": "completed"
    },
    "tags": []
   },
   "outputs": [],
   "source": [
    "df = flood_dataset_df\n",
    "df1 = df.drop([\"FloodProbability\"], axis=1)"
   ]
  },
  {
   "cell_type": "code",
   "execution_count": 8,
   "id": "ced1a39e",
   "metadata": {
    "execution": {
     "iopub.execute_input": "2024-05-31T21:47:09.157718Z",
     "iopub.status.busy": "2024-05-31T21:47:09.156796Z",
     "iopub.status.idle": "2024-05-31T21:47:12.801344Z",
     "shell.execute_reply": "2024-05-31T21:47:12.800341Z"
    },
    "papermill": {
     "duration": 3.660144,
     "end_time": "2024-05-31T21:47:12.804233",
     "exception": false,
     "start_time": "2024-05-31T21:47:09.144089",
     "status": "completed"
    },
    "tags": []
   },
   "outputs": [],
   "source": [
    "flood_dataset_df = add_features(df1)\n",
    "y = df[\"FloodProbability\"]"
   ]
  },
  {
   "cell_type": "code",
   "execution_count": 9,
   "id": "a35172bc",
   "metadata": {
    "execution": {
     "iopub.execute_input": "2024-05-31T21:47:12.828211Z",
     "iopub.status.busy": "2024-05-31T21:47:12.827813Z",
     "iopub.status.idle": "2024-05-31T21:47:12.835858Z",
     "shell.execute_reply": "2024-05-31T21:47:12.834767Z"
    },
    "papermill": {
     "duration": 0.022713,
     "end_time": "2024-05-31T21:47:12.838210",
     "exception": false,
     "start_time": "2024-05-31T21:47:12.815497",
     "status": "completed"
    },
    "tags": []
   },
   "outputs": [],
   "source": [
    "def add_more_features(flood_dataset_df):\n",
    "    flood_dataset_df['weather'] = - flood_dataset_df['MonsoonIntensity'] - flood_dataset_df['ClimateChange']\n",
    "    flood_dataset_df['structure'] = flood_dataset_df['TopographyDrainage'] + flood_dataset_df['RiverManagement'] - flood_dataset_df['Deforestation'] + flood_dataset_df['DamsQuality'] + flood_dataset_df['Encroachments'] + flood_dataset_df['DrainageSystems'] - flood_dataset_df['Watersheds'] - flood_dataset_df['DeterioratingInfrastructure'] + flood_dataset_df['WetlandLoss'] \n",
    "    flood_dataset_df['population'] = - flood_dataset_df['Urbanization'] * flood_dataset_df['PopulationScore']\n",
    "    flood_dataset_df['soil_infrastructure'] = - flood_dataset_df['Siltation'] + flood_dataset_df['AgriculturalPractices'] - flood_dataset_df['Landslides']\n",
    "    flood_dataset_df['preparedness'] = - flood_dataset_df['IneffectiveDisasterPreparedness'] + flood_dataset_df['CoastalVulnerability'] - flood_dataset_df['InadequatePlanning'] - flood_dataset_df['PoliticalFactors'] \n",
    "    return flood_dataset_df"
   ]
  },
  {
   "cell_type": "code",
   "execution_count": 10,
   "id": "d25f02ed",
   "metadata": {
    "execution": {
     "iopub.execute_input": "2024-05-31T21:47:12.862081Z",
     "iopub.status.busy": "2024-05-31T21:47:12.861662Z",
     "iopub.status.idle": "2024-05-31T21:47:12.914156Z",
     "shell.execute_reply": "2024-05-31T21:47:12.913059Z"
    },
    "papermill": {
     "duration": 0.067702,
     "end_time": "2024-05-31T21:47:12.916976",
     "exception": false,
     "start_time": "2024-05-31T21:47:12.849274",
     "status": "completed"
    },
    "tags": []
   },
   "outputs": [],
   "source": [
    "flood_dataset_df = add_more_features(flood_dataset_df)"
   ]
  },
  {
   "cell_type": "code",
   "execution_count": 11,
   "id": "82b0b625",
   "metadata": {
    "execution": {
     "iopub.execute_input": "2024-05-31T21:47:12.941116Z",
     "iopub.status.busy": "2024-05-31T21:47:12.940741Z",
     "iopub.status.idle": "2024-05-31T21:47:12.947583Z",
     "shell.execute_reply": "2024-05-31T21:47:12.946496Z"
    },
    "papermill": {
     "duration": 0.021864,
     "end_time": "2024-05-31T21:47:12.950245",
     "exception": false,
     "start_time": "2024-05-31T21:47:12.928381",
     "status": "completed"
    },
    "tags": []
   },
   "outputs": [],
   "source": [
    "flood_dataset_df[\"FloodProbability\"]=y"
   ]
  },
  {
   "cell_type": "code",
   "execution_count": 12,
   "id": "27046201",
   "metadata": {
    "execution": {
     "iopub.execute_input": "2024-05-31T21:47:12.974821Z",
     "iopub.status.busy": "2024-05-31T21:47:12.974411Z",
     "iopub.status.idle": "2024-05-31T21:47:13.052367Z",
     "shell.execute_reply": "2024-05-31T21:47:13.051270Z"
    },
    "papermill": {
     "duration": 0.093952,
     "end_time": "2024-05-31T21:47:13.055373",
     "exception": false,
     "start_time": "2024-05-31T21:47:12.961421",
     "status": "completed"
    },
    "tags": []
   },
   "outputs": [
    {
     "name": "stdout",
     "output_type": "stream",
     "text": [
      "<class 'pandas.core.frame.DataFrame'>\n",
      "RangeIndex: 1117957 entries, 0 to 1117956\n",
      "Data columns (total 31 columns):\n",
      " #   Column                           Non-Null Count    Dtype  \n",
      "---  ------                           --------------    -----  \n",
      " 0   MonsoonIntensity                 1117957 non-null  int64  \n",
      " 1   TopographyDrainage               1117957 non-null  int64  \n",
      " 2   RiverManagement                  1117957 non-null  int64  \n",
      " 3   Deforestation                    1117957 non-null  int64  \n",
      " 4   Urbanization                     1117957 non-null  int64  \n",
      " 5   ClimateChange                    1117957 non-null  int64  \n",
      " 6   DamsQuality                      1117957 non-null  int64  \n",
      " 7   Siltation                        1117957 non-null  int64  \n",
      " 8   AgriculturalPractices            1117957 non-null  int64  \n",
      " 9   Encroachments                    1117957 non-null  int64  \n",
      " 10  IneffectiveDisasterPreparedness  1117957 non-null  int64  \n",
      " 11  DrainageSystems                  1117957 non-null  int64  \n",
      " 12  CoastalVulnerability             1117957 non-null  int64  \n",
      " 13  Landslides                       1117957 non-null  int64  \n",
      " 14  Watersheds                       1117957 non-null  int64  \n",
      " 15  DeterioratingInfrastructure      1117957 non-null  int64  \n",
      " 16  PopulationScore                  1117957 non-null  int64  \n",
      " 17  WetlandLoss                      1117957 non-null  int64  \n",
      " 18  InadequatePlanning               1117957 non-null  int64  \n",
      " 19  PoliticalFactors                 1117957 non-null  int64  \n",
      " 20  std_features                     1117957 non-null  float64\n",
      " 21  mean_features                    1117957 non-null  float64\n",
      " 22  median_features                  1117957 non-null  float64\n",
      " 23  max_features                     1117957 non-null  int64  \n",
      " 24  min_features                     1117957 non-null  int64  \n",
      " 25  weather                          1117957 non-null  int64  \n",
      " 26  structure                        1117957 non-null  int64  \n",
      " 27  population                       1117957 non-null  int64  \n",
      " 28  soil_infrastructure              1117957 non-null  int64  \n",
      " 29  preparedness                     1117957 non-null  int64  \n",
      " 30  FloodProbability                 1117957 non-null  float64\n",
      "dtypes: float64(4), int64(27)\n",
      "memory usage: 264.4 MB\n"
     ]
    }
   ],
   "source": [
    "flood_dataset_df.info()"
   ]
  },
  {
   "cell_type": "code",
   "execution_count": 13,
   "id": "28026a9e",
   "metadata": {
    "execution": {
     "iopub.execute_input": "2024-05-31T21:47:13.080010Z",
     "iopub.status.busy": "2024-05-31T21:47:13.079305Z",
     "iopub.status.idle": "2024-05-31T21:47:13.105380Z",
     "shell.execute_reply": "2024-05-31T21:47:13.104382Z"
    },
    "papermill": {
     "duration": 0.040935,
     "end_time": "2024-05-31T21:47:13.107762",
     "exception": false,
     "start_time": "2024-05-31T21:47:13.066827",
     "status": "completed"
    },
    "tags": []
   },
   "outputs": [
    {
     "data": {
      "text/html": [
       "<div>\n",
       "<style scoped>\n",
       "    .dataframe tbody tr th:only-of-type {\n",
       "        vertical-align: middle;\n",
       "    }\n",
       "\n",
       "    .dataframe tbody tr th {\n",
       "        vertical-align: top;\n",
       "    }\n",
       "\n",
       "    .dataframe thead th {\n",
       "        text-align: right;\n",
       "    }\n",
       "</style>\n",
       "<table border=\"1\" class=\"dataframe\">\n",
       "  <thead>\n",
       "    <tr style=\"text-align: right;\">\n",
       "      <th></th>\n",
       "      <th>MonsoonIntensity</th>\n",
       "      <th>TopographyDrainage</th>\n",
       "      <th>RiverManagement</th>\n",
       "      <th>Deforestation</th>\n",
       "      <th>Urbanization</th>\n",
       "      <th>ClimateChange</th>\n",
       "      <th>DamsQuality</th>\n",
       "      <th>Siltation</th>\n",
       "      <th>AgriculturalPractices</th>\n",
       "      <th>Encroachments</th>\n",
       "      <th>...</th>\n",
       "      <th>mean_features</th>\n",
       "      <th>median_features</th>\n",
       "      <th>max_features</th>\n",
       "      <th>min_features</th>\n",
       "      <th>weather</th>\n",
       "      <th>structure</th>\n",
       "      <th>population</th>\n",
       "      <th>soil_infrastructure</th>\n",
       "      <th>preparedness</th>\n",
       "      <th>FloodProbability</th>\n",
       "    </tr>\n",
       "  </thead>\n",
       "  <tbody>\n",
       "    <tr>\n",
       "      <th>0</th>\n",
       "      <td>5</td>\n",
       "      <td>8</td>\n",
       "      <td>5</td>\n",
       "      <td>8</td>\n",
       "      <td>6</td>\n",
       "      <td>4</td>\n",
       "      <td>4</td>\n",
       "      <td>3</td>\n",
       "      <td>3</td>\n",
       "      <td>4</td>\n",
       "      <td>...</td>\n",
       "      <td>0.470</td>\n",
       "      <td>0.45</td>\n",
       "      <td>8</td>\n",
       "      <td>2</td>\n",
       "      <td>-9</td>\n",
       "      <td>14</td>\n",
       "      <td>-42</td>\n",
       "      <td>-3</td>\n",
       "      <td>-9</td>\n",
       "      <td>0.445</td>\n",
       "    </tr>\n",
       "    <tr>\n",
       "      <th>1</th>\n",
       "      <td>6</td>\n",
       "      <td>7</td>\n",
       "      <td>4</td>\n",
       "      <td>4</td>\n",
       "      <td>8</td>\n",
       "      <td>8</td>\n",
       "      <td>3</td>\n",
       "      <td>5</td>\n",
       "      <td>4</td>\n",
       "      <td>6</td>\n",
       "      <td>...</td>\n",
       "      <td>0.470</td>\n",
       "      <td>0.40</td>\n",
       "      <td>9</td>\n",
       "      <td>0</td>\n",
       "      <td>-14</td>\n",
       "      <td>18</td>\n",
       "      <td>-24</td>\n",
       "      <td>-1</td>\n",
       "      <td>-14</td>\n",
       "      <td>0.450</td>\n",
       "    </tr>\n",
       "    <tr>\n",
       "      <th>2</th>\n",
       "      <td>6</td>\n",
       "      <td>5</td>\n",
       "      <td>6</td>\n",
       "      <td>7</td>\n",
       "      <td>3</td>\n",
       "      <td>7</td>\n",
       "      <td>1</td>\n",
       "      <td>5</td>\n",
       "      <td>4</td>\n",
       "      <td>5</td>\n",
       "      <td>...</td>\n",
       "      <td>0.495</td>\n",
       "      <td>0.50</td>\n",
       "      <td>8</td>\n",
       "      <td>1</td>\n",
       "      <td>-13</td>\n",
       "      <td>8</td>\n",
       "      <td>-24</td>\n",
       "      <td>-8</td>\n",
       "      <td>-9</td>\n",
       "      <td>0.530</td>\n",
       "    </tr>\n",
       "    <tr>\n",
       "      <th>3</th>\n",
       "      <td>3</td>\n",
       "      <td>4</td>\n",
       "      <td>6</td>\n",
       "      <td>5</td>\n",
       "      <td>4</td>\n",
       "      <td>8</td>\n",
       "      <td>4</td>\n",
       "      <td>7</td>\n",
       "      <td>6</td>\n",
       "      <td>8</td>\n",
       "      <td>...</td>\n",
       "      <td>0.520</td>\n",
       "      <td>0.50</td>\n",
       "      <td>8</td>\n",
       "      <td>2</td>\n",
       "      <td>-11</td>\n",
       "      <td>16</td>\n",
       "      <td>-24</td>\n",
       "      <td>-8</td>\n",
       "      <td>-13</td>\n",
       "      <td>0.535</td>\n",
       "    </tr>\n",
       "    <tr>\n",
       "      <th>4</th>\n",
       "      <td>5</td>\n",
       "      <td>3</td>\n",
       "      <td>2</td>\n",
       "      <td>6</td>\n",
       "      <td>4</td>\n",
       "      <td>4</td>\n",
       "      <td>3</td>\n",
       "      <td>3</td>\n",
       "      <td>3</td>\n",
       "      <td>3</td>\n",
       "      <td>...</td>\n",
       "      <td>0.360</td>\n",
       "      <td>0.30</td>\n",
       "      <td>6</td>\n",
       "      <td>1</td>\n",
       "      <td>-9</td>\n",
       "      <td>-1</td>\n",
       "      <td>-4</td>\n",
       "      <td>-6</td>\n",
       "      <td>-11</td>\n",
       "      <td>0.415</td>\n",
       "    </tr>\n",
       "  </tbody>\n",
       "</table>\n",
       "<p>5 rows × 31 columns</p>\n",
       "</div>"
      ],
      "text/plain": [
       "   MonsoonIntensity  TopographyDrainage  RiverManagement  Deforestation  \\\n",
       "0                 5                   8                5              8   \n",
       "1                 6                   7                4              4   \n",
       "2                 6                   5                6              7   \n",
       "3                 3                   4                6              5   \n",
       "4                 5                   3                2              6   \n",
       "\n",
       "   Urbanization  ClimateChange  DamsQuality  Siltation  AgriculturalPractices  \\\n",
       "0             6              4            4          3                      3   \n",
       "1             8              8            3          5                      4   \n",
       "2             3              7            1          5                      4   \n",
       "3             4              8            4          7                      6   \n",
       "4             4              4            3          3                      3   \n",
       "\n",
       "   Encroachments  ...  mean_features  median_features  max_features  \\\n",
       "0              4  ...          0.470             0.45             8   \n",
       "1              6  ...          0.470             0.40             9   \n",
       "2              5  ...          0.495             0.50             8   \n",
       "3              8  ...          0.520             0.50             8   \n",
       "4              3  ...          0.360             0.30             6   \n",
       "\n",
       "   min_features  weather  structure  population  soil_infrastructure  \\\n",
       "0             2       -9         14         -42                   -3   \n",
       "1             0      -14         18         -24                   -1   \n",
       "2             1      -13          8         -24                   -8   \n",
       "3             2      -11         16         -24                   -8   \n",
       "4             1       -9         -1          -4                   -6   \n",
       "\n",
       "   preparedness  FloodProbability  \n",
       "0            -9             0.445  \n",
       "1           -14             0.450  \n",
       "2            -9             0.530  \n",
       "3           -13             0.535  \n",
       "4           -11             0.415  \n",
       "\n",
       "[5 rows x 31 columns]"
      ]
     },
     "execution_count": 13,
     "metadata": {},
     "output_type": "execute_result"
    }
   ],
   "source": [
    "flood_dataset_df.head(5)"
   ]
  },
  {
   "cell_type": "code",
   "execution_count": 14,
   "id": "44c69b32",
   "metadata": {
    "execution": {
     "iopub.execute_input": "2024-05-31T21:47:13.133613Z",
     "iopub.status.busy": "2024-05-31T21:47:13.133223Z",
     "iopub.status.idle": "2024-05-31T21:47:32.361475Z",
     "shell.execute_reply": "2024-05-31T21:47:32.360385Z"
    },
    "papermill": {
     "duration": 19.244305,
     "end_time": "2024-05-31T21:47:32.364490",
     "exception": false,
     "start_time": "2024-05-31T21:47:13.120185",
     "status": "completed"
    },
    "tags": []
   },
   "outputs": [],
   "source": [
    "flood_dataset_df.to_csv('train_without_preprocessing.csv', index=False)"
   ]
  },
  {
   "cell_type": "code",
   "execution_count": 15,
   "id": "6d5a327c",
   "metadata": {
    "execution": {
     "iopub.execute_input": "2024-05-31T21:47:32.389892Z",
     "iopub.status.busy": "2024-05-31T21:47:32.389438Z",
     "iopub.status.idle": "2024-05-31T21:47:32.394197Z",
     "shell.execute_reply": "2024-05-31T21:47:32.393138Z"
    },
    "papermill": {
     "duration": 0.020508,
     "end_time": "2024-05-31T21:47:32.396722",
     "exception": false,
     "start_time": "2024-05-31T21:47:32.376214",
     "status": "completed"
    },
    "tags": []
   },
   "outputs": [],
   "source": [
    "del flood_dataset_df"
   ]
  },
  {
   "cell_type": "markdown",
   "id": "bbeb92d7",
   "metadata": {
    "papermill": {
     "duration": 0.011841,
     "end_time": "2024-05-31T21:47:32.420069",
     "exception": false,
     "start_time": "2024-05-31T21:47:32.408228",
     "status": "completed"
    },
    "tags": []
   },
   "source": [
    "# **For Test Dataset!!**"
   ]
  },
  {
   "cell_type": "code",
   "execution_count": 16,
   "id": "fddf8ba2",
   "metadata": {
    "execution": {
     "iopub.execute_input": "2024-05-31T21:47:32.445011Z",
     "iopub.status.busy": "2024-05-31T21:47:32.444459Z",
     "iopub.status.idle": "2024-05-31T21:47:36.479239Z",
     "shell.execute_reply": "2024-05-31T21:47:36.477996Z"
    },
    "papermill": {
     "duration": 4.050931,
     "end_time": "2024-05-31T21:47:36.482561",
     "exception": false,
     "start_time": "2024-05-31T21:47:32.431630",
     "status": "completed"
    },
    "tags": []
   },
   "outputs": [
    {
     "name": "stdout",
     "output_type": "stream",
     "text": [
      "<class 'pandas.core.frame.DataFrame'>\n",
      "RangeIndex: 745305 entries, 0 to 745304\n",
      "Data columns (total 30 columns):\n",
      " #   Column                           Non-Null Count   Dtype  \n",
      "---  ------                           --------------   -----  \n",
      " 0   MonsoonIntensity                 745305 non-null  int64  \n",
      " 1   TopographyDrainage               745305 non-null  int64  \n",
      " 2   RiverManagement                  745305 non-null  int64  \n",
      " 3   Deforestation                    745305 non-null  int64  \n",
      " 4   Urbanization                     745305 non-null  int64  \n",
      " 5   ClimateChange                    745305 non-null  int64  \n",
      " 6   DamsQuality                      745305 non-null  int64  \n",
      " 7   Siltation                        745305 non-null  int64  \n",
      " 8   AgriculturalPractices            745305 non-null  int64  \n",
      " 9   Encroachments                    745305 non-null  int64  \n",
      " 10  IneffectiveDisasterPreparedness  745305 non-null  int64  \n",
      " 11  DrainageSystems                  745305 non-null  int64  \n",
      " 12  CoastalVulnerability             745305 non-null  int64  \n",
      " 13  Landslides                       745305 non-null  int64  \n",
      " 14  Watersheds                       745305 non-null  int64  \n",
      " 15  DeterioratingInfrastructure      745305 non-null  int64  \n",
      " 16  PopulationScore                  745305 non-null  int64  \n",
      " 17  WetlandLoss                      745305 non-null  int64  \n",
      " 18  InadequatePlanning               745305 non-null  int64  \n",
      " 19  PoliticalFactors                 745305 non-null  int64  \n",
      " 20  std_features                     745305 non-null  float64\n",
      " 21  mean_features                    745305 non-null  float64\n",
      " 22  median_features                  745305 non-null  float64\n",
      " 23  max_features                     745305 non-null  int64  \n",
      " 24  min_features                     745305 non-null  int64  \n",
      " 25  weather                          745305 non-null  int64  \n",
      " 26  structure                        745305 non-null  int64  \n",
      " 27  population                       745305 non-null  int64  \n",
      " 28  soil_infrastructure              745305 non-null  int64  \n",
      " 29  preparedness                     745305 non-null  int64  \n",
      "dtypes: float64(3), int64(27)\n",
      "memory usage: 170.6 MB\n"
     ]
    }
   ],
   "source": [
    "flood_dataset = pd.read_csv(\"/kaggle/input/playground-series-s4e5/test.csv\")\n",
    "\n",
    "flood_dataset_df=flood_dataset.copy()\n",
    "flood_dataset_df.drop(['id'], axis = 1, inplace = True)\n",
    "\n",
    "df = flood_dataset_df\n",
    "flood_dataset_df = add_features(df)\n",
    "\n",
    "flood_dataset_df = add_more_features(flood_dataset_df)\n",
    "\n",
    "flood_dataset_df.info()"
   ]
  },
  {
   "cell_type": "code",
   "execution_count": 17,
   "id": "880c3fd8",
   "metadata": {
    "execution": {
     "iopub.execute_input": "2024-05-31T21:47:36.508047Z",
     "iopub.status.busy": "2024-05-31T21:47:36.507637Z",
     "iopub.status.idle": "2024-05-31T21:47:48.711107Z",
     "shell.execute_reply": "2024-05-31T21:47:48.709875Z"
    },
    "papermill": {
     "duration": 12.219517,
     "end_time": "2024-05-31T21:47:48.713905",
     "exception": false,
     "start_time": "2024-05-31T21:47:36.494388",
     "status": "completed"
    },
    "tags": []
   },
   "outputs": [],
   "source": [
    "flood_dataset_df.to_csv('test_data.csv', index=False)"
   ]
  },
  {
   "cell_type": "markdown",
   "id": "7d0396fb",
   "metadata": {
    "papermill": {
     "duration": 0.012195,
     "end_time": "2024-05-31T21:47:48.738257",
     "exception": false,
     "start_time": "2024-05-31T21:47:48.726062",
     "status": "completed"
    },
    "tags": []
   },
   "source": [
    "# **Data Preprocessing: (add more features for each subjective columns in vertical ways)**"
   ]
  },
  {
   "cell_type": "code",
   "execution_count": 18,
   "id": "44934fcf",
   "metadata": {
    "execution": {
     "iopub.execute_input": "2024-05-31T21:47:48.763753Z",
     "iopub.status.busy": "2024-05-31T21:47:48.763294Z",
     "iopub.status.idle": "2024-05-31T21:47:52.154258Z",
     "shell.execute_reply": "2024-05-31T21:47:52.152924Z"
    },
    "papermill": {
     "duration": 3.407169,
     "end_time": "2024-05-31T21:47:52.157200",
     "exception": false,
     "start_time": "2024-05-31T21:47:48.750031",
     "status": "completed"
    },
    "tags": []
   },
   "outputs": [],
   "source": [
    "flood_dataset_df = pd.read_csv(\"/kaggle/working/train_without_preprocessing.csv\")"
   ]
  },
  {
   "cell_type": "code",
   "execution_count": 19,
   "id": "42fef14b",
   "metadata": {
    "execution": {
     "iopub.execute_input": "2024-05-31T21:47:52.182981Z",
     "iopub.status.busy": "2024-05-31T21:47:52.182148Z",
     "iopub.status.idle": "2024-05-31T21:47:52.190195Z",
     "shell.execute_reply": "2024-05-31T21:47:52.188943Z"
    },
    "papermill": {
     "duration": 0.023795,
     "end_time": "2024-05-31T21:47:52.192961",
     "exception": false,
     "start_time": "2024-05-31T21:47:52.169166",
     "status": "completed"
    },
    "tags": []
   },
   "outputs": [
    {
     "data": {
      "text/plain": [
       "Index(['MonsoonIntensity', 'TopographyDrainage', 'RiverManagement',\n",
       "       'Deforestation', 'Urbanization', 'ClimateChange', 'DamsQuality',\n",
       "       'Siltation', 'AgriculturalPractices', 'Encroachments',\n",
       "       'IneffectiveDisasterPreparedness', 'DrainageSystems',\n",
       "       'CoastalVulnerability', 'Landslides', 'Watersheds',\n",
       "       'DeterioratingInfrastructure', 'PopulationScore', 'WetlandLoss',\n",
       "       'InadequatePlanning', 'PoliticalFactors', 'std_features',\n",
       "       'mean_features', 'median_features', 'max_features', 'min_features',\n",
       "       'weather', 'structure', 'population', 'soil_infrastructure',\n",
       "       'preparedness', 'FloodProbability'],\n",
       "      dtype='object')"
      ]
     },
     "execution_count": 19,
     "metadata": {},
     "output_type": "execute_result"
    }
   ],
   "source": [
    "flood_dataset_df.columns"
   ]
  },
  {
   "cell_type": "code",
   "execution_count": 20,
   "id": "a2bd78ab",
   "metadata": {
    "execution": {
     "iopub.execute_input": "2024-05-31T21:47:52.219035Z",
     "iopub.status.busy": "2024-05-31T21:47:52.218635Z",
     "iopub.status.idle": "2024-05-31T21:47:52.243236Z",
     "shell.execute_reply": "2024-05-31T21:47:52.241899Z"
    },
    "papermill": {
     "duration": 0.040887,
     "end_time": "2024-05-31T21:47:52.245752",
     "exception": false,
     "start_time": "2024-05-31T21:47:52.204865",
     "status": "completed"
    },
    "tags": []
   },
   "outputs": [],
   "source": [
    "def add_manipulated_features(df):    \n",
    "    df['all_row_MonsoonIntensity'] = df['MonsoonIntensity'] / df['MonsoonIntensity'].mean()   \n",
    "    df['all_row_TopographyDrainage'] = df['TopographyDrainage'] / df['TopographyDrainage'].mean() \n",
    "    df['all_row_RiverManagement'] = df['RiverManagement'] / df['RiverManagement'].mean() \n",
    "    df['all_row_Deforestation'] = df['Deforestation'] / df['Deforestation'].mean() \n",
    "    df['all_row_Urbanization'] = df['Urbanization'] / df['Urbanization'].mean() \n",
    "    df['all_row_ClimateChange'] = df['ClimateChange'] / df['ClimateChange'].mean() \n",
    "    df['all_row_DamsQuality'] = df['DamsQuality'] / df['DamsQuality'].mean() \n",
    "    df['all_row_Siltation'] = df['Siltation'] / df['Siltation'].mean() \n",
    "    df['all_row_AgriculturalPractices'] = df['AgriculturalPractices'] / df['AgriculturalPractices'].mean() \n",
    "    df['all_row_Encroachments'] = df['Encroachments'] / df['Encroachments'].mean() \n",
    "    df['all_row_IneffectiveDisasterPreparedness'] = df['IneffectiveDisasterPreparedness'] / df['IneffectiveDisasterPreparedness'].mean()\n",
    "    df['all_row_DrainageSystems'] = df['DrainageSystems'] / df['DrainageSystems'].mean() \n",
    "    df['all_row_CoastalVulnerability'] = df['CoastalVulnerability'] / df['CoastalVulnerability'].mean() \n",
    "    df['all_row_Landslides'] = df['Landslides'] / df['Landslides'].mean() \n",
    "    df['all_row_Watersheds'] = df['Watersheds'] / df['Watersheds'].mean() \n",
    "    df['all_row_DeterioratingInfrastructure'] = df['DeterioratingInfrastructure'] / df['DeterioratingInfrastructure'].mean() \n",
    "    df['all_row_PopulationScore'] = df['PopulationScore'] / df['PopulationScore'].mean() \n",
    "    df['all_row_WetlandLoss'] = df['WetlandLoss'] / df['WetlandLoss'].mean()\n",
    "    df['all_row_InadequatePlanning'] = df['InadequatePlanning'] / df['InadequatePlanning'].mean() \n",
    "    df['all_row_PoliticalFactors'] = df['PoliticalFactors'] / df['PoliticalFactors'].mean() \n",
    "    df['all_row_weather'] = df['weather'] / df['weather'].mean() \n",
    "    df['all_row_structure'] = df['structure'] / df['structure'].mean()\n",
    "    df['all_row_population'] = df['population'] / df['population'].mean() \n",
    "    df['all_row_soil_infrastructure'] = df['soil_infrastructure'] / df['soil_infrastructure'].mean() \n",
    "    df['all_row_preparedness'] = df['preparedness'] / df['preparedness'].mean()\n",
    "    \n",
    "    df['rainfall_deforestation_ratio'] = df['MonsoonIntensity'] / (df['Deforestation'] + 1)\n",
    "    df['urbanization_topography_ratio'] = df['Urbanization'] / (df['TopographyDrainage'] + 1)\n",
    "    \n",
    "    df['climate_population_interaction'] = df['ClimateChange'] * df['PopulationScore']\n",
    "    df['deforestation_siltation_interaction'] = df['Deforestation'] * df['Siltation']\n",
    "    \n",
    "    df['log_monsoon_intensity'] = np.log1p(df['MonsoonIntensity'])\n",
    "    df['log_population_score'] = np.log1p(df['PopulationScore'])\n",
    "    \n",
    "    df['monsoon_intensity_squared'] = df['MonsoonIntensity'] ** 2\n",
    "    df['urbanization_cubed'] = df['Urbanization'] ** 3\n",
    "    \n",
    "    df['total_risk'] = df[['TopographyDrainage', 'Siltation', 'Landslides', 'Deforestation']].sum(axis=1)\n",
    "    df['average_management'] = df[['RiverManagement', 'DamsQuality', 'DrainageSystems']].mean(axis=1)\n",
    "    \n",
    "    df['high_monsoon'] = (df['MonsoonIntensity'] > 50).astype(int)\n",
    "    df['low_population'] = (df['PopulationScore'] < 20).astype(int)\n",
    "    \n",
    "    df['environmental_impact'] = df['Deforestation'] + df['ClimateChange'] + df['Urbanization']\n",
    "    df['management_quality'] = df['RiverManagement'] + df['DamsQuality'] + df['DrainageSystems']\n",
    "    df['risk_factors'] = df['TopographyDrainage'] + df['Siltation'] + df['Landslides']\n",
    "    df['response_capacity'] = df['IneffectiveDisasterPreparedness'] + df['InadequatePlanning'] + df['PoliticalFactors']\n",
    "    df['infrastructure_health'] = df['DeterioratingInfrastructure'] + df['WetlandLoss'] + df['Encroachments']\n",
    "    df['avg_climate_effect'] = (df['ClimateChange'] + df['MonsoonIntensity']) / 2\n",
    "    df['water_management_score'] = df['RiverManagement'] + df['Watersheds']\n",
    "    df['human_impact_score'] = df['Deforestation'] + df['Urbanization'] - df['PopulationScore']\n",
    "    df['avg_infrastructure_score'] = (df['DamsQuality'] + df['DrainageSystems'] + df['DeterioratingInfrastructure']) / 3\n",
    "    df['climate_risk_factor'] = df['ClimateChange'] * df['MonsoonIntensity']\n",
    "    df['natural_barrier_effect'] = df['Watersheds'] - df['WetlandLoss']\n",
    "    df['urban_pressure'] = df['Urbanization'] * df['PopulationScore'] / df['TopographyDrainage']\n",
    "    return df"
   ]
  },
  {
   "cell_type": "code",
   "execution_count": 21,
   "id": "3167cef3",
   "metadata": {
    "execution": {
     "iopub.execute_input": "2024-05-31T21:47:52.271582Z",
     "iopub.status.busy": "2024-05-31T21:47:52.270658Z",
     "iopub.status.idle": "2024-05-31T21:47:53.252863Z",
     "shell.execute_reply": "2024-05-31T21:47:53.251845Z"
    },
    "papermill": {
     "duration": 0.998077,
     "end_time": "2024-05-31T21:47:53.255519",
     "exception": false,
     "start_time": "2024-05-31T21:47:52.257442",
     "status": "completed"
    },
    "tags": []
   },
   "outputs": [],
   "source": [
    "flood_dataset_df = add_manipulated_features(flood_dataset_df)"
   ]
  },
  {
   "cell_type": "code",
   "execution_count": 22,
   "id": "f1880883",
   "metadata": {
    "execution": {
     "iopub.execute_input": "2024-05-31T21:47:53.281092Z",
     "iopub.status.busy": "2024-05-31T21:47:53.280683Z",
     "iopub.status.idle": "2024-05-31T21:47:53.304991Z",
     "shell.execute_reply": "2024-05-31T21:47:53.303916Z"
    },
    "papermill": {
     "duration": 0.040183,
     "end_time": "2024-05-31T21:47:53.307664",
     "exception": false,
     "start_time": "2024-05-31T21:47:53.267481",
     "status": "completed"
    },
    "tags": []
   },
   "outputs": [
    {
     "data": {
      "text/html": [
       "<div>\n",
       "<style scoped>\n",
       "    .dataframe tbody tr th:only-of-type {\n",
       "        vertical-align: middle;\n",
       "    }\n",
       "\n",
       "    .dataframe tbody tr th {\n",
       "        vertical-align: top;\n",
       "    }\n",
       "\n",
       "    .dataframe thead th {\n",
       "        text-align: right;\n",
       "    }\n",
       "</style>\n",
       "<table border=\"1\" class=\"dataframe\">\n",
       "  <thead>\n",
       "    <tr style=\"text-align: right;\">\n",
       "      <th></th>\n",
       "      <th>MonsoonIntensity</th>\n",
       "      <th>TopographyDrainage</th>\n",
       "      <th>RiverManagement</th>\n",
       "      <th>Deforestation</th>\n",
       "      <th>Urbanization</th>\n",
       "      <th>ClimateChange</th>\n",
       "      <th>DamsQuality</th>\n",
       "      <th>Siltation</th>\n",
       "      <th>AgriculturalPractices</th>\n",
       "      <th>Encroachments</th>\n",
       "      <th>...</th>\n",
       "      <th>risk_factors</th>\n",
       "      <th>response_capacity</th>\n",
       "      <th>infrastructure_health</th>\n",
       "      <th>avg_climate_effect</th>\n",
       "      <th>water_management_score</th>\n",
       "      <th>human_impact_score</th>\n",
       "      <th>avg_infrastructure_score</th>\n",
       "      <th>climate_risk_factor</th>\n",
       "      <th>natural_barrier_effect</th>\n",
       "      <th>urban_pressure</th>\n",
       "    </tr>\n",
       "  </thead>\n",
       "  <tbody>\n",
       "    <tr>\n",
       "      <th>0</th>\n",
       "      <td>5</td>\n",
       "      <td>8</td>\n",
       "      <td>5</td>\n",
       "      <td>8</td>\n",
       "      <td>6</td>\n",
       "      <td>4</td>\n",
       "      <td>4</td>\n",
       "      <td>3</td>\n",
       "      <td>3</td>\n",
       "      <td>4</td>\n",
       "      <td>...</td>\n",
       "      <td>14</td>\n",
       "      <td>12</td>\n",
       "      <td>13</td>\n",
       "      <td>4.5</td>\n",
       "      <td>10</td>\n",
       "      <td>7</td>\n",
       "      <td>4.333333</td>\n",
       "      <td>20</td>\n",
       "      <td>0</td>\n",
       "      <td>5.250000</td>\n",
       "    </tr>\n",
       "    <tr>\n",
       "      <th>1</th>\n",
       "      <td>6</td>\n",
       "      <td>7</td>\n",
       "      <td>4</td>\n",
       "      <td>4</td>\n",
       "      <td>8</td>\n",
       "      <td>8</td>\n",
       "      <td>3</td>\n",
       "      <td>5</td>\n",
       "      <td>4</td>\n",
       "      <td>6</td>\n",
       "      <td>...</td>\n",
       "      <td>12</td>\n",
       "      <td>16</td>\n",
       "      <td>14</td>\n",
       "      <td>7.0</td>\n",
       "      <td>7</td>\n",
       "      <td>9</td>\n",
       "      <td>5.000000</td>\n",
       "      <td>48</td>\n",
       "      <td>0</td>\n",
       "      <td>3.428571</td>\n",
       "    </tr>\n",
       "    <tr>\n",
       "      <th>2</th>\n",
       "      <td>6</td>\n",
       "      <td>5</td>\n",
       "      <td>6</td>\n",
       "      <td>7</td>\n",
       "      <td>3</td>\n",
       "      <td>7</td>\n",
       "      <td>1</td>\n",
       "      <td>5</td>\n",
       "      <td>4</td>\n",
       "      <td>5</td>\n",
       "      <td>...</td>\n",
       "      <td>17</td>\n",
       "      <td>12</td>\n",
       "      <td>13</td>\n",
       "      <td>6.5</td>\n",
       "      <td>11</td>\n",
       "      <td>2</td>\n",
       "      <td>4.666667</td>\n",
       "      <td>42</td>\n",
       "      <td>3</td>\n",
       "      <td>4.800000</td>\n",
       "    </tr>\n",
       "    <tr>\n",
       "      <th>3</th>\n",
       "      <td>3</td>\n",
       "      <td>4</td>\n",
       "      <td>6</td>\n",
       "      <td>5</td>\n",
       "      <td>4</td>\n",
       "      <td>8</td>\n",
       "      <td>4</td>\n",
       "      <td>7</td>\n",
       "      <td>6</td>\n",
       "      <td>8</td>\n",
       "      <td>...</td>\n",
       "      <td>18</td>\n",
       "      <td>17</td>\n",
       "      <td>17</td>\n",
       "      <td>5.5</td>\n",
       "      <td>10</td>\n",
       "      <td>3</td>\n",
       "      <td>3.333333</td>\n",
       "      <td>24</td>\n",
       "      <td>-1</td>\n",
       "      <td>6.000000</td>\n",
       "    </tr>\n",
       "    <tr>\n",
       "      <th>4</th>\n",
       "      <td>5</td>\n",
       "      <td>3</td>\n",
       "      <td>2</td>\n",
       "      <td>6</td>\n",
       "      <td>4</td>\n",
       "      <td>4</td>\n",
       "      <td>3</td>\n",
       "      <td>3</td>\n",
       "      <td>3</td>\n",
       "      <td>3</td>\n",
       "      <td>...</td>\n",
       "      <td>12</td>\n",
       "      <td>13</td>\n",
       "      <td>9</td>\n",
       "      <td>4.5</td>\n",
       "      <td>8</td>\n",
       "      <td>9</td>\n",
       "      <td>3.000000</td>\n",
       "      <td>20</td>\n",
       "      <td>4</td>\n",
       "      <td>1.333333</td>\n",
       "    </tr>\n",
       "  </tbody>\n",
       "</table>\n",
       "<p>5 rows × 80 columns</p>\n",
       "</div>"
      ],
      "text/plain": [
       "   MonsoonIntensity  TopographyDrainage  RiverManagement  Deforestation  \\\n",
       "0                 5                   8                5              8   \n",
       "1                 6                   7                4              4   \n",
       "2                 6                   5                6              7   \n",
       "3                 3                   4                6              5   \n",
       "4                 5                   3                2              6   \n",
       "\n",
       "   Urbanization  ClimateChange  DamsQuality  Siltation  AgriculturalPractices  \\\n",
       "0             6              4            4          3                      3   \n",
       "1             8              8            3          5                      4   \n",
       "2             3              7            1          5                      4   \n",
       "3             4              8            4          7                      6   \n",
       "4             4              4            3          3                      3   \n",
       "\n",
       "   Encroachments  ...  risk_factors  response_capacity  infrastructure_health  \\\n",
       "0              4  ...            14                 12                     13   \n",
       "1              6  ...            12                 16                     14   \n",
       "2              5  ...            17                 12                     13   \n",
       "3              8  ...            18                 17                     17   \n",
       "4              3  ...            12                 13                      9   \n",
       "\n",
       "   avg_climate_effect  water_management_score  human_impact_score  \\\n",
       "0                 4.5                      10                   7   \n",
       "1                 7.0                       7                   9   \n",
       "2                 6.5                      11                   2   \n",
       "3                 5.5                      10                   3   \n",
       "4                 4.5                       8                   9   \n",
       "\n",
       "   avg_infrastructure_score  climate_risk_factor  natural_barrier_effect  \\\n",
       "0                  4.333333                   20                       0   \n",
       "1                  5.000000                   48                       0   \n",
       "2                  4.666667                   42                       3   \n",
       "3                  3.333333                   24                      -1   \n",
       "4                  3.000000                   20                       4   \n",
       "\n",
       "   urban_pressure  \n",
       "0        5.250000  \n",
       "1        3.428571  \n",
       "2        4.800000  \n",
       "3        6.000000  \n",
       "4        1.333333  \n",
       "\n",
       "[5 rows x 80 columns]"
      ]
     },
     "execution_count": 22,
     "metadata": {},
     "output_type": "execute_result"
    }
   ],
   "source": [
    "flood_dataset_df.head(5)"
   ]
  },
  {
   "cell_type": "code",
   "execution_count": 23,
   "id": "4f79f3e3",
   "metadata": {
    "execution": {
     "iopub.execute_input": "2024-05-31T21:47:53.334865Z",
     "iopub.status.busy": "2024-05-31T21:47:53.334463Z",
     "iopub.status.idle": "2024-05-31T21:49:39.014166Z",
     "shell.execute_reply": "2024-05-31T21:49:39.012855Z"
    },
    "papermill": {
     "duration": 105.697155,
     "end_time": "2024-05-31T21:49:39.017220",
     "exception": false,
     "start_time": "2024-05-31T21:47:53.320065",
     "status": "completed"
    },
    "tags": []
   },
   "outputs": [],
   "source": [
    "flood_dataset_df.to_csv('train_preprocessing.csv', index=False)\n",
    "del flood_dataset_df"
   ]
  },
  {
   "cell_type": "code",
   "execution_count": 24,
   "id": "c5e7aae9",
   "metadata": {
    "execution": {
     "iopub.execute_input": "2024-05-31T21:49:39.044511Z",
     "iopub.status.busy": "2024-05-31T21:49:39.044136Z",
     "iopub.status.idle": "2024-05-31T21:50:51.852868Z",
     "shell.execute_reply": "2024-05-31T21:50:51.851822Z"
    },
    "papermill": {
     "duration": 72.825525,
     "end_time": "2024-05-31T21:50:51.855961",
     "exception": false,
     "start_time": "2024-05-31T21:49:39.030436",
     "status": "completed"
    },
    "tags": []
   },
   "outputs": [],
   "source": [
    "flood_dataset_df = pd.read_csv(\"/kaggle/working/test_data.csv\")\n",
    "flood_dataset_df = add_manipulated_features(flood_dataset_df)\n",
    "flood_dataset_df.to_csv('test_data_featured.csv', index=False)"
   ]
  },
  {
   "cell_type": "code",
   "execution_count": 25,
   "id": "56f89531",
   "metadata": {
    "execution": {
     "iopub.execute_input": "2024-05-31T21:50:51.883543Z",
     "iopub.status.busy": "2024-05-31T21:50:51.883121Z",
     "iopub.status.idle": "2024-05-31T21:50:51.905854Z",
     "shell.execute_reply": "2024-05-31T21:50:51.904625Z"
    },
    "papermill": {
     "duration": 0.039395,
     "end_time": "2024-05-31T21:50:51.908298",
     "exception": false,
     "start_time": "2024-05-31T21:50:51.868903",
     "status": "completed"
    },
    "tags": []
   },
   "outputs": [],
   "source": [
    "del flood_dataset_df"
   ]
  },
  {
   "cell_type": "code",
   "execution_count": 26,
   "id": "f7e5caf1",
   "metadata": {
    "execution": {
     "iopub.execute_input": "2024-05-31T21:50:51.935376Z",
     "iopub.status.busy": "2024-05-31T21:50:51.934464Z",
     "iopub.status.idle": "2024-05-31T21:50:55.409812Z",
     "shell.execute_reply": "2024-05-31T21:50:55.408730Z"
    },
    "papermill": {
     "duration": 3.491562,
     "end_time": "2024-05-31T21:50:55.412422",
     "exception": false,
     "start_time": "2024-05-31T21:50:51.920860",
     "status": "completed"
    },
    "tags": []
   },
   "outputs": [],
   "source": [
    "flood_dataset_df = pd.read_csv(\"/kaggle/working/train_without_preprocessing.csv\")"
   ]
  },
  {
   "cell_type": "code",
   "execution_count": 27,
   "id": "6c13799d",
   "metadata": {
    "execution": {
     "iopub.execute_input": "2024-05-31T21:50:55.441141Z",
     "iopub.status.busy": "2024-05-31T21:50:55.440775Z",
     "iopub.status.idle": "2024-05-31T21:53:42.027899Z",
     "shell.execute_reply": "2024-05-31T21:53:42.026605Z"
    },
    "papermill": {
     "duration": 166.615836,
     "end_time": "2024-05-31T21:53:42.041664",
     "exception": false,
     "start_time": "2024-05-31T21:50:55.425828",
     "status": "completed"
    },
    "tags": []
   },
   "outputs": [
    {
     "name": "stdout",
     "output_type": "stream",
     "text": [
      "Extreme Gradient Boosting RMSE Metric: 0.03758825913032963\n",
      "Extreme Gradient Boosting R-squared Metric: 0.8679998530350381\n"
     ]
    }
   ],
   "source": [
    "from sklearn.preprocessing import StandardScaler\n",
    "from sklearn.metrics import r2_score\n",
    "from sklearn.model_selection import train_test_split\n",
    "from sklearn.metrics import mean_squared_error, r2_score\n",
    "\n",
    "#flood_dataset_df.drop(['id'], axis = 1, inplace = True)\n",
    "dataX = flood_dataset_df.drop(['FloodProbability'], axis = 1)\n",
    "datay = flood_dataset_df['FloodProbability']\n",
    "\n",
    "X_train, X_test, Y_train, Y_test = train_test_split(dataX, datay, test_size = 0.3, random_state = 42)\n",
    "\n",
    "from xgboost import XGBRegressor\n",
    "xgb = XGBRegressor(learning_rate=0.01, n_estimators=3460,\n",
    "                                     max_depth=3, min_child_weight=0,\n",
    "                                     gamma=0, subsample=0.7,\n",
    "                                     colsample_bytree=0.7,\n",
    "                                     #objective='reg:linear', nthread=-1,\n",
    "                                     objective='reg:squarederror', nthread=-1,\n",
    "                                     scale_pos_weight=1, seed=27,\n",
    "                                     reg_alpha=0.00006)\n",
    "xgb_model = xgb.fit(X_train , Y_train)\n",
    "\n",
    "y_pred_xgboost = xgb_model.predict(X_test)\n",
    "\n",
    "xgboost_rmse_calculator = np.sqrt(mean_squared_error(np.log(Y_test), np.log(y_pred_xgboost)))\n",
    "xgboost_r2_metric = r2_score(Y_test, y_pred_xgboost)\n",
    "\n",
    "print(f\"Extreme Gradient Boosting RMSE Metric: {xgboost_rmse_calculator}\")\n",
    "print(f\"Extreme Gradient Boosting R-squared Metric: {xgboost_r2_metric}\")"
   ]
  },
  {
   "cell_type": "code",
   "execution_count": 28,
   "id": "17d6d2ab",
   "metadata": {
    "execution": {
     "iopub.execute_input": "2024-05-31T21:53:42.068165Z",
     "iopub.status.busy": "2024-05-31T21:53:42.067797Z",
     "iopub.status.idle": "2024-05-31T22:02:28.819151Z",
     "shell.execute_reply": "2024-05-31T22:02:28.817689Z"
    },
    "papermill": {
     "duration": 526.772809,
     "end_time": "2024-05-31T22:02:28.826757",
     "exception": false,
     "start_time": "2024-05-31T21:53:42.053948",
     "status": "completed"
    },
    "tags": []
   },
   "outputs": [
    {
     "name": "stdout",
     "output_type": "stream",
     "text": [
      "Light Gradient Boosting RMSE Metric: 0.037437269732172936\n",
      "Light Gradient Boosting R-squared Metric: 0.8689918566917086\n"
     ]
    }
   ],
   "source": [
    "from lightgbm import LGBMRegressor\n",
    "            \n",
    "lgb_params = {\n",
    "    'boosting_type': 'gbdt', \n",
    "    'n_estimators':2000, \n",
    "    'learning_rate' :  0.012,\n",
    "    'num_leaves' : 250, \n",
    "    'subsample_for_bin': 165700, \n",
    "    'min_child_samples': 114, \n",
    "    'reg_alpha': 2.075e-06, \n",
    "    'reg_lambda': 3.839e-07, \n",
    "    'colsample_bytree': 0.9634,\n",
    "    'subsample': 0.9592, \n",
    "    'max_depth': 10,\n",
    "    'random_state':0,\n",
    "    'verbosity':-1}\n",
    "\n",
    "lgbm = LGBMRegressor(**lgb_params)\n",
    "\n",
    "lgbm_model = lgbm.fit(X_train , Y_train)\n",
    "\n",
    "y_pred_lgbm = lgbm_model.predict(X_test)\n",
    "\n",
    "lgbm_rmse_calculator = np.sqrt(mean_squared_error(np.log(Y_test), np.log(y_pred_lgbm)))\n",
    "lgbm_r2_metric = r2_score(Y_test, y_pred_lgbm)\n",
    "\n",
    "print(f\"Light Gradient Boosting RMSE Metric: {lgbm_rmse_calculator}\")\n",
    "print(f\"Light Gradient Boosting R-squared Metric: {lgbm_r2_metric}\")"
   ]
  },
  {
   "cell_type": "code",
   "execution_count": 29,
   "id": "db4e5c2e",
   "metadata": {
    "execution": {
     "iopub.execute_input": "2024-05-31T22:02:28.855962Z",
     "iopub.status.busy": "2024-05-31T22:02:28.855241Z",
     "iopub.status.idle": "2024-05-31T22:09:33.919657Z",
     "shell.execute_reply": "2024-05-31T22:09:33.918491Z"
    },
    "papermill": {
     "duration": 425.082361,
     "end_time": "2024-05-31T22:09:33.922491",
     "exception": false,
     "start_time": "2024-05-31T22:02:28.840130",
     "status": "completed"
    },
    "tags": []
   },
   "outputs": [
    {
     "name": "stdout",
     "output_type": "stream",
     "text": [
      "        id  FloodProbability\n",
      "0  1117957          0.578965\n",
      "1  1117958          0.455240\n",
      "2  1117959          0.454373\n",
      "3  1117960          0.465918\n",
      "4  1117961          0.464233\n"
     ]
    }
   ],
   "source": [
    "testddata = pd.read_csv(\"/kaggle/working/test_data.csv\")\n",
    "\n",
    "input_test = pd.read_csv('/kaggle/input/playground-series-s4e5/test.csv')\n",
    "\n",
    "id_no = input_test['id']\n",
    "test_pred_lgbm = lgbm_model.predict(testddata)\n",
    "\n",
    "submission = pd.DataFrame({\n",
    "    'id': id_no,\n",
    "    'FloodProbability': test_pred_lgbm\n",
    "})\n",
    "\n",
    "print(submission.head())\n",
    "submission.to_csv('/kaggle/working/submission.csv', index=False)"
   ]
  }
 ],
 "metadata": {
  "kaggle": {
   "accelerator": "none",
   "dataSources": [
    {
     "databundleVersionId": 8121328,
     "sourceId": 73278,
     "sourceType": "competition"
    }
   ],
   "dockerImageVersionId": 30698,
   "isGpuEnabled": false,
   "isInternetEnabled": true,
   "language": "python",
   "sourceType": "notebook"
  },
  "kernelspec": {
   "display_name": "Python 3",
   "language": "python",
   "name": "python3"
  },
  "language_info": {
   "codemirror_mode": {
    "name": "ipython",
    "version": 3
   },
   "file_extension": ".py",
   "mimetype": "text/x-python",
   "name": "python",
   "nbconvert_exporter": "python",
   "pygments_lexer": "ipython3",
   "version": "3.10.13"
  },
  "papermill": {
   "default_parameters": {},
   "duration": 1354.876018,
   "end_time": "2024-05-31T22:09:34.761474",
   "environment_variables": {},
   "exception": null,
   "input_path": "__notebook__.ipynb",
   "output_path": "__notebook__.ipynb",
   "parameters": {},
   "start_time": "2024-05-31T21:46:59.885456",
   "version": "2.5.0"
  }
 },
 "nbformat": 4,
 "nbformat_minor": 5
}
