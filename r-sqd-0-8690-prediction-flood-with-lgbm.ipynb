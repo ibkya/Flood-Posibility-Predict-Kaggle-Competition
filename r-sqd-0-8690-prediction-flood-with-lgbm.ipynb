{
 "cells": [
  {
   "cell_type": "code",
   "execution_count": 1,
   "id": "7ae6c16e",
   "metadata": {
    "_cell_guid": "b1076dfc-b9ad-4769-8c92-a6c4dae69d19",
    "_uuid": "8f2839f25d086af736a60e9eeb907d3b93b6e0e5",
    "execution": {
     "iopub.execute_input": "2024-05-30T21:28:02.776399Z",
     "iopub.status.busy": "2024-05-30T21:28:02.775751Z",
     "iopub.status.idle": "2024-05-30T21:28:03.613624Z",
     "shell.execute_reply": "2024-05-30T21:28:03.612227Z"
    },
    "papermill": {
     "duration": 0.850063,
     "end_time": "2024-05-30T21:28:03.615967",
     "exception": false,
     "start_time": "2024-05-30T21:28:02.765904",
     "status": "completed"
    },
    "tags": []
   },
   "outputs": [
    {
     "name": "stdout",
     "output_type": "stream",
     "text": [
      "/kaggle/input/playground-series-s4e5/sample_submission.csv\n",
      "/kaggle/input/playground-series-s4e5/train.csv\n",
      "/kaggle/input/playground-series-s4e5/test.csv\n"
     ]
    }
   ],
   "source": [
    "import numpy as np \n",
    "import pandas as pd \n",
    "import os\n",
    "for dirname, _, filenames in os.walk('/kaggle/input'):\n",
    "    for filename in filenames:\n",
    "        print(os.path.join(dirname, filename))"
   ]
  },
  {
   "cell_type": "code",
   "execution_count": 2,
   "id": "5b1be1ae",
   "metadata": {
    "execution": {
     "iopub.execute_input": "2024-05-30T21:28:03.632965Z",
     "iopub.status.busy": "2024-05-30T21:28:03.631795Z",
     "iopub.status.idle": "2024-05-30T21:28:04.854000Z",
     "shell.execute_reply": "2024-05-30T21:28:04.852738Z"
    },
    "papermill": {
     "duration": 1.233302,
     "end_time": "2024-05-30T21:28:04.856745",
     "exception": false,
     "start_time": "2024-05-30T21:28:03.623443",
     "status": "completed"
    },
    "tags": []
   },
   "outputs": [],
   "source": [
    "from sklearn.metrics import mean_squared_error, r2_score\n",
    "from sklearn.model_selection import train_test_split"
   ]
  },
  {
   "cell_type": "code",
   "execution_count": 3,
   "id": "b1515652",
   "metadata": {
    "execution": {
     "iopub.execute_input": "2024-05-30T21:28:04.873721Z",
     "iopub.status.busy": "2024-05-30T21:28:04.872603Z",
     "iopub.status.idle": "2024-05-30T21:28:07.095714Z",
     "shell.execute_reply": "2024-05-30T21:28:07.094569Z"
    },
    "papermill": {
     "duration": 2.234713,
     "end_time": "2024-05-30T21:28:07.098858",
     "exception": false,
     "start_time": "2024-05-30T21:28:04.864145",
     "status": "completed"
    },
    "tags": []
   },
   "outputs": [],
   "source": [
    "flood_dataset = pd.read_csv(\"/kaggle/input/playground-series-s4e5/train.csv\")"
   ]
  },
  {
   "cell_type": "code",
   "execution_count": 4,
   "id": "a1b057ad",
   "metadata": {
    "execution": {
     "iopub.execute_input": "2024-05-30T21:28:07.115295Z",
     "iopub.status.busy": "2024-05-30T21:28:07.114895Z",
     "iopub.status.idle": "2024-05-30T21:28:08.097207Z",
     "shell.execute_reply": "2024-05-30T21:28:08.096085Z"
    },
    "papermill": {
     "duration": 0.994893,
     "end_time": "2024-05-30T21:28:08.101228",
     "exception": false,
     "start_time": "2024-05-30T21:28:07.106335",
     "status": "completed"
    },
    "tags": []
   },
   "outputs": [
    {
     "data": {
      "text/html": [
       "<div>\n",
       "<style scoped>\n",
       "    .dataframe tbody tr th:only-of-type {\n",
       "        vertical-align: middle;\n",
       "    }\n",
       "\n",
       "    .dataframe tbody tr th {\n",
       "        vertical-align: top;\n",
       "    }\n",
       "\n",
       "    .dataframe thead th {\n",
       "        text-align: right;\n",
       "    }\n",
       "</style>\n",
       "<table border=\"1\" class=\"dataframe\">\n",
       "  <thead>\n",
       "    <tr style=\"text-align: right;\">\n",
       "      <th></th>\n",
       "      <th>count</th>\n",
       "      <th>mean</th>\n",
       "      <th>std</th>\n",
       "      <th>min</th>\n",
       "      <th>25%</th>\n",
       "      <th>50%</th>\n",
       "      <th>75%</th>\n",
       "      <th>max</th>\n",
       "    </tr>\n",
       "  </thead>\n",
       "  <tbody>\n",
       "    <tr>\n",
       "      <th>id</th>\n",
       "      <td>1117957.0</td>\n",
       "      <td>558978.000000</td>\n",
       "      <td>322726.531784</td>\n",
       "      <td>0.000</td>\n",
       "      <td>279489.00</td>\n",
       "      <td>558978.000</td>\n",
       "      <td>838467.00</td>\n",
       "      <td>1117956.000</td>\n",
       "    </tr>\n",
       "    <tr>\n",
       "      <th>MonsoonIntensity</th>\n",
       "      <td>1117957.0</td>\n",
       "      <td>4.921450</td>\n",
       "      <td>2.056387</td>\n",
       "      <td>0.000</td>\n",
       "      <td>3.00</td>\n",
       "      <td>5.000</td>\n",
       "      <td>6.00</td>\n",
       "      <td>16.000</td>\n",
       "    </tr>\n",
       "    <tr>\n",
       "      <th>TopographyDrainage</th>\n",
       "      <td>1117957.0</td>\n",
       "      <td>4.926671</td>\n",
       "      <td>2.093879</td>\n",
       "      <td>0.000</td>\n",
       "      <td>3.00</td>\n",
       "      <td>5.000</td>\n",
       "      <td>6.00</td>\n",
       "      <td>18.000</td>\n",
       "    </tr>\n",
       "    <tr>\n",
       "      <th>RiverManagement</th>\n",
       "      <td>1117957.0</td>\n",
       "      <td>4.955322</td>\n",
       "      <td>2.072186</td>\n",
       "      <td>0.000</td>\n",
       "      <td>4.00</td>\n",
       "      <td>5.000</td>\n",
       "      <td>6.00</td>\n",
       "      <td>16.000</td>\n",
       "    </tr>\n",
       "    <tr>\n",
       "      <th>Deforestation</th>\n",
       "      <td>1117957.0</td>\n",
       "      <td>4.942240</td>\n",
       "      <td>2.051689</td>\n",
       "      <td>0.000</td>\n",
       "      <td>4.00</td>\n",
       "      <td>5.000</td>\n",
       "      <td>6.00</td>\n",
       "      <td>17.000</td>\n",
       "    </tr>\n",
       "    <tr>\n",
       "      <th>Urbanization</th>\n",
       "      <td>1117957.0</td>\n",
       "      <td>4.942517</td>\n",
       "      <td>2.083391</td>\n",
       "      <td>0.000</td>\n",
       "      <td>3.00</td>\n",
       "      <td>5.000</td>\n",
       "      <td>6.00</td>\n",
       "      <td>17.000</td>\n",
       "    </tr>\n",
       "    <tr>\n",
       "      <th>ClimateChange</th>\n",
       "      <td>1117957.0</td>\n",
       "      <td>4.934093</td>\n",
       "      <td>2.057742</td>\n",
       "      <td>0.000</td>\n",
       "      <td>3.00</td>\n",
       "      <td>5.000</td>\n",
       "      <td>6.00</td>\n",
       "      <td>17.000</td>\n",
       "    </tr>\n",
       "    <tr>\n",
       "      <th>DamsQuality</th>\n",
       "      <td>1117957.0</td>\n",
       "      <td>4.955878</td>\n",
       "      <td>2.083063</td>\n",
       "      <td>0.000</td>\n",
       "      <td>4.00</td>\n",
       "      <td>5.000</td>\n",
       "      <td>6.00</td>\n",
       "      <td>16.000</td>\n",
       "    </tr>\n",
       "    <tr>\n",
       "      <th>Siltation</th>\n",
       "      <td>1117957.0</td>\n",
       "      <td>4.927791</td>\n",
       "      <td>2.065992</td>\n",
       "      <td>0.000</td>\n",
       "      <td>3.00</td>\n",
       "      <td>5.000</td>\n",
       "      <td>6.00</td>\n",
       "      <td>16.000</td>\n",
       "    </tr>\n",
       "    <tr>\n",
       "      <th>AgriculturalPractices</th>\n",
       "      <td>1117957.0</td>\n",
       "      <td>4.942619</td>\n",
       "      <td>2.068545</td>\n",
       "      <td>0.000</td>\n",
       "      <td>3.00</td>\n",
       "      <td>5.000</td>\n",
       "      <td>6.00</td>\n",
       "      <td>16.000</td>\n",
       "    </tr>\n",
       "    <tr>\n",
       "      <th>Encroachments</th>\n",
       "      <td>1117957.0</td>\n",
       "      <td>4.949230</td>\n",
       "      <td>2.083324</td>\n",
       "      <td>0.000</td>\n",
       "      <td>4.00</td>\n",
       "      <td>5.000</td>\n",
       "      <td>6.00</td>\n",
       "      <td>18.000</td>\n",
       "    </tr>\n",
       "    <tr>\n",
       "      <th>IneffectiveDisasterPreparedness</th>\n",
       "      <td>1117957.0</td>\n",
       "      <td>4.945239</td>\n",
       "      <td>2.078141</td>\n",
       "      <td>0.000</td>\n",
       "      <td>3.00</td>\n",
       "      <td>5.000</td>\n",
       "      <td>6.00</td>\n",
       "      <td>16.000</td>\n",
       "    </tr>\n",
       "    <tr>\n",
       "      <th>DrainageSystems</th>\n",
       "      <td>1117957.0</td>\n",
       "      <td>4.946893</td>\n",
       "      <td>2.072333</td>\n",
       "      <td>0.000</td>\n",
       "      <td>4.00</td>\n",
       "      <td>5.000</td>\n",
       "      <td>6.00</td>\n",
       "      <td>17.000</td>\n",
       "    </tr>\n",
       "    <tr>\n",
       "      <th>CoastalVulnerability</th>\n",
       "      <td>1117957.0</td>\n",
       "      <td>4.953999</td>\n",
       "      <td>2.088899</td>\n",
       "      <td>0.000</td>\n",
       "      <td>3.00</td>\n",
       "      <td>5.000</td>\n",
       "      <td>6.00</td>\n",
       "      <td>17.000</td>\n",
       "    </tr>\n",
       "    <tr>\n",
       "      <th>Landslides</th>\n",
       "      <td>1117957.0</td>\n",
       "      <td>4.931376</td>\n",
       "      <td>2.078287</td>\n",
       "      <td>0.000</td>\n",
       "      <td>3.00</td>\n",
       "      <td>5.000</td>\n",
       "      <td>6.00</td>\n",
       "      <td>16.000</td>\n",
       "    </tr>\n",
       "    <tr>\n",
       "      <th>Watersheds</th>\n",
       "      <td>1117957.0</td>\n",
       "      <td>4.929032</td>\n",
       "      <td>2.082395</td>\n",
       "      <td>0.000</td>\n",
       "      <td>3.00</td>\n",
       "      <td>5.000</td>\n",
       "      <td>6.00</td>\n",
       "      <td>16.000</td>\n",
       "    </tr>\n",
       "    <tr>\n",
       "      <th>DeterioratingInfrastructure</th>\n",
       "      <td>1117957.0</td>\n",
       "      <td>4.925907</td>\n",
       "      <td>2.064813</td>\n",
       "      <td>0.000</td>\n",
       "      <td>3.00</td>\n",
       "      <td>5.000</td>\n",
       "      <td>6.00</td>\n",
       "      <td>17.000</td>\n",
       "    </tr>\n",
       "    <tr>\n",
       "      <th>PopulationScore</th>\n",
       "      <td>1117957.0</td>\n",
       "      <td>4.927520</td>\n",
       "      <td>2.074176</td>\n",
       "      <td>0.000</td>\n",
       "      <td>3.00</td>\n",
       "      <td>5.000</td>\n",
       "      <td>6.00</td>\n",
       "      <td>18.000</td>\n",
       "    </tr>\n",
       "    <tr>\n",
       "      <th>WetlandLoss</th>\n",
       "      <td>1117957.0</td>\n",
       "      <td>4.950859</td>\n",
       "      <td>2.068696</td>\n",
       "      <td>0.000</td>\n",
       "      <td>4.00</td>\n",
       "      <td>5.000</td>\n",
       "      <td>6.00</td>\n",
       "      <td>19.000</td>\n",
       "    </tr>\n",
       "    <tr>\n",
       "      <th>InadequatePlanning</th>\n",
       "      <td>1117957.0</td>\n",
       "      <td>4.940587</td>\n",
       "      <td>2.081123</td>\n",
       "      <td>0.000</td>\n",
       "      <td>3.00</td>\n",
       "      <td>5.000</td>\n",
       "      <td>6.00</td>\n",
       "      <td>16.000</td>\n",
       "    </tr>\n",
       "    <tr>\n",
       "      <th>PoliticalFactors</th>\n",
       "      <td>1117957.0</td>\n",
       "      <td>4.939004</td>\n",
       "      <td>2.090350</td>\n",
       "      <td>0.000</td>\n",
       "      <td>3.00</td>\n",
       "      <td>5.000</td>\n",
       "      <td>6.00</td>\n",
       "      <td>16.000</td>\n",
       "    </tr>\n",
       "    <tr>\n",
       "      <th>FloodProbability</th>\n",
       "      <td>1117957.0</td>\n",
       "      <td>0.504480</td>\n",
       "      <td>0.051026</td>\n",
       "      <td>0.285</td>\n",
       "      <td>0.47</td>\n",
       "      <td>0.505</td>\n",
       "      <td>0.54</td>\n",
       "      <td>0.725</td>\n",
       "    </tr>\n",
       "  </tbody>\n",
       "</table>\n",
       "</div>"
      ],
      "text/plain": [
       "                                     count           mean            std  \\\n",
       "id                               1117957.0  558978.000000  322726.531784   \n",
       "MonsoonIntensity                 1117957.0       4.921450       2.056387   \n",
       "TopographyDrainage               1117957.0       4.926671       2.093879   \n",
       "RiverManagement                  1117957.0       4.955322       2.072186   \n",
       "Deforestation                    1117957.0       4.942240       2.051689   \n",
       "Urbanization                     1117957.0       4.942517       2.083391   \n",
       "ClimateChange                    1117957.0       4.934093       2.057742   \n",
       "DamsQuality                      1117957.0       4.955878       2.083063   \n",
       "Siltation                        1117957.0       4.927791       2.065992   \n",
       "AgriculturalPractices            1117957.0       4.942619       2.068545   \n",
       "Encroachments                    1117957.0       4.949230       2.083324   \n",
       "IneffectiveDisasterPreparedness  1117957.0       4.945239       2.078141   \n",
       "DrainageSystems                  1117957.0       4.946893       2.072333   \n",
       "CoastalVulnerability             1117957.0       4.953999       2.088899   \n",
       "Landslides                       1117957.0       4.931376       2.078287   \n",
       "Watersheds                       1117957.0       4.929032       2.082395   \n",
       "DeterioratingInfrastructure      1117957.0       4.925907       2.064813   \n",
       "PopulationScore                  1117957.0       4.927520       2.074176   \n",
       "WetlandLoss                      1117957.0       4.950859       2.068696   \n",
       "InadequatePlanning               1117957.0       4.940587       2.081123   \n",
       "PoliticalFactors                 1117957.0       4.939004       2.090350   \n",
       "FloodProbability                 1117957.0       0.504480       0.051026   \n",
       "\n",
       "                                   min        25%         50%        75%  \\\n",
       "id                               0.000  279489.00  558978.000  838467.00   \n",
       "MonsoonIntensity                 0.000       3.00       5.000       6.00   \n",
       "TopographyDrainage               0.000       3.00       5.000       6.00   \n",
       "RiverManagement                  0.000       4.00       5.000       6.00   \n",
       "Deforestation                    0.000       4.00       5.000       6.00   \n",
       "Urbanization                     0.000       3.00       5.000       6.00   \n",
       "ClimateChange                    0.000       3.00       5.000       6.00   \n",
       "DamsQuality                      0.000       4.00       5.000       6.00   \n",
       "Siltation                        0.000       3.00       5.000       6.00   \n",
       "AgriculturalPractices            0.000       3.00       5.000       6.00   \n",
       "Encroachments                    0.000       4.00       5.000       6.00   \n",
       "IneffectiveDisasterPreparedness  0.000       3.00       5.000       6.00   \n",
       "DrainageSystems                  0.000       4.00       5.000       6.00   \n",
       "CoastalVulnerability             0.000       3.00       5.000       6.00   \n",
       "Landslides                       0.000       3.00       5.000       6.00   \n",
       "Watersheds                       0.000       3.00       5.000       6.00   \n",
       "DeterioratingInfrastructure      0.000       3.00       5.000       6.00   \n",
       "PopulationScore                  0.000       3.00       5.000       6.00   \n",
       "WetlandLoss                      0.000       4.00       5.000       6.00   \n",
       "InadequatePlanning               0.000       3.00       5.000       6.00   \n",
       "PoliticalFactors                 0.000       3.00       5.000       6.00   \n",
       "FloodProbability                 0.285       0.47       0.505       0.54   \n",
       "\n",
       "                                         max  \n",
       "id                               1117956.000  \n",
       "MonsoonIntensity                      16.000  \n",
       "TopographyDrainage                    18.000  \n",
       "RiverManagement                       16.000  \n",
       "Deforestation                         17.000  \n",
       "Urbanization                          17.000  \n",
       "ClimateChange                         17.000  \n",
       "DamsQuality                           16.000  \n",
       "Siltation                             16.000  \n",
       "AgriculturalPractices                 16.000  \n",
       "Encroachments                         18.000  \n",
       "IneffectiveDisasterPreparedness       16.000  \n",
       "DrainageSystems                       17.000  \n",
       "CoastalVulnerability                  17.000  \n",
       "Landslides                            16.000  \n",
       "Watersheds                            16.000  \n",
       "DeterioratingInfrastructure           17.000  \n",
       "PopulationScore                       18.000  \n",
       "WetlandLoss                           19.000  \n",
       "InadequatePlanning                    16.000  \n",
       "PoliticalFactors                      16.000  \n",
       "FloodProbability                       0.725  "
      ]
     },
     "execution_count": 4,
     "metadata": {},
     "output_type": "execute_result"
    }
   ],
   "source": [
    "flood_dataset.describe().T"
   ]
  },
  {
   "cell_type": "markdown",
   "id": "e1884143",
   "metadata": {
    "papermill": {
     "duration": 0.007989,
     "end_time": "2024-05-30T21:28:08.117392",
     "exception": false,
     "start_time": "2024-05-30T21:28:08.109403",
     "status": "completed"
    },
    "tags": []
   },
   "source": [
    "# **Data Preprocessing: (for each columns in Horizontal ways)**"
   ]
  },
  {
   "cell_type": "code",
   "execution_count": 5,
   "id": "5f58f386",
   "metadata": {
    "execution": {
     "iopub.execute_input": "2024-05-30T21:28:08.134538Z",
     "iopub.status.busy": "2024-05-30T21:28:08.134164Z",
     "iopub.status.idle": "2024-05-30T21:28:08.144508Z",
     "shell.execute_reply": "2024-05-30T21:28:08.143510Z"
    },
    "papermill": {
     "duration": 0.021562,
     "end_time": "2024-05-30T21:28:08.146762",
     "exception": false,
     "start_time": "2024-05-30T21:28:08.125200",
     "status": "completed"
    },
    "tags": []
   },
   "outputs": [],
   "source": [
    "def add_features(df):\n",
    "    addfeatures = df.columns.tolist()\n",
    "    df['std_features'] = df[addfeatures].std(axis=1)\n",
    "    df['mean_features'] = 0.1*df[addfeatures].mean(axis=1)\n",
    "    df['median_features'] = 0.1*df[addfeatures].median(axis=1)\n",
    "    df['max_features'] = df[addfeatures].max(axis=1)\n",
    "    df['min_features'] = df[addfeatures].min(axis=1)    \n",
    "    return df"
   ]
  },
  {
   "cell_type": "code",
   "execution_count": 6,
   "id": "f467bd6a",
   "metadata": {
    "execution": {
     "iopub.execute_input": "2024-05-30T21:28:08.165758Z",
     "iopub.status.busy": "2024-05-30T21:28:08.164683Z",
     "iopub.status.idle": "2024-05-30T21:28:08.332232Z",
     "shell.execute_reply": "2024-05-30T21:28:08.331310Z"
    },
    "papermill": {
     "duration": 0.179346,
     "end_time": "2024-05-30T21:28:08.335088",
     "exception": false,
     "start_time": "2024-05-30T21:28:08.155742",
     "status": "completed"
    },
    "tags": []
   },
   "outputs": [],
   "source": [
    "flood_dataset_df=flood_dataset.copy()\n",
    "flood_dataset_df.drop(['id'], axis = 1, inplace = True)"
   ]
  },
  {
   "cell_type": "code",
   "execution_count": 7,
   "id": "fcb41163",
   "metadata": {
    "execution": {
     "iopub.execute_input": "2024-05-30T21:28:08.352725Z",
     "iopub.status.busy": "2024-05-30T21:28:08.352027Z",
     "iopub.status.idle": "2024-05-30T21:28:08.417681Z",
     "shell.execute_reply": "2024-05-30T21:28:08.416628Z"
    },
    "papermill": {
     "duration": 0.077335,
     "end_time": "2024-05-30T21:28:08.420311",
     "exception": false,
     "start_time": "2024-05-30T21:28:08.342976",
     "status": "completed"
    },
    "tags": []
   },
   "outputs": [],
   "source": [
    "df = flood_dataset_df\n",
    "df1 = df.drop([\"FloodProbability\"], axis=1)"
   ]
  },
  {
   "cell_type": "code",
   "execution_count": 8,
   "id": "3a1c1448",
   "metadata": {
    "execution": {
     "iopub.execute_input": "2024-05-30T21:28:08.437966Z",
     "iopub.status.busy": "2024-05-30T21:28:08.437288Z",
     "iopub.status.idle": "2024-05-30T21:28:11.465317Z",
     "shell.execute_reply": "2024-05-30T21:28:11.464329Z"
    },
    "papermill": {
     "duration": 3.039464,
     "end_time": "2024-05-30T21:28:11.467702",
     "exception": false,
     "start_time": "2024-05-30T21:28:08.428238",
     "status": "completed"
    },
    "tags": []
   },
   "outputs": [],
   "source": [
    "flood_dataset_df = add_features(df1)\n",
    "y = df[\"FloodProbability\"]"
   ]
  },
  {
   "cell_type": "code",
   "execution_count": 9,
   "id": "9222d3f5",
   "metadata": {
    "execution": {
     "iopub.execute_input": "2024-05-30T21:28:11.485114Z",
     "iopub.status.busy": "2024-05-30T21:28:11.484739Z",
     "iopub.status.idle": "2024-05-30T21:28:11.491273Z",
     "shell.execute_reply": "2024-05-30T21:28:11.490373Z"
    },
    "papermill": {
     "duration": 0.01754,
     "end_time": "2024-05-30T21:28:11.493301",
     "exception": false,
     "start_time": "2024-05-30T21:28:11.475761",
     "status": "completed"
    },
    "tags": []
   },
   "outputs": [],
   "source": [
    "def add_more_features(flood_dataset_df):\n",
    "    flood_dataset_df['weather'] = - flood_dataset_df['MonsoonIntensity'] - flood_dataset_df['ClimateChange']\n",
    "    flood_dataset_df['structure'] = flood_dataset_df['TopographyDrainage'] + flood_dataset_df['RiverManagement'] - flood_dataset_df['Deforestation'] + flood_dataset_df['DamsQuality'] + flood_dataset_df['Encroachments'] + flood_dataset_df['DrainageSystems'] - flood_dataset_df['Watersheds'] - flood_dataset_df['DeterioratingInfrastructure'] + flood_dataset_df['WetlandLoss'] \n",
    "    flood_dataset_df['population'] = - flood_dataset_df['Urbanization'] * flood_dataset_df['PopulationScore']\n",
    "    flood_dataset_df['soil_infrastructure'] = - flood_dataset_df['Siltation'] + flood_dataset_df['AgriculturalPractices'] - flood_dataset_df['Landslides']\n",
    "    flood_dataset_df['preparedness'] = - flood_dataset_df['IneffectiveDisasterPreparedness'] + flood_dataset_df['CoastalVulnerability'] - flood_dataset_df['InadequatePlanning'] - flood_dataset_df['PoliticalFactors'] \n",
    "    return flood_dataset_df"
   ]
  },
  {
   "cell_type": "code",
   "execution_count": 10,
   "id": "c03e56b2",
   "metadata": {
    "execution": {
     "iopub.execute_input": "2024-05-30T21:28:11.511383Z",
     "iopub.status.busy": "2024-05-30T21:28:11.510781Z",
     "iopub.status.idle": "2024-05-30T21:28:11.572069Z",
     "shell.execute_reply": "2024-05-30T21:28:11.571282Z"
    },
    "papermill": {
     "duration": 0.073221,
     "end_time": "2024-05-30T21:28:11.574612",
     "exception": false,
     "start_time": "2024-05-30T21:28:11.501391",
     "status": "completed"
    },
    "tags": []
   },
   "outputs": [],
   "source": [
    "flood_dataset_df = add_more_features(flood_dataset_df)"
   ]
  },
  {
   "cell_type": "code",
   "execution_count": 11,
   "id": "92c19775",
   "metadata": {
    "execution": {
     "iopub.execute_input": "2024-05-30T21:28:11.592965Z",
     "iopub.status.busy": "2024-05-30T21:28:11.592410Z",
     "iopub.status.idle": "2024-05-30T21:28:11.599080Z",
     "shell.execute_reply": "2024-05-30T21:28:11.598008Z"
    },
    "papermill": {
     "duration": 0.019468,
     "end_time": "2024-05-30T21:28:11.602158",
     "exception": false,
     "start_time": "2024-05-30T21:28:11.582690",
     "status": "completed"
    },
    "tags": []
   },
   "outputs": [],
   "source": [
    "flood_dataset_df[\"FloodProbability\"]=y"
   ]
  },
  {
   "cell_type": "code",
   "execution_count": 12,
   "id": "2101e683",
   "metadata": {
    "execution": {
     "iopub.execute_input": "2024-05-30T21:28:11.620099Z",
     "iopub.status.busy": "2024-05-30T21:28:11.619425Z",
     "iopub.status.idle": "2024-05-30T21:28:11.695694Z",
     "shell.execute_reply": "2024-05-30T21:28:11.694640Z"
    },
    "papermill": {
     "duration": 0.08767,
     "end_time": "2024-05-30T21:28:11.698046",
     "exception": false,
     "start_time": "2024-05-30T21:28:11.610376",
     "status": "completed"
    },
    "tags": []
   },
   "outputs": [
    {
     "name": "stdout",
     "output_type": "stream",
     "text": [
      "<class 'pandas.core.frame.DataFrame'>\n",
      "RangeIndex: 1117957 entries, 0 to 1117956\n",
      "Data columns (total 31 columns):\n",
      " #   Column                           Non-Null Count    Dtype  \n",
      "---  ------                           --------------    -----  \n",
      " 0   MonsoonIntensity                 1117957 non-null  int64  \n",
      " 1   TopographyDrainage               1117957 non-null  int64  \n",
      " 2   RiverManagement                  1117957 non-null  int64  \n",
      " 3   Deforestation                    1117957 non-null  int64  \n",
      " 4   Urbanization                     1117957 non-null  int64  \n",
      " 5   ClimateChange                    1117957 non-null  int64  \n",
      " 6   DamsQuality                      1117957 non-null  int64  \n",
      " 7   Siltation                        1117957 non-null  int64  \n",
      " 8   AgriculturalPractices            1117957 non-null  int64  \n",
      " 9   Encroachments                    1117957 non-null  int64  \n",
      " 10  IneffectiveDisasterPreparedness  1117957 non-null  int64  \n",
      " 11  DrainageSystems                  1117957 non-null  int64  \n",
      " 12  CoastalVulnerability             1117957 non-null  int64  \n",
      " 13  Landslides                       1117957 non-null  int64  \n",
      " 14  Watersheds                       1117957 non-null  int64  \n",
      " 15  DeterioratingInfrastructure      1117957 non-null  int64  \n",
      " 16  PopulationScore                  1117957 non-null  int64  \n",
      " 17  WetlandLoss                      1117957 non-null  int64  \n",
      " 18  InadequatePlanning               1117957 non-null  int64  \n",
      " 19  PoliticalFactors                 1117957 non-null  int64  \n",
      " 20  std_features                     1117957 non-null  float64\n",
      " 21  mean_features                    1117957 non-null  float64\n",
      " 22  median_features                  1117957 non-null  float64\n",
      " 23  max_features                     1117957 non-null  int64  \n",
      " 24  min_features                     1117957 non-null  int64  \n",
      " 25  weather                          1117957 non-null  int64  \n",
      " 26  structure                        1117957 non-null  int64  \n",
      " 27  population                       1117957 non-null  int64  \n",
      " 28  soil_infrastructure              1117957 non-null  int64  \n",
      " 29  preparedness                     1117957 non-null  int64  \n",
      " 30  FloodProbability                 1117957 non-null  float64\n",
      "dtypes: float64(4), int64(27)\n",
      "memory usage: 264.4 MB\n"
     ]
    }
   ],
   "source": [
    "flood_dataset_df.info()"
   ]
  },
  {
   "cell_type": "code",
   "execution_count": 13,
   "id": "e3317c8e",
   "metadata": {
    "execution": {
     "iopub.execute_input": "2024-05-30T21:28:11.715809Z",
     "iopub.status.busy": "2024-05-30T21:28:11.714893Z",
     "iopub.status.idle": "2024-05-30T21:28:11.733587Z",
     "shell.execute_reply": "2024-05-30T21:28:11.732741Z"
    },
    "papermill": {
     "duration": 0.029627,
     "end_time": "2024-05-30T21:28:11.735575",
     "exception": false,
     "start_time": "2024-05-30T21:28:11.705948",
     "status": "completed"
    },
    "tags": []
   },
   "outputs": [
    {
     "data": {
      "text/html": [
       "<div>\n",
       "<style scoped>\n",
       "    .dataframe tbody tr th:only-of-type {\n",
       "        vertical-align: middle;\n",
       "    }\n",
       "\n",
       "    .dataframe tbody tr th {\n",
       "        vertical-align: top;\n",
       "    }\n",
       "\n",
       "    .dataframe thead th {\n",
       "        text-align: right;\n",
       "    }\n",
       "</style>\n",
       "<table border=\"1\" class=\"dataframe\">\n",
       "  <thead>\n",
       "    <tr style=\"text-align: right;\">\n",
       "      <th></th>\n",
       "      <th>MonsoonIntensity</th>\n",
       "      <th>TopographyDrainage</th>\n",
       "      <th>RiverManagement</th>\n",
       "      <th>Deforestation</th>\n",
       "      <th>Urbanization</th>\n",
       "      <th>ClimateChange</th>\n",
       "      <th>DamsQuality</th>\n",
       "      <th>Siltation</th>\n",
       "      <th>AgriculturalPractices</th>\n",
       "      <th>Encroachments</th>\n",
       "      <th>...</th>\n",
       "      <th>mean_features</th>\n",
       "      <th>median_features</th>\n",
       "      <th>max_features</th>\n",
       "      <th>min_features</th>\n",
       "      <th>weather</th>\n",
       "      <th>structure</th>\n",
       "      <th>population</th>\n",
       "      <th>soil_infrastructure</th>\n",
       "      <th>preparedness</th>\n",
       "      <th>FloodProbability</th>\n",
       "    </tr>\n",
       "  </thead>\n",
       "  <tbody>\n",
       "    <tr>\n",
       "      <th>0</th>\n",
       "      <td>5</td>\n",
       "      <td>8</td>\n",
       "      <td>5</td>\n",
       "      <td>8</td>\n",
       "      <td>6</td>\n",
       "      <td>4</td>\n",
       "      <td>4</td>\n",
       "      <td>3</td>\n",
       "      <td>3</td>\n",
       "      <td>4</td>\n",
       "      <td>...</td>\n",
       "      <td>0.470</td>\n",
       "      <td>0.45</td>\n",
       "      <td>8</td>\n",
       "      <td>2</td>\n",
       "      <td>-9</td>\n",
       "      <td>14</td>\n",
       "      <td>-42</td>\n",
       "      <td>-3</td>\n",
       "      <td>-9</td>\n",
       "      <td>0.445</td>\n",
       "    </tr>\n",
       "    <tr>\n",
       "      <th>1</th>\n",
       "      <td>6</td>\n",
       "      <td>7</td>\n",
       "      <td>4</td>\n",
       "      <td>4</td>\n",
       "      <td>8</td>\n",
       "      <td>8</td>\n",
       "      <td>3</td>\n",
       "      <td>5</td>\n",
       "      <td>4</td>\n",
       "      <td>6</td>\n",
       "      <td>...</td>\n",
       "      <td>0.470</td>\n",
       "      <td>0.40</td>\n",
       "      <td>9</td>\n",
       "      <td>0</td>\n",
       "      <td>-14</td>\n",
       "      <td>18</td>\n",
       "      <td>-24</td>\n",
       "      <td>-1</td>\n",
       "      <td>-14</td>\n",
       "      <td>0.450</td>\n",
       "    </tr>\n",
       "    <tr>\n",
       "      <th>2</th>\n",
       "      <td>6</td>\n",
       "      <td>5</td>\n",
       "      <td>6</td>\n",
       "      <td>7</td>\n",
       "      <td>3</td>\n",
       "      <td>7</td>\n",
       "      <td>1</td>\n",
       "      <td>5</td>\n",
       "      <td>4</td>\n",
       "      <td>5</td>\n",
       "      <td>...</td>\n",
       "      <td>0.495</td>\n",
       "      <td>0.50</td>\n",
       "      <td>8</td>\n",
       "      <td>1</td>\n",
       "      <td>-13</td>\n",
       "      <td>8</td>\n",
       "      <td>-24</td>\n",
       "      <td>-8</td>\n",
       "      <td>-9</td>\n",
       "      <td>0.530</td>\n",
       "    </tr>\n",
       "    <tr>\n",
       "      <th>3</th>\n",
       "      <td>3</td>\n",
       "      <td>4</td>\n",
       "      <td>6</td>\n",
       "      <td>5</td>\n",
       "      <td>4</td>\n",
       "      <td>8</td>\n",
       "      <td>4</td>\n",
       "      <td>7</td>\n",
       "      <td>6</td>\n",
       "      <td>8</td>\n",
       "      <td>...</td>\n",
       "      <td>0.520</td>\n",
       "      <td>0.50</td>\n",
       "      <td>8</td>\n",
       "      <td>2</td>\n",
       "      <td>-11</td>\n",
       "      <td>16</td>\n",
       "      <td>-24</td>\n",
       "      <td>-8</td>\n",
       "      <td>-13</td>\n",
       "      <td>0.535</td>\n",
       "    </tr>\n",
       "    <tr>\n",
       "      <th>4</th>\n",
       "      <td>5</td>\n",
       "      <td>3</td>\n",
       "      <td>2</td>\n",
       "      <td>6</td>\n",
       "      <td>4</td>\n",
       "      <td>4</td>\n",
       "      <td>3</td>\n",
       "      <td>3</td>\n",
       "      <td>3</td>\n",
       "      <td>3</td>\n",
       "      <td>...</td>\n",
       "      <td>0.360</td>\n",
       "      <td>0.30</td>\n",
       "      <td>6</td>\n",
       "      <td>1</td>\n",
       "      <td>-9</td>\n",
       "      <td>-1</td>\n",
       "      <td>-4</td>\n",
       "      <td>-6</td>\n",
       "      <td>-11</td>\n",
       "      <td>0.415</td>\n",
       "    </tr>\n",
       "  </tbody>\n",
       "</table>\n",
       "<p>5 rows × 31 columns</p>\n",
       "</div>"
      ],
      "text/plain": [
       "   MonsoonIntensity  TopographyDrainage  RiverManagement  Deforestation  \\\n",
       "0                 5                   8                5              8   \n",
       "1                 6                   7                4              4   \n",
       "2                 6                   5                6              7   \n",
       "3                 3                   4                6              5   \n",
       "4                 5                   3                2              6   \n",
       "\n",
       "   Urbanization  ClimateChange  DamsQuality  Siltation  AgriculturalPractices  \\\n",
       "0             6              4            4          3                      3   \n",
       "1             8              8            3          5                      4   \n",
       "2             3              7            1          5                      4   \n",
       "3             4              8            4          7                      6   \n",
       "4             4              4            3          3                      3   \n",
       "\n",
       "   Encroachments  ...  mean_features  median_features  max_features  \\\n",
       "0              4  ...          0.470             0.45             8   \n",
       "1              6  ...          0.470             0.40             9   \n",
       "2              5  ...          0.495             0.50             8   \n",
       "3              8  ...          0.520             0.50             8   \n",
       "4              3  ...          0.360             0.30             6   \n",
       "\n",
       "   min_features  weather  structure  population  soil_infrastructure  \\\n",
       "0             2       -9         14         -42                   -3   \n",
       "1             0      -14         18         -24                   -1   \n",
       "2             1      -13          8         -24                   -8   \n",
       "3             2      -11         16         -24                   -8   \n",
       "4             1       -9         -1          -4                   -6   \n",
       "\n",
       "   preparedness  FloodProbability  \n",
       "0            -9             0.445  \n",
       "1           -14             0.450  \n",
       "2            -9             0.530  \n",
       "3           -13             0.535  \n",
       "4           -11             0.415  \n",
       "\n",
       "[5 rows x 31 columns]"
      ]
     },
     "execution_count": 13,
     "metadata": {},
     "output_type": "execute_result"
    }
   ],
   "source": [
    "flood_dataset_df.head(5)"
   ]
  },
  {
   "cell_type": "code",
   "execution_count": 14,
   "id": "0eb8bd89",
   "metadata": {
    "execution": {
     "iopub.execute_input": "2024-05-30T21:28:11.754163Z",
     "iopub.status.busy": "2024-05-30T21:28:11.753598Z",
     "iopub.status.idle": "2024-05-30T21:28:23.960671Z",
     "shell.execute_reply": "2024-05-30T21:28:23.959585Z"
    },
    "papermill": {
     "duration": 12.219504,
     "end_time": "2024-05-30T21:28:23.963360",
     "exception": false,
     "start_time": "2024-05-30T21:28:11.743856",
     "status": "completed"
    },
    "tags": []
   },
   "outputs": [],
   "source": [
    "flood_dataset_df.to_csv('train_without_preprocessing.csv', index=False)"
   ]
  },
  {
   "cell_type": "code",
   "execution_count": 15,
   "id": "6005d377",
   "metadata": {
    "execution": {
     "iopub.execute_input": "2024-05-30T21:28:23.982045Z",
     "iopub.status.busy": "2024-05-30T21:28:23.981641Z",
     "iopub.status.idle": "2024-05-30T21:28:23.986526Z",
     "shell.execute_reply": "2024-05-30T21:28:23.985334Z"
    },
    "papermill": {
     "duration": 0.016926,
     "end_time": "2024-05-30T21:28:23.988683",
     "exception": false,
     "start_time": "2024-05-30T21:28:23.971757",
     "status": "completed"
    },
    "tags": []
   },
   "outputs": [],
   "source": [
    "del flood_dataset_df"
   ]
  },
  {
   "cell_type": "markdown",
   "id": "f3200707",
   "metadata": {
    "papermill": {
     "duration": 0.007937,
     "end_time": "2024-05-30T21:28:24.005005",
     "exception": false,
     "start_time": "2024-05-30T21:28:23.997068",
     "status": "completed"
    },
    "tags": []
   },
   "source": [
    "# **For Test Dataset!!**"
   ]
  },
  {
   "cell_type": "code",
   "execution_count": 16,
   "id": "22c5b25e",
   "metadata": {
    "execution": {
     "iopub.execute_input": "2024-05-30T21:28:24.023543Z",
     "iopub.status.busy": "2024-05-30T21:28:24.022480Z",
     "iopub.status.idle": "2024-05-30T21:28:27.362836Z",
     "shell.execute_reply": "2024-05-30T21:28:27.361622Z"
    },
    "papermill": {
     "duration": 3.352558,
     "end_time": "2024-05-30T21:28:27.365654",
     "exception": false,
     "start_time": "2024-05-30T21:28:24.013096",
     "status": "completed"
    },
    "tags": []
   },
   "outputs": [
    {
     "name": "stdout",
     "output_type": "stream",
     "text": [
      "<class 'pandas.core.frame.DataFrame'>\n",
      "RangeIndex: 745305 entries, 0 to 745304\n",
      "Data columns (total 30 columns):\n",
      " #   Column                           Non-Null Count   Dtype  \n",
      "---  ------                           --------------   -----  \n",
      " 0   MonsoonIntensity                 745305 non-null  int64  \n",
      " 1   TopographyDrainage               745305 non-null  int64  \n",
      " 2   RiverManagement                  745305 non-null  int64  \n",
      " 3   Deforestation                    745305 non-null  int64  \n",
      " 4   Urbanization                     745305 non-null  int64  \n",
      " 5   ClimateChange                    745305 non-null  int64  \n",
      " 6   DamsQuality                      745305 non-null  int64  \n",
      " 7   Siltation                        745305 non-null  int64  \n",
      " 8   AgriculturalPractices            745305 non-null  int64  \n",
      " 9   Encroachments                    745305 non-null  int64  \n",
      " 10  IneffectiveDisasterPreparedness  745305 non-null  int64  \n",
      " 11  DrainageSystems                  745305 non-null  int64  \n",
      " 12  CoastalVulnerability             745305 non-null  int64  \n",
      " 13  Landslides                       745305 non-null  int64  \n",
      " 14  Watersheds                       745305 non-null  int64  \n",
      " 15  DeterioratingInfrastructure      745305 non-null  int64  \n",
      " 16  PopulationScore                  745305 non-null  int64  \n",
      " 17  WetlandLoss                      745305 non-null  int64  \n",
      " 18  InadequatePlanning               745305 non-null  int64  \n",
      " 19  PoliticalFactors                 745305 non-null  int64  \n",
      " 20  std_features                     745305 non-null  float64\n",
      " 21  mean_features                    745305 non-null  float64\n",
      " 22  median_features                  745305 non-null  float64\n",
      " 23  max_features                     745305 non-null  int64  \n",
      " 24  min_features                     745305 non-null  int64  \n",
      " 25  weather                          745305 non-null  int64  \n",
      " 26  structure                        745305 non-null  int64  \n",
      " 27  population                       745305 non-null  int64  \n",
      " 28  soil_infrastructure              745305 non-null  int64  \n",
      " 29  preparedness                     745305 non-null  int64  \n",
      "dtypes: float64(3), int64(27)\n",
      "memory usage: 170.6 MB\n"
     ]
    }
   ],
   "source": [
    "flood_dataset = pd.read_csv(\"/kaggle/input/playground-series-s4e5/test.csv\")\n",
    "\n",
    "flood_dataset_df=flood_dataset.copy()\n",
    "flood_dataset_df.drop(['id'], axis = 1, inplace = True)\n",
    "\n",
    "df = flood_dataset_df\n",
    "flood_dataset_df = add_features(df)\n",
    "\n",
    "flood_dataset_df = add_more_features(flood_dataset_df)\n",
    "\n",
    "flood_dataset_df.info()"
   ]
  },
  {
   "cell_type": "code",
   "execution_count": 17,
   "id": "cfaa5cb5",
   "metadata": {
    "execution": {
     "iopub.execute_input": "2024-05-30T21:28:27.385185Z",
     "iopub.status.busy": "2024-05-30T21:28:27.384807Z",
     "iopub.status.idle": "2024-05-30T21:28:35.021435Z",
     "shell.execute_reply": "2024-05-30T21:28:35.020132Z"
    },
    "papermill": {
     "duration": 7.649323,
     "end_time": "2024-05-30T21:28:35.024195",
     "exception": false,
     "start_time": "2024-05-30T21:28:27.374872",
     "status": "completed"
    },
    "tags": []
   },
   "outputs": [],
   "source": [
    "flood_dataset_df.to_csv('test_data.csv', index=False)"
   ]
  },
  {
   "cell_type": "markdown",
   "id": "beb57856",
   "metadata": {
    "papermill": {
     "duration": 0.008465,
     "end_time": "2024-05-30T21:28:35.041154",
     "exception": false,
     "start_time": "2024-05-30T21:28:35.032689",
     "status": "completed"
    },
    "tags": []
   },
   "source": [
    "# **Data Preprocessing: (add more features for each subjective columns in vertical ways)**"
   ]
  },
  {
   "cell_type": "code",
   "execution_count": 18,
   "id": "7e3205c1",
   "metadata": {
    "execution": {
     "iopub.execute_input": "2024-05-30T21:28:35.060608Z",
     "iopub.status.busy": "2024-05-30T21:28:35.060200Z",
     "iopub.status.idle": "2024-05-30T21:28:37.648522Z",
     "shell.execute_reply": "2024-05-30T21:28:37.647550Z"
    },
    "papermill": {
     "duration": 2.601517,
     "end_time": "2024-05-30T21:28:37.651073",
     "exception": false,
     "start_time": "2024-05-30T21:28:35.049556",
     "status": "completed"
    },
    "tags": []
   },
   "outputs": [],
   "source": [
    "flood_dataset_df = pd.read_csv(\"/kaggle/working/train_without_preprocessing.csv\")"
   ]
  },
  {
   "cell_type": "code",
   "execution_count": 19,
   "id": "b0a5c896",
   "metadata": {
    "execution": {
     "iopub.execute_input": "2024-05-30T21:28:37.670045Z",
     "iopub.status.busy": "2024-05-30T21:28:37.669668Z",
     "iopub.status.idle": "2024-05-30T21:28:37.677443Z",
     "shell.execute_reply": "2024-05-30T21:28:37.676318Z"
    },
    "papermill": {
     "duration": 0.019372,
     "end_time": "2024-05-30T21:28:37.679578",
     "exception": false,
     "start_time": "2024-05-30T21:28:37.660206",
     "status": "completed"
    },
    "tags": []
   },
   "outputs": [
    {
     "data": {
      "text/plain": [
       "Index(['MonsoonIntensity', 'TopographyDrainage', 'RiverManagement',\n",
       "       'Deforestation', 'Urbanization', 'ClimateChange', 'DamsQuality',\n",
       "       'Siltation', 'AgriculturalPractices', 'Encroachments',\n",
       "       'IneffectiveDisasterPreparedness', 'DrainageSystems',\n",
       "       'CoastalVulnerability', 'Landslides', 'Watersheds',\n",
       "       'DeterioratingInfrastructure', 'PopulationScore', 'WetlandLoss',\n",
       "       'InadequatePlanning', 'PoliticalFactors', 'std_features',\n",
       "       'mean_features', 'median_features', 'max_features', 'min_features',\n",
       "       'weather', 'structure', 'population', 'soil_infrastructure',\n",
       "       'preparedness', 'FloodProbability'],\n",
       "      dtype='object')"
      ]
     },
     "execution_count": 19,
     "metadata": {},
     "output_type": "execute_result"
    }
   ],
   "source": [
    "flood_dataset_df.columns"
   ]
  },
  {
   "cell_type": "code",
   "execution_count": 20,
   "id": "7a06d217",
   "metadata": {
    "execution": {
     "iopub.execute_input": "2024-05-30T21:28:37.698738Z",
     "iopub.status.busy": "2024-05-30T21:28:37.697997Z",
     "iopub.status.idle": "2024-05-30T21:28:37.710244Z",
     "shell.execute_reply": "2024-05-30T21:28:37.708777Z"
    },
    "papermill": {
     "duration": 0.024856,
     "end_time": "2024-05-30T21:28:37.713035",
     "exception": false,
     "start_time": "2024-05-30T21:28:37.688179",
     "status": "completed"
    },
    "tags": []
   },
   "outputs": [],
   "source": [
    "def add_manipulated_features(df):    \n",
    "    df['all_row_MonsoonIntensity'] = df['MonsoonIntensity'] / df['MonsoonIntensity'].mean()   \n",
    "    df['all_row_TopographyDrainage'] = df['TopographyDrainage'] / df['TopographyDrainage'].mean() \n",
    "    df['all_row_RiverManagement'] = df['RiverManagement'] / df['RiverManagement'].mean() \n",
    "    df['all_row_Deforestation'] = df['Deforestation'] / df['Deforestation'].mean() \n",
    "    df['all_row_Urbanization'] = df['Urbanization'] / df['Urbanization'].mean() \n",
    "    df['all_row_ClimateChange'] = df['ClimateChange'] / df['ClimateChange'].mean() \n",
    "    df['all_row_DamsQuality'] = df['DamsQuality'] / df['DamsQuality'].mean() \n",
    "    df['all_row_Siltation'] = df['Siltation'] / df['Siltation'].mean() \n",
    "    df['all_row_AgriculturalPractices'] = df['AgriculturalPractices'] / df['AgriculturalPractices'].mean() \n",
    "    df['all_row_Encroachments'] = df['Encroachments'] / df['Encroachments'].mean() \n",
    "    df['all_row_IneffectiveDisasterPreparedness'] = df['IneffectiveDisasterPreparedness'] / df['IneffectiveDisasterPreparedness'].mean()\n",
    "    df['all_row_DrainageSystems'] = df['DrainageSystems'] / df['DrainageSystems'].mean() \n",
    "    df['all_row_CoastalVulnerability'] = df['CoastalVulnerability'] / df['CoastalVulnerability'].mean() \n",
    "    df['all_row_Landslides'] = df['Landslides'] / df['Landslides'].mean() \n",
    "    df['all_row_Watersheds'] = df['Watersheds'] / df['Watersheds'].mean() \n",
    "    df['all_row_DeterioratingInfrastructure'] = df['DeterioratingInfrastructure'] / df['DeterioratingInfrastructure'].mean() \n",
    "    df['all_row_PopulationScore'] = df['PopulationScore'] / df['PopulationScore'].mean() \n",
    "    df['all_row_WetlandLoss'] = df['WetlandLoss'] / df['WetlandLoss'].mean()\n",
    "    df['all_row_InadequatePlanning'] = df['InadequatePlanning'] / df['InadequatePlanning'].mean() \n",
    "    df['all_row_PoliticalFactors'] = df['PoliticalFactors'] / df['PoliticalFactors'].mean() \n",
    "    df['all_row_weather'] = df['weather'] / df['weather'].mean() \n",
    "    df['all_row_structure'] = df['structure'] / df['structure'].mean()\n",
    "    df['all_row_population'] = df['population'] / df['population'].mean() \n",
    "    df['all_row_soil_infrastructure'] = df['soil_infrastructure'] / df['soil_infrastructure'].mean() \n",
    "    df['all_row_preparedness'] = df['preparedness'] / df['preparedness'].mean() \n",
    "    return df"
   ]
  },
  {
   "cell_type": "code",
   "execution_count": 21,
   "id": "c6126852",
   "metadata": {
    "execution": {
     "iopub.execute_input": "2024-05-30T21:28:37.733351Z",
     "iopub.status.busy": "2024-05-30T21:28:37.732563Z",
     "iopub.status.idle": "2024-05-30T21:28:37.906512Z",
     "shell.execute_reply": "2024-05-30T21:28:37.905555Z"
    },
    "papermill": {
     "duration": 0.187232,
     "end_time": "2024-05-30T21:28:37.909040",
     "exception": false,
     "start_time": "2024-05-30T21:28:37.721808",
     "status": "completed"
    },
    "tags": []
   },
   "outputs": [],
   "source": [
    "flood_dataset_df = add_manipulated_features(flood_dataset_df)"
   ]
  },
  {
   "cell_type": "code",
   "execution_count": 22,
   "id": "09e6d503",
   "metadata": {
    "execution": {
     "iopub.execute_input": "2024-05-30T21:28:37.928051Z",
     "iopub.status.busy": "2024-05-30T21:28:37.927699Z",
     "iopub.status.idle": "2024-05-30T21:28:37.949929Z",
     "shell.execute_reply": "2024-05-30T21:28:37.948887Z"
    },
    "papermill": {
     "duration": 0.03462,
     "end_time": "2024-05-30T21:28:37.952273",
     "exception": false,
     "start_time": "2024-05-30T21:28:37.917653",
     "status": "completed"
    },
    "tags": []
   },
   "outputs": [
    {
     "data": {
      "text/html": [
       "<div>\n",
       "<style scoped>\n",
       "    .dataframe tbody tr th:only-of-type {\n",
       "        vertical-align: middle;\n",
       "    }\n",
       "\n",
       "    .dataframe tbody tr th {\n",
       "        vertical-align: top;\n",
       "    }\n",
       "\n",
       "    .dataframe thead th {\n",
       "        text-align: right;\n",
       "    }\n",
       "</style>\n",
       "<table border=\"1\" class=\"dataframe\">\n",
       "  <thead>\n",
       "    <tr style=\"text-align: right;\">\n",
       "      <th></th>\n",
       "      <th>MonsoonIntensity</th>\n",
       "      <th>TopographyDrainage</th>\n",
       "      <th>RiverManagement</th>\n",
       "      <th>Deforestation</th>\n",
       "      <th>Urbanization</th>\n",
       "      <th>ClimateChange</th>\n",
       "      <th>DamsQuality</th>\n",
       "      <th>Siltation</th>\n",
       "      <th>AgriculturalPractices</th>\n",
       "      <th>Encroachments</th>\n",
       "      <th>...</th>\n",
       "      <th>all_row_DeterioratingInfrastructure</th>\n",
       "      <th>all_row_PopulationScore</th>\n",
       "      <th>all_row_WetlandLoss</th>\n",
       "      <th>all_row_InadequatePlanning</th>\n",
       "      <th>all_row_PoliticalFactors</th>\n",
       "      <th>all_row_weather</th>\n",
       "      <th>all_row_structure</th>\n",
       "      <th>all_row_population</th>\n",
       "      <th>all_row_soil_infrastructure</th>\n",
       "      <th>all_row_preparedness</th>\n",
       "    </tr>\n",
       "  </thead>\n",
       "  <tbody>\n",
       "    <tr>\n",
       "      <th>0</th>\n",
       "      <td>5</td>\n",
       "      <td>8</td>\n",
       "      <td>5</td>\n",
       "      <td>8</td>\n",
       "      <td>6</td>\n",
       "      <td>4</td>\n",
       "      <td>4</td>\n",
       "      <td>3</td>\n",
       "      <td>3</td>\n",
       "      <td>4</td>\n",
       "      <td>...</td>\n",
       "      <td>0.812033</td>\n",
       "      <td>1.420593</td>\n",
       "      <td>1.009926</td>\n",
       "      <td>1.416836</td>\n",
       "      <td>0.60741</td>\n",
       "      <td>0.913192</td>\n",
       "      <td>0.940375</td>\n",
       "      <td>1.728060</td>\n",
       "      <td>0.610184</td>\n",
       "      <td>0.911777</td>\n",
       "    </tr>\n",
       "    <tr>\n",
       "      <th>1</th>\n",
       "      <td>6</td>\n",
       "      <td>7</td>\n",
       "      <td>4</td>\n",
       "      <td>4</td>\n",
       "      <td>8</td>\n",
       "      <td>8</td>\n",
       "      <td>3</td>\n",
       "      <td>5</td>\n",
       "      <td>4</td>\n",
       "      <td>6</td>\n",
       "      <td>...</td>\n",
       "      <td>1.015042</td>\n",
       "      <td>0.608826</td>\n",
       "      <td>0.605955</td>\n",
       "      <td>0.809620</td>\n",
       "      <td>0.60741</td>\n",
       "      <td>1.420520</td>\n",
       "      <td>1.209054</td>\n",
       "      <td>0.987463</td>\n",
       "      <td>0.203395</td>\n",
       "      <td>1.418320</td>\n",
       "    </tr>\n",
       "    <tr>\n",
       "      <th>2</th>\n",
       "      <td>6</td>\n",
       "      <td>5</td>\n",
       "      <td>6</td>\n",
       "      <td>7</td>\n",
       "      <td>3</td>\n",
       "      <td>7</td>\n",
       "      <td>1</td>\n",
       "      <td>5</td>\n",
       "      <td>4</td>\n",
       "      <td>5</td>\n",
       "      <td>...</td>\n",
       "      <td>1.218050</td>\n",
       "      <td>1.623535</td>\n",
       "      <td>0.403970</td>\n",
       "      <td>0.607215</td>\n",
       "      <td>0.60741</td>\n",
       "      <td>1.319055</td>\n",
       "      <td>0.537357</td>\n",
       "      <td>0.987463</td>\n",
       "      <td>1.627158</td>\n",
       "      <td>0.911777</td>\n",
       "    </tr>\n",
       "    <tr>\n",
       "      <th>3</th>\n",
       "      <td>3</td>\n",
       "      <td>4</td>\n",
       "      <td>6</td>\n",
       "      <td>5</td>\n",
       "      <td>4</td>\n",
       "      <td>8</td>\n",
       "      <td>4</td>\n",
       "      <td>7</td>\n",
       "      <td>6</td>\n",
       "      <td>8</td>\n",
       "      <td>...</td>\n",
       "      <td>0.812033</td>\n",
       "      <td>1.217651</td>\n",
       "      <td>1.009926</td>\n",
       "      <td>1.416836</td>\n",
       "      <td>1.01235</td>\n",
       "      <td>1.116123</td>\n",
       "      <td>1.074715</td>\n",
       "      <td>0.987463</td>\n",
       "      <td>1.627158</td>\n",
       "      <td>1.317012</td>\n",
       "    </tr>\n",
       "    <tr>\n",
       "      <th>4</th>\n",
       "      <td>5</td>\n",
       "      <td>3</td>\n",
       "      <td>2</td>\n",
       "      <td>6</td>\n",
       "      <td>4</td>\n",
       "      <td>4</td>\n",
       "      <td>3</td>\n",
       "      <td>3</td>\n",
       "      <td>3</td>\n",
       "      <td>3</td>\n",
       "      <td>...</td>\n",
       "      <td>0.812033</td>\n",
       "      <td>0.202942</td>\n",
       "      <td>0.403970</td>\n",
       "      <td>0.607215</td>\n",
       "      <td>1.01235</td>\n",
       "      <td>0.913192</td>\n",
       "      <td>-0.067170</td>\n",
       "      <td>0.164577</td>\n",
       "      <td>1.220369</td>\n",
       "      <td>1.114395</td>\n",
       "    </tr>\n",
       "  </tbody>\n",
       "</table>\n",
       "<p>5 rows × 56 columns</p>\n",
       "</div>"
      ],
      "text/plain": [
       "   MonsoonIntensity  TopographyDrainage  RiverManagement  Deforestation  \\\n",
       "0                 5                   8                5              8   \n",
       "1                 6                   7                4              4   \n",
       "2                 6                   5                6              7   \n",
       "3                 3                   4                6              5   \n",
       "4                 5                   3                2              6   \n",
       "\n",
       "   Urbanization  ClimateChange  DamsQuality  Siltation  AgriculturalPractices  \\\n",
       "0             6              4            4          3                      3   \n",
       "1             8              8            3          5                      4   \n",
       "2             3              7            1          5                      4   \n",
       "3             4              8            4          7                      6   \n",
       "4             4              4            3          3                      3   \n",
       "\n",
       "   Encroachments  ...  all_row_DeterioratingInfrastructure  \\\n",
       "0              4  ...                             0.812033   \n",
       "1              6  ...                             1.015042   \n",
       "2              5  ...                             1.218050   \n",
       "3              8  ...                             0.812033   \n",
       "4              3  ...                             0.812033   \n",
       "\n",
       "   all_row_PopulationScore  all_row_WetlandLoss  all_row_InadequatePlanning  \\\n",
       "0                 1.420593             1.009926                    1.416836   \n",
       "1                 0.608826             0.605955                    0.809620   \n",
       "2                 1.623535             0.403970                    0.607215   \n",
       "3                 1.217651             1.009926                    1.416836   \n",
       "4                 0.202942             0.403970                    0.607215   \n",
       "\n",
       "   all_row_PoliticalFactors  all_row_weather  all_row_structure  \\\n",
       "0                   0.60741         0.913192           0.940375   \n",
       "1                   0.60741         1.420520           1.209054   \n",
       "2                   0.60741         1.319055           0.537357   \n",
       "3                   1.01235         1.116123           1.074715   \n",
       "4                   1.01235         0.913192          -0.067170   \n",
       "\n",
       "   all_row_population  all_row_soil_infrastructure  all_row_preparedness  \n",
       "0            1.728060                     0.610184              0.911777  \n",
       "1            0.987463                     0.203395              1.418320  \n",
       "2            0.987463                     1.627158              0.911777  \n",
       "3            0.987463                     1.627158              1.317012  \n",
       "4            0.164577                     1.220369              1.114395  \n",
       "\n",
       "[5 rows x 56 columns]"
      ]
     },
     "execution_count": 22,
     "metadata": {},
     "output_type": "execute_result"
    }
   ],
   "source": [
    "flood_dataset_df.head(5)"
   ]
  },
  {
   "cell_type": "code",
   "execution_count": 23,
   "id": "dd09a7a1",
   "metadata": {
    "execution": {
     "iopub.execute_input": "2024-05-30T21:28:37.972832Z",
     "iopub.status.busy": "2024-05-30T21:28:37.972072Z",
     "iopub.status.idle": "2024-05-30T21:29:34.276697Z",
     "shell.execute_reply": "2024-05-30T21:29:34.275623Z"
    },
    "papermill": {
     "duration": 56.317514,
     "end_time": "2024-05-30T21:29:34.279416",
     "exception": false,
     "start_time": "2024-05-30T21:28:37.961902",
     "status": "completed"
    },
    "tags": []
   },
   "outputs": [],
   "source": [
    "flood_dataset_df.to_csv('train_preprocessing.csv', index=False)\n",
    "del flood_dataset_df"
   ]
  },
  {
   "cell_type": "code",
   "execution_count": 24,
   "id": "695a9d95",
   "metadata": {
    "execution": {
     "iopub.execute_input": "2024-05-30T21:29:34.299582Z",
     "iopub.status.busy": "2024-05-30T21:29:34.299179Z",
     "iopub.status.idle": "2024-05-30T21:30:13.147956Z",
     "shell.execute_reply": "2024-05-30T21:30:13.146838Z"
    },
    "papermill": {
     "duration": 38.861603,
     "end_time": "2024-05-30T21:30:13.150502",
     "exception": false,
     "start_time": "2024-05-30T21:29:34.288899",
     "status": "completed"
    },
    "tags": []
   },
   "outputs": [],
   "source": [
    "flood_dataset_df = pd.read_csv(\"/kaggle/working/test_data.csv\")\n",
    "flood_dataset_df = add_manipulated_features(flood_dataset_df)\n",
    "flood_dataset_df.to_csv('test_data_featured.csv', index=False)"
   ]
  },
  {
   "cell_type": "code",
   "execution_count": 25,
   "id": "cf7d6012",
   "metadata": {
    "execution": {
     "iopub.execute_input": "2024-05-30T21:30:13.170279Z",
     "iopub.status.busy": "2024-05-30T21:30:13.169873Z",
     "iopub.status.idle": "2024-05-30T21:30:13.181771Z",
     "shell.execute_reply": "2024-05-30T21:30:13.180659Z"
    },
    "papermill": {
     "duration": 0.024209,
     "end_time": "2024-05-30T21:30:13.183952",
     "exception": false,
     "start_time": "2024-05-30T21:30:13.159743",
     "status": "completed"
    },
    "tags": []
   },
   "outputs": [],
   "source": [
    "del flood_dataset_df"
   ]
  },
  {
   "cell_type": "code",
   "execution_count": 26,
   "id": "d4cd411b",
   "metadata": {
    "execution": {
     "iopub.execute_input": "2024-05-30T21:30:13.203820Z",
     "iopub.status.busy": "2024-05-30T21:30:13.203088Z",
     "iopub.status.idle": "2024-05-30T21:30:15.877699Z",
     "shell.execute_reply": "2024-05-30T21:30:15.876845Z"
    },
    "papermill": {
     "duration": 2.68729,
     "end_time": "2024-05-30T21:30:15.880160",
     "exception": false,
     "start_time": "2024-05-30T21:30:13.192870",
     "status": "completed"
    },
    "tags": []
   },
   "outputs": [],
   "source": [
    "flood_dataset_df = pd.read_csv(\"/kaggle/working/train_without_preprocessing.csv\")"
   ]
  },
  {
   "cell_type": "code",
   "execution_count": 27,
   "id": "c2a15b5d",
   "metadata": {
    "execution": {
     "iopub.execute_input": "2024-05-30T21:30:15.899836Z",
     "iopub.status.busy": "2024-05-30T21:30:15.899104Z",
     "iopub.status.idle": "2024-05-30T21:33:01.097929Z",
     "shell.execute_reply": "2024-05-30T21:33:01.096624Z"
    },
    "papermill": {
     "duration": 165.218996,
     "end_time": "2024-05-30T21:33:01.108083",
     "exception": false,
     "start_time": "2024-05-30T21:30:15.889087",
     "status": "completed"
    },
    "tags": []
   },
   "outputs": [
    {
     "name": "stdout",
     "output_type": "stream",
     "text": [
      "Extreme Gradient Boosting RMSE Metric: 0.03758825913032963\n",
      "Extreme Gradient Boosting R-squared Metric: 0.8679998530350381\n"
     ]
    }
   ],
   "source": [
    "from sklearn.preprocessing import StandardScaler\n",
    "from sklearn.metrics import r2_score\n",
    "from sklearn.model_selection import train_test_split\n",
    "from sklearn.metrics import mean_squared_error, r2_score\n",
    "\n",
    "#flood_dataset_df.drop(['id'], axis = 1, inplace = True)\n",
    "dataX = flood_dataset_df.drop(['FloodProbability'], axis = 1)\n",
    "datay = flood_dataset_df['FloodProbability']\n",
    "\n",
    "X_train, X_test, Y_train, Y_test = train_test_split(dataX, datay, test_size = 0.3, random_state = 42)\n",
    "\n",
    "from xgboost import XGBRegressor\n",
    "xgb = XGBRegressor(learning_rate=0.01, n_estimators=3460,\n",
    "                                     max_depth=3, min_child_weight=0,\n",
    "                                     gamma=0, subsample=0.7,\n",
    "                                     colsample_bytree=0.7,\n",
    "                                     #objective='reg:linear', nthread=-1,\n",
    "                                     objective='reg:squarederror', nthread=-1,\n",
    "                                     scale_pos_weight=1, seed=27,\n",
    "                                     reg_alpha=0.00006)\n",
    "xgb_model = xgb.fit(X_train , Y_train)\n",
    "\n",
    "y_pred_xgboost = xgb_model.predict(X_test)\n",
    "\n",
    "xgboost_rmse_calculator = np.sqrt(mean_squared_error(np.log(Y_test), np.log(y_pred_xgboost)))\n",
    "xgboost_r2_metric = r2_score(Y_test, y_pred_xgboost)\n",
    "\n",
    "print(f\"Extreme Gradient Boosting RMSE Metric: {xgboost_rmse_calculator}\")\n",
    "print(f\"Extreme Gradient Boosting R-squared Metric: {xgboost_r2_metric}\")"
   ]
  },
  {
   "cell_type": "code",
   "execution_count": 28,
   "id": "ebe41e8e",
   "metadata": {
    "execution": {
     "iopub.execute_input": "2024-05-30T21:33:01.128304Z",
     "iopub.status.busy": "2024-05-30T21:33:01.127244Z",
     "iopub.status.idle": "2024-05-30T21:33:18.015810Z",
     "shell.execute_reply": "2024-05-30T21:33:18.014693Z"
    },
    "papermill": {
     "duration": 16.901448,
     "end_time": "2024-05-30T21:33:18.018330",
     "exception": false,
     "start_time": "2024-05-30T21:33:01.116882",
     "status": "completed"
    },
    "tags": []
   },
   "outputs": [
    {
     "name": "stdout",
     "output_type": "stream",
     "text": [
      "[LightGBM] [Info] Auto-choosing col-wise multi-threading, the overhead of testing was 0.342301 seconds.\n",
      "You can set `force_col_wise=true` to remove the overhead.\n",
      "[LightGBM] [Info] Total Bins 929\n",
      "[LightGBM] [Info] Number of data points in the train set: 782569, number of used features: 30\n",
      "[LightGBM] [Info] Start training from score 0.504497\n",
      "Light Gradient Boosting RMSE Metric: 0.03742934568845894\n",
      "Light Gradient Boosting R-squared Metric: 0.869040481677781\n"
     ]
    }
   ],
   "source": [
    "from lightgbm import LGBMRegressor\n",
    "            \n",
    "\n",
    "\n",
    "lgbm = LGBMRegressor()\n",
    "\n",
    "lgbm_model = lgbm.fit(X_train , Y_train)\n",
    "\n",
    "y_pred_lgbm = lgbm_model.predict(X_test)\n",
    "\n",
    "lgbm_rmse_calculator = np.sqrt(mean_squared_error(np.log(Y_test), np.log(y_pred_lgbm)))\n",
    "lgbm_r2_metric = r2_score(Y_test, y_pred_lgbm)\n",
    "\n",
    "print(f\"Light Gradient Boosting RMSE Metric: {lgbm_rmse_calculator}\")\n",
    "print(f\"Light Gradient Boosting R-squared Metric: {lgbm_r2_metric}\")"
   ]
  },
  {
   "cell_type": "code",
   "execution_count": 29,
   "id": "52c5fc16",
   "metadata": {
    "execution": {
     "iopub.execute_input": "2024-05-30T21:33:18.039004Z",
     "iopub.status.busy": "2024-05-30T21:33:18.038132Z",
     "iopub.status.idle": "2024-05-30T21:33:26.050463Z",
     "shell.execute_reply": "2024-05-30T21:33:26.049295Z"
    },
    "papermill": {
     "duration": 8.025549,
     "end_time": "2024-05-30T21:33:26.053208",
     "exception": false,
     "start_time": "2024-05-30T21:33:18.027659",
     "status": "completed"
    },
    "tags": []
   },
   "outputs": [
    {
     "name": "stdout",
     "output_type": "stream",
     "text": [
      "        id  FloodProbability\n",
      "0  1117957          0.577248\n",
      "1  1117958          0.454856\n",
      "2  1117959          0.450489\n",
      "3  1117960          0.467437\n",
      "4  1117961          0.467600\n"
     ]
    }
   ],
   "source": [
    "testddata = pd.read_csv(\"/kaggle/working/test_data.csv\")\n",
    "\n",
    "input_test = pd.read_csv('/kaggle/input/playground-series-s4e5/test.csv')\n",
    "\n",
    "id_no = input_test['id']\n",
    "test_pred_lgbm = lgbm_model.predict(testddata)\n",
    "\n",
    "submission = pd.DataFrame({\n",
    "    'id': id_no,\n",
    "    'FloodProbability': test_pred_lgbm\n",
    "})\n",
    "\n",
    "print(submission.head())\n",
    "submission.to_csv('/kaggle/working/submission.csv', index=False)"
   ]
  }
 ],
 "metadata": {
  "kaggle": {
   "accelerator": "none",
   "dataSources": [
    {
     "databundleVersionId": 8121328,
     "sourceId": 73278,
     "sourceType": "competition"
    }
   ],
   "dockerImageVersionId": 30698,
   "isGpuEnabled": false,
   "isInternetEnabled": true,
   "language": "python",
   "sourceType": "notebook"
  },
  "kernelspec": {
   "display_name": "Python 3",
   "language": "python",
   "name": "python3"
  },
  "language_info": {
   "codemirror_mode": {
    "name": "ipython",
    "version": 3
   },
   "file_extension": ".py",
   "mimetype": "text/x-python",
   "name": "python",
   "nbconvert_exporter": "python",
   "pygments_lexer": "ipython3",
   "version": "3.10.13"
  },
  "papermill": {
   "default_parameters": {},
   "duration": 326.831739,
   "end_time": "2024-05-30T21:33:26.784848",
   "environment_variables": {},
   "exception": null,
   "input_path": "__notebook__.ipynb",
   "output_path": "__notebook__.ipynb",
   "parameters": {},
   "start_time": "2024-05-30T21:27:59.953109",
   "version": "2.5.0"
  }
 },
 "nbformat": 4,
 "nbformat_minor": 5
}
