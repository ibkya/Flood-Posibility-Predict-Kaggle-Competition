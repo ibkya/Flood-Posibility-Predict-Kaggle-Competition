{
 "cells": [
  {
   "cell_type": "code",
   "execution_count": 1,
   "id": "1458026a",
   "metadata": {
    "_cell_guid": "b1076dfc-b9ad-4769-8c92-a6c4dae69d19",
    "_uuid": "8f2839f25d086af736a60e9eeb907d3b93b6e0e5",
    "execution": {
     "iopub.execute_input": "2024-05-30T21:37:21.956119Z",
     "iopub.status.busy": "2024-05-30T21:37:21.955618Z",
     "iopub.status.idle": "2024-05-30T21:37:22.981930Z",
     "shell.execute_reply": "2024-05-30T21:37:22.980754Z"
    },
    "papermill": {
     "duration": 1.041754,
     "end_time": "2024-05-30T21:37:22.984767",
     "exception": false,
     "start_time": "2024-05-30T21:37:21.943013",
     "status": "completed"
    },
    "tags": []
   },
   "outputs": [
    {
     "name": "stdout",
     "output_type": "stream",
     "text": [
      "/kaggle/input/playground-series-s4e5/sample_submission.csv\n",
      "/kaggle/input/playground-series-s4e5/train.csv\n",
      "/kaggle/input/playground-series-s4e5/test.csv\n"
     ]
    }
   ],
   "source": [
    "import numpy as np \n",
    "import pandas as pd \n",
    "import os\n",
    "for dirname, _, filenames in os.walk('/kaggle/input'):\n",
    "    for filename in filenames:\n",
    "        print(os.path.join(dirname, filename))"
   ]
  },
  {
   "cell_type": "code",
   "execution_count": 2,
   "id": "4d350cef",
   "metadata": {
    "execution": {
     "iopub.execute_input": "2024-05-30T21:37:23.009158Z",
     "iopub.status.busy": "2024-05-30T21:37:23.007489Z",
     "iopub.status.idle": "2024-05-30T21:37:24.463714Z",
     "shell.execute_reply": "2024-05-30T21:37:24.462460Z"
    },
    "papermill": {
     "duration": 1.471456,
     "end_time": "2024-05-30T21:37:24.467030",
     "exception": false,
     "start_time": "2024-05-30T21:37:22.995574",
     "status": "completed"
    },
    "tags": []
   },
   "outputs": [],
   "source": [
    "from sklearn.metrics import mean_squared_error, r2_score\n",
    "from sklearn.model_selection import train_test_split"
   ]
  },
  {
   "cell_type": "code",
   "execution_count": 3,
   "id": "c07194b3",
   "metadata": {
    "execution": {
     "iopub.execute_input": "2024-05-30T21:37:24.494593Z",
     "iopub.status.busy": "2024-05-30T21:37:24.494074Z",
     "iopub.status.idle": "2024-05-30T21:37:27.049083Z",
     "shell.execute_reply": "2024-05-30T21:37:27.048016Z"
    },
    "papermill": {
     "duration": 2.569992,
     "end_time": "2024-05-30T21:37:27.052017",
     "exception": false,
     "start_time": "2024-05-30T21:37:24.482025",
     "status": "completed"
    },
    "tags": []
   },
   "outputs": [],
   "source": [
    "flood_dataset = pd.read_csv(\"/kaggle/input/playground-series-s4e5/train.csv\")"
   ]
  },
  {
   "cell_type": "code",
   "execution_count": 4,
   "id": "d3d2abf0",
   "metadata": {
    "execution": {
     "iopub.execute_input": "2024-05-30T21:37:27.075303Z",
     "iopub.status.busy": "2024-05-30T21:37:27.074894Z",
     "iopub.status.idle": "2024-05-30T21:37:28.063521Z",
     "shell.execute_reply": "2024-05-30T21:37:28.062314Z"
    },
    "papermill": {
     "duration": 1.003314,
     "end_time": "2024-05-30T21:37:28.066129",
     "exception": false,
     "start_time": "2024-05-30T21:37:27.062815",
     "status": "completed"
    },
    "tags": []
   },
   "outputs": [
    {
     "data": {
      "text/html": [
       "<div>\n",
       "<style scoped>\n",
       "    .dataframe tbody tr th:only-of-type {\n",
       "        vertical-align: middle;\n",
       "    }\n",
       "\n",
       "    .dataframe tbody tr th {\n",
       "        vertical-align: top;\n",
       "    }\n",
       "\n",
       "    .dataframe thead th {\n",
       "        text-align: right;\n",
       "    }\n",
       "</style>\n",
       "<table border=\"1\" class=\"dataframe\">\n",
       "  <thead>\n",
       "    <tr style=\"text-align: right;\">\n",
       "      <th></th>\n",
       "      <th>count</th>\n",
       "      <th>mean</th>\n",
       "      <th>std</th>\n",
       "      <th>min</th>\n",
       "      <th>25%</th>\n",
       "      <th>50%</th>\n",
       "      <th>75%</th>\n",
       "      <th>max</th>\n",
       "    </tr>\n",
       "  </thead>\n",
       "  <tbody>\n",
       "    <tr>\n",
       "      <th>id</th>\n",
       "      <td>1117957.0</td>\n",
       "      <td>558978.000000</td>\n",
       "      <td>322726.531784</td>\n",
       "      <td>0.000</td>\n",
       "      <td>279489.00</td>\n",
       "      <td>558978.000</td>\n",
       "      <td>838467.00</td>\n",
       "      <td>1117956.000</td>\n",
       "    </tr>\n",
       "    <tr>\n",
       "      <th>MonsoonIntensity</th>\n",
       "      <td>1117957.0</td>\n",
       "      <td>4.921450</td>\n",
       "      <td>2.056387</td>\n",
       "      <td>0.000</td>\n",
       "      <td>3.00</td>\n",
       "      <td>5.000</td>\n",
       "      <td>6.00</td>\n",
       "      <td>16.000</td>\n",
       "    </tr>\n",
       "    <tr>\n",
       "      <th>TopographyDrainage</th>\n",
       "      <td>1117957.0</td>\n",
       "      <td>4.926671</td>\n",
       "      <td>2.093879</td>\n",
       "      <td>0.000</td>\n",
       "      <td>3.00</td>\n",
       "      <td>5.000</td>\n",
       "      <td>6.00</td>\n",
       "      <td>18.000</td>\n",
       "    </tr>\n",
       "    <tr>\n",
       "      <th>RiverManagement</th>\n",
       "      <td>1117957.0</td>\n",
       "      <td>4.955322</td>\n",
       "      <td>2.072186</td>\n",
       "      <td>0.000</td>\n",
       "      <td>4.00</td>\n",
       "      <td>5.000</td>\n",
       "      <td>6.00</td>\n",
       "      <td>16.000</td>\n",
       "    </tr>\n",
       "    <tr>\n",
       "      <th>Deforestation</th>\n",
       "      <td>1117957.0</td>\n",
       "      <td>4.942240</td>\n",
       "      <td>2.051689</td>\n",
       "      <td>0.000</td>\n",
       "      <td>4.00</td>\n",
       "      <td>5.000</td>\n",
       "      <td>6.00</td>\n",
       "      <td>17.000</td>\n",
       "    </tr>\n",
       "    <tr>\n",
       "      <th>Urbanization</th>\n",
       "      <td>1117957.0</td>\n",
       "      <td>4.942517</td>\n",
       "      <td>2.083391</td>\n",
       "      <td>0.000</td>\n",
       "      <td>3.00</td>\n",
       "      <td>5.000</td>\n",
       "      <td>6.00</td>\n",
       "      <td>17.000</td>\n",
       "    </tr>\n",
       "    <tr>\n",
       "      <th>ClimateChange</th>\n",
       "      <td>1117957.0</td>\n",
       "      <td>4.934093</td>\n",
       "      <td>2.057742</td>\n",
       "      <td>0.000</td>\n",
       "      <td>3.00</td>\n",
       "      <td>5.000</td>\n",
       "      <td>6.00</td>\n",
       "      <td>17.000</td>\n",
       "    </tr>\n",
       "    <tr>\n",
       "      <th>DamsQuality</th>\n",
       "      <td>1117957.0</td>\n",
       "      <td>4.955878</td>\n",
       "      <td>2.083063</td>\n",
       "      <td>0.000</td>\n",
       "      <td>4.00</td>\n",
       "      <td>5.000</td>\n",
       "      <td>6.00</td>\n",
       "      <td>16.000</td>\n",
       "    </tr>\n",
       "    <tr>\n",
       "      <th>Siltation</th>\n",
       "      <td>1117957.0</td>\n",
       "      <td>4.927791</td>\n",
       "      <td>2.065992</td>\n",
       "      <td>0.000</td>\n",
       "      <td>3.00</td>\n",
       "      <td>5.000</td>\n",
       "      <td>6.00</td>\n",
       "      <td>16.000</td>\n",
       "    </tr>\n",
       "    <tr>\n",
       "      <th>AgriculturalPractices</th>\n",
       "      <td>1117957.0</td>\n",
       "      <td>4.942619</td>\n",
       "      <td>2.068545</td>\n",
       "      <td>0.000</td>\n",
       "      <td>3.00</td>\n",
       "      <td>5.000</td>\n",
       "      <td>6.00</td>\n",
       "      <td>16.000</td>\n",
       "    </tr>\n",
       "    <tr>\n",
       "      <th>Encroachments</th>\n",
       "      <td>1117957.0</td>\n",
       "      <td>4.949230</td>\n",
       "      <td>2.083324</td>\n",
       "      <td>0.000</td>\n",
       "      <td>4.00</td>\n",
       "      <td>5.000</td>\n",
       "      <td>6.00</td>\n",
       "      <td>18.000</td>\n",
       "    </tr>\n",
       "    <tr>\n",
       "      <th>IneffectiveDisasterPreparedness</th>\n",
       "      <td>1117957.0</td>\n",
       "      <td>4.945239</td>\n",
       "      <td>2.078141</td>\n",
       "      <td>0.000</td>\n",
       "      <td>3.00</td>\n",
       "      <td>5.000</td>\n",
       "      <td>6.00</td>\n",
       "      <td>16.000</td>\n",
       "    </tr>\n",
       "    <tr>\n",
       "      <th>DrainageSystems</th>\n",
       "      <td>1117957.0</td>\n",
       "      <td>4.946893</td>\n",
       "      <td>2.072333</td>\n",
       "      <td>0.000</td>\n",
       "      <td>4.00</td>\n",
       "      <td>5.000</td>\n",
       "      <td>6.00</td>\n",
       "      <td>17.000</td>\n",
       "    </tr>\n",
       "    <tr>\n",
       "      <th>CoastalVulnerability</th>\n",
       "      <td>1117957.0</td>\n",
       "      <td>4.953999</td>\n",
       "      <td>2.088899</td>\n",
       "      <td>0.000</td>\n",
       "      <td>3.00</td>\n",
       "      <td>5.000</td>\n",
       "      <td>6.00</td>\n",
       "      <td>17.000</td>\n",
       "    </tr>\n",
       "    <tr>\n",
       "      <th>Landslides</th>\n",
       "      <td>1117957.0</td>\n",
       "      <td>4.931376</td>\n",
       "      <td>2.078287</td>\n",
       "      <td>0.000</td>\n",
       "      <td>3.00</td>\n",
       "      <td>5.000</td>\n",
       "      <td>6.00</td>\n",
       "      <td>16.000</td>\n",
       "    </tr>\n",
       "    <tr>\n",
       "      <th>Watersheds</th>\n",
       "      <td>1117957.0</td>\n",
       "      <td>4.929032</td>\n",
       "      <td>2.082395</td>\n",
       "      <td>0.000</td>\n",
       "      <td>3.00</td>\n",
       "      <td>5.000</td>\n",
       "      <td>6.00</td>\n",
       "      <td>16.000</td>\n",
       "    </tr>\n",
       "    <tr>\n",
       "      <th>DeterioratingInfrastructure</th>\n",
       "      <td>1117957.0</td>\n",
       "      <td>4.925907</td>\n",
       "      <td>2.064813</td>\n",
       "      <td>0.000</td>\n",
       "      <td>3.00</td>\n",
       "      <td>5.000</td>\n",
       "      <td>6.00</td>\n",
       "      <td>17.000</td>\n",
       "    </tr>\n",
       "    <tr>\n",
       "      <th>PopulationScore</th>\n",
       "      <td>1117957.0</td>\n",
       "      <td>4.927520</td>\n",
       "      <td>2.074176</td>\n",
       "      <td>0.000</td>\n",
       "      <td>3.00</td>\n",
       "      <td>5.000</td>\n",
       "      <td>6.00</td>\n",
       "      <td>18.000</td>\n",
       "    </tr>\n",
       "    <tr>\n",
       "      <th>WetlandLoss</th>\n",
       "      <td>1117957.0</td>\n",
       "      <td>4.950859</td>\n",
       "      <td>2.068696</td>\n",
       "      <td>0.000</td>\n",
       "      <td>4.00</td>\n",
       "      <td>5.000</td>\n",
       "      <td>6.00</td>\n",
       "      <td>19.000</td>\n",
       "    </tr>\n",
       "    <tr>\n",
       "      <th>InadequatePlanning</th>\n",
       "      <td>1117957.0</td>\n",
       "      <td>4.940587</td>\n",
       "      <td>2.081123</td>\n",
       "      <td>0.000</td>\n",
       "      <td>3.00</td>\n",
       "      <td>5.000</td>\n",
       "      <td>6.00</td>\n",
       "      <td>16.000</td>\n",
       "    </tr>\n",
       "    <tr>\n",
       "      <th>PoliticalFactors</th>\n",
       "      <td>1117957.0</td>\n",
       "      <td>4.939004</td>\n",
       "      <td>2.090350</td>\n",
       "      <td>0.000</td>\n",
       "      <td>3.00</td>\n",
       "      <td>5.000</td>\n",
       "      <td>6.00</td>\n",
       "      <td>16.000</td>\n",
       "    </tr>\n",
       "    <tr>\n",
       "      <th>FloodProbability</th>\n",
       "      <td>1117957.0</td>\n",
       "      <td>0.504480</td>\n",
       "      <td>0.051026</td>\n",
       "      <td>0.285</td>\n",
       "      <td>0.47</td>\n",
       "      <td>0.505</td>\n",
       "      <td>0.54</td>\n",
       "      <td>0.725</td>\n",
       "    </tr>\n",
       "  </tbody>\n",
       "</table>\n",
       "</div>"
      ],
      "text/plain": [
       "                                     count           mean            std  \\\n",
       "id                               1117957.0  558978.000000  322726.531784   \n",
       "MonsoonIntensity                 1117957.0       4.921450       2.056387   \n",
       "TopographyDrainage               1117957.0       4.926671       2.093879   \n",
       "RiverManagement                  1117957.0       4.955322       2.072186   \n",
       "Deforestation                    1117957.0       4.942240       2.051689   \n",
       "Urbanization                     1117957.0       4.942517       2.083391   \n",
       "ClimateChange                    1117957.0       4.934093       2.057742   \n",
       "DamsQuality                      1117957.0       4.955878       2.083063   \n",
       "Siltation                        1117957.0       4.927791       2.065992   \n",
       "AgriculturalPractices            1117957.0       4.942619       2.068545   \n",
       "Encroachments                    1117957.0       4.949230       2.083324   \n",
       "IneffectiveDisasterPreparedness  1117957.0       4.945239       2.078141   \n",
       "DrainageSystems                  1117957.0       4.946893       2.072333   \n",
       "CoastalVulnerability             1117957.0       4.953999       2.088899   \n",
       "Landslides                       1117957.0       4.931376       2.078287   \n",
       "Watersheds                       1117957.0       4.929032       2.082395   \n",
       "DeterioratingInfrastructure      1117957.0       4.925907       2.064813   \n",
       "PopulationScore                  1117957.0       4.927520       2.074176   \n",
       "WetlandLoss                      1117957.0       4.950859       2.068696   \n",
       "InadequatePlanning               1117957.0       4.940587       2.081123   \n",
       "PoliticalFactors                 1117957.0       4.939004       2.090350   \n",
       "FloodProbability                 1117957.0       0.504480       0.051026   \n",
       "\n",
       "                                   min        25%         50%        75%  \\\n",
       "id                               0.000  279489.00  558978.000  838467.00   \n",
       "MonsoonIntensity                 0.000       3.00       5.000       6.00   \n",
       "TopographyDrainage               0.000       3.00       5.000       6.00   \n",
       "RiverManagement                  0.000       4.00       5.000       6.00   \n",
       "Deforestation                    0.000       4.00       5.000       6.00   \n",
       "Urbanization                     0.000       3.00       5.000       6.00   \n",
       "ClimateChange                    0.000       3.00       5.000       6.00   \n",
       "DamsQuality                      0.000       4.00       5.000       6.00   \n",
       "Siltation                        0.000       3.00       5.000       6.00   \n",
       "AgriculturalPractices            0.000       3.00       5.000       6.00   \n",
       "Encroachments                    0.000       4.00       5.000       6.00   \n",
       "IneffectiveDisasterPreparedness  0.000       3.00       5.000       6.00   \n",
       "DrainageSystems                  0.000       4.00       5.000       6.00   \n",
       "CoastalVulnerability             0.000       3.00       5.000       6.00   \n",
       "Landslides                       0.000       3.00       5.000       6.00   \n",
       "Watersheds                       0.000       3.00       5.000       6.00   \n",
       "DeterioratingInfrastructure      0.000       3.00       5.000       6.00   \n",
       "PopulationScore                  0.000       3.00       5.000       6.00   \n",
       "WetlandLoss                      0.000       4.00       5.000       6.00   \n",
       "InadequatePlanning               0.000       3.00       5.000       6.00   \n",
       "PoliticalFactors                 0.000       3.00       5.000       6.00   \n",
       "FloodProbability                 0.285       0.47       0.505       0.54   \n",
       "\n",
       "                                         max  \n",
       "id                               1117956.000  \n",
       "MonsoonIntensity                      16.000  \n",
       "TopographyDrainage                    18.000  \n",
       "RiverManagement                       16.000  \n",
       "Deforestation                         17.000  \n",
       "Urbanization                          17.000  \n",
       "ClimateChange                         17.000  \n",
       "DamsQuality                           16.000  \n",
       "Siltation                             16.000  \n",
       "AgriculturalPractices                 16.000  \n",
       "Encroachments                         18.000  \n",
       "IneffectiveDisasterPreparedness       16.000  \n",
       "DrainageSystems                       17.000  \n",
       "CoastalVulnerability                  17.000  \n",
       "Landslides                            16.000  \n",
       "Watersheds                            16.000  \n",
       "DeterioratingInfrastructure           17.000  \n",
       "PopulationScore                       18.000  \n",
       "WetlandLoss                           19.000  \n",
       "InadequatePlanning                    16.000  \n",
       "PoliticalFactors                      16.000  \n",
       "FloodProbability                       0.725  "
      ]
     },
     "execution_count": 4,
     "metadata": {},
     "output_type": "execute_result"
    }
   ],
   "source": [
    "flood_dataset.describe().T"
   ]
  },
  {
   "cell_type": "markdown",
   "id": "78354adb",
   "metadata": {
    "papermill": {
     "duration": 0.010661,
     "end_time": "2024-05-30T21:37:28.087973",
     "exception": false,
     "start_time": "2024-05-30T21:37:28.077312",
     "status": "completed"
    },
    "tags": []
   },
   "source": [
    "# **Data Preprocessing: (for each columns in Horizontal ways)**"
   ]
  },
  {
   "cell_type": "code",
   "execution_count": 5,
   "id": "45fa1ca5",
   "metadata": {
    "execution": {
     "iopub.execute_input": "2024-05-30T21:37:28.111544Z",
     "iopub.status.busy": "2024-05-30T21:37:28.111129Z",
     "iopub.status.idle": "2024-05-30T21:37:28.119710Z",
     "shell.execute_reply": "2024-05-30T21:37:28.118545Z"
    },
    "papermill": {
     "duration": 0.023471,
     "end_time": "2024-05-30T21:37:28.122364",
     "exception": false,
     "start_time": "2024-05-30T21:37:28.098893",
     "status": "completed"
    },
    "tags": []
   },
   "outputs": [],
   "source": [
    "def add_features(df):\n",
    "    addfeatures = df.columns.tolist()\n",
    "    df['std_features'] = df[addfeatures].std(axis=1)\n",
    "    df['mean_features'] = 0.1*df[addfeatures].mean(axis=1)\n",
    "    df['median_features'] = 0.1*df[addfeatures].median(axis=1)\n",
    "    df['max_features'] = df[addfeatures].max(axis=1)\n",
    "    df['min_features'] = df[addfeatures].min(axis=1)    \n",
    "    return df"
   ]
  },
  {
   "cell_type": "code",
   "execution_count": 6,
   "id": "c6b5257d",
   "metadata": {
    "execution": {
     "iopub.execute_input": "2024-05-30T21:37:28.147075Z",
     "iopub.status.busy": "2024-05-30T21:37:28.146678Z",
     "iopub.status.idle": "2024-05-30T21:37:28.323388Z",
     "shell.execute_reply": "2024-05-30T21:37:28.322297Z"
    },
    "papermill": {
     "duration": 0.191584,
     "end_time": "2024-05-30T21:37:28.326129",
     "exception": false,
     "start_time": "2024-05-30T21:37:28.134545",
     "status": "completed"
    },
    "tags": []
   },
   "outputs": [],
   "source": [
    "flood_dataset_df=flood_dataset.copy()\n",
    "flood_dataset_df.drop(['id'], axis = 1, inplace = True)"
   ]
  },
  {
   "cell_type": "code",
   "execution_count": 7,
   "id": "96212aed",
   "metadata": {
    "execution": {
     "iopub.execute_input": "2024-05-30T21:37:28.349784Z",
     "iopub.status.busy": "2024-05-30T21:37:28.349391Z",
     "iopub.status.idle": "2024-05-30T21:37:28.415629Z",
     "shell.execute_reply": "2024-05-30T21:37:28.414531Z"
    },
    "papermill": {
     "duration": 0.081495,
     "end_time": "2024-05-30T21:37:28.418683",
     "exception": false,
     "start_time": "2024-05-30T21:37:28.337188",
     "status": "completed"
    },
    "tags": []
   },
   "outputs": [],
   "source": [
    "df = flood_dataset_df\n",
    "df1 = df.drop([\"FloodProbability\"], axis=1)"
   ]
  },
  {
   "cell_type": "code",
   "execution_count": 8,
   "id": "4c571924",
   "metadata": {
    "execution": {
     "iopub.execute_input": "2024-05-30T21:37:28.442961Z",
     "iopub.status.busy": "2024-05-30T21:37:28.442201Z",
     "iopub.status.idle": "2024-05-30T21:37:32.124645Z",
     "shell.execute_reply": "2024-05-30T21:37:32.123455Z"
    },
    "papermill": {
     "duration": 3.697877,
     "end_time": "2024-05-30T21:37:32.127736",
     "exception": false,
     "start_time": "2024-05-30T21:37:28.429859",
     "status": "completed"
    },
    "tags": []
   },
   "outputs": [],
   "source": [
    "flood_dataset_df = add_features(df1)\n",
    "y = df[\"FloodProbability\"]"
   ]
  },
  {
   "cell_type": "code",
   "execution_count": 9,
   "id": "66298413",
   "metadata": {
    "execution": {
     "iopub.execute_input": "2024-05-30T21:37:32.152048Z",
     "iopub.status.busy": "2024-05-30T21:37:32.151635Z",
     "iopub.status.idle": "2024-05-30T21:37:32.159658Z",
     "shell.execute_reply": "2024-05-30T21:37:32.158464Z"
    },
    "papermill": {
     "duration": 0.022821,
     "end_time": "2024-05-30T21:37:32.162050",
     "exception": false,
     "start_time": "2024-05-30T21:37:32.139229",
     "status": "completed"
    },
    "tags": []
   },
   "outputs": [],
   "source": [
    "def add_more_features(flood_dataset_df):\n",
    "    flood_dataset_df['weather'] = - flood_dataset_df['MonsoonIntensity'] - flood_dataset_df['ClimateChange']\n",
    "    flood_dataset_df['structure'] = flood_dataset_df['TopographyDrainage'] + flood_dataset_df['RiverManagement'] - flood_dataset_df['Deforestation'] + flood_dataset_df['DamsQuality'] + flood_dataset_df['Encroachments'] + flood_dataset_df['DrainageSystems'] - flood_dataset_df['Watersheds'] - flood_dataset_df['DeterioratingInfrastructure'] + flood_dataset_df['WetlandLoss'] \n",
    "    flood_dataset_df['population'] = - flood_dataset_df['Urbanization'] * flood_dataset_df['PopulationScore']\n",
    "    flood_dataset_df['soil_infrastructure'] = - flood_dataset_df['Siltation'] + flood_dataset_df['AgriculturalPractices'] - flood_dataset_df['Landslides']\n",
    "    flood_dataset_df['preparedness'] = - flood_dataset_df['IneffectiveDisasterPreparedness'] + flood_dataset_df['CoastalVulnerability'] - flood_dataset_df['InadequatePlanning'] - flood_dataset_df['PoliticalFactors'] \n",
    "    return flood_dataset_df"
   ]
  },
  {
   "cell_type": "code",
   "execution_count": 10,
   "id": "fed7a4d5",
   "metadata": {
    "execution": {
     "iopub.execute_input": "2024-05-30T21:37:32.185876Z",
     "iopub.status.busy": "2024-05-30T21:37:32.185486Z",
     "iopub.status.idle": "2024-05-30T21:37:32.239963Z",
     "shell.execute_reply": "2024-05-30T21:37:32.238958Z"
    },
    "papermill": {
     "duration": 0.06969,
     "end_time": "2024-05-30T21:37:32.242856",
     "exception": false,
     "start_time": "2024-05-30T21:37:32.173166",
     "status": "completed"
    },
    "tags": []
   },
   "outputs": [],
   "source": [
    "flood_dataset_df = add_more_features(flood_dataset_df)"
   ]
  },
  {
   "cell_type": "code",
   "execution_count": 11,
   "id": "783fbdb4",
   "metadata": {
    "execution": {
     "iopub.execute_input": "2024-05-30T21:37:32.266715Z",
     "iopub.status.busy": "2024-05-30T21:37:32.266286Z",
     "iopub.status.idle": "2024-05-30T21:37:32.273441Z",
     "shell.execute_reply": "2024-05-30T21:37:32.272365Z"
    },
    "papermill": {
     "duration": 0.021943,
     "end_time": "2024-05-30T21:37:32.275856",
     "exception": false,
     "start_time": "2024-05-30T21:37:32.253913",
     "status": "completed"
    },
    "tags": []
   },
   "outputs": [],
   "source": [
    "flood_dataset_df[\"FloodProbability\"]=y"
   ]
  },
  {
   "cell_type": "code",
   "execution_count": 12,
   "id": "a8e938ef",
   "metadata": {
    "execution": {
     "iopub.execute_input": "2024-05-30T21:37:32.299575Z",
     "iopub.status.busy": "2024-05-30T21:37:32.299156Z",
     "iopub.status.idle": "2024-05-30T21:37:32.384295Z",
     "shell.execute_reply": "2024-05-30T21:37:32.383163Z"
    },
    "papermill": {
     "duration": 0.100338,
     "end_time": "2024-05-30T21:37:32.387183",
     "exception": false,
     "start_time": "2024-05-30T21:37:32.286845",
     "status": "completed"
    },
    "tags": []
   },
   "outputs": [
    {
     "name": "stdout",
     "output_type": "stream",
     "text": [
      "<class 'pandas.core.frame.DataFrame'>\n",
      "RangeIndex: 1117957 entries, 0 to 1117956\n",
      "Data columns (total 31 columns):\n",
      " #   Column                           Non-Null Count    Dtype  \n",
      "---  ------                           --------------    -----  \n",
      " 0   MonsoonIntensity                 1117957 non-null  int64  \n",
      " 1   TopographyDrainage               1117957 non-null  int64  \n",
      " 2   RiverManagement                  1117957 non-null  int64  \n",
      " 3   Deforestation                    1117957 non-null  int64  \n",
      " 4   Urbanization                     1117957 non-null  int64  \n",
      " 5   ClimateChange                    1117957 non-null  int64  \n",
      " 6   DamsQuality                      1117957 non-null  int64  \n",
      " 7   Siltation                        1117957 non-null  int64  \n",
      " 8   AgriculturalPractices            1117957 non-null  int64  \n",
      " 9   Encroachments                    1117957 non-null  int64  \n",
      " 10  IneffectiveDisasterPreparedness  1117957 non-null  int64  \n",
      " 11  DrainageSystems                  1117957 non-null  int64  \n",
      " 12  CoastalVulnerability             1117957 non-null  int64  \n",
      " 13  Landslides                       1117957 non-null  int64  \n",
      " 14  Watersheds                       1117957 non-null  int64  \n",
      " 15  DeterioratingInfrastructure      1117957 non-null  int64  \n",
      " 16  PopulationScore                  1117957 non-null  int64  \n",
      " 17  WetlandLoss                      1117957 non-null  int64  \n",
      " 18  InadequatePlanning               1117957 non-null  int64  \n",
      " 19  PoliticalFactors                 1117957 non-null  int64  \n",
      " 20  std_features                     1117957 non-null  float64\n",
      " 21  mean_features                    1117957 non-null  float64\n",
      " 22  median_features                  1117957 non-null  float64\n",
      " 23  max_features                     1117957 non-null  int64  \n",
      " 24  min_features                     1117957 non-null  int64  \n",
      " 25  weather                          1117957 non-null  int64  \n",
      " 26  structure                        1117957 non-null  int64  \n",
      " 27  population                       1117957 non-null  int64  \n",
      " 28  soil_infrastructure              1117957 non-null  int64  \n",
      " 29  preparedness                     1117957 non-null  int64  \n",
      " 30  FloodProbability                 1117957 non-null  float64\n",
      "dtypes: float64(4), int64(27)\n",
      "memory usage: 264.4 MB\n"
     ]
    }
   ],
   "source": [
    "flood_dataset_df.info()"
   ]
  },
  {
   "cell_type": "code",
   "execution_count": 13,
   "id": "cce82476",
   "metadata": {
    "execution": {
     "iopub.execute_input": "2024-05-30T21:37:32.412396Z",
     "iopub.status.busy": "2024-05-30T21:37:32.411341Z",
     "iopub.status.idle": "2024-05-30T21:37:32.434784Z",
     "shell.execute_reply": "2024-05-30T21:37:32.433415Z"
    },
    "papermill": {
     "duration": 0.039172,
     "end_time": "2024-05-30T21:37:32.437743",
     "exception": false,
     "start_time": "2024-05-30T21:37:32.398571",
     "status": "completed"
    },
    "tags": []
   },
   "outputs": [
    {
     "data": {
      "text/html": [
       "<div>\n",
       "<style scoped>\n",
       "    .dataframe tbody tr th:only-of-type {\n",
       "        vertical-align: middle;\n",
       "    }\n",
       "\n",
       "    .dataframe tbody tr th {\n",
       "        vertical-align: top;\n",
       "    }\n",
       "\n",
       "    .dataframe thead th {\n",
       "        text-align: right;\n",
       "    }\n",
       "</style>\n",
       "<table border=\"1\" class=\"dataframe\">\n",
       "  <thead>\n",
       "    <tr style=\"text-align: right;\">\n",
       "      <th></th>\n",
       "      <th>MonsoonIntensity</th>\n",
       "      <th>TopographyDrainage</th>\n",
       "      <th>RiverManagement</th>\n",
       "      <th>Deforestation</th>\n",
       "      <th>Urbanization</th>\n",
       "      <th>ClimateChange</th>\n",
       "      <th>DamsQuality</th>\n",
       "      <th>Siltation</th>\n",
       "      <th>AgriculturalPractices</th>\n",
       "      <th>Encroachments</th>\n",
       "      <th>...</th>\n",
       "      <th>mean_features</th>\n",
       "      <th>median_features</th>\n",
       "      <th>max_features</th>\n",
       "      <th>min_features</th>\n",
       "      <th>weather</th>\n",
       "      <th>structure</th>\n",
       "      <th>population</th>\n",
       "      <th>soil_infrastructure</th>\n",
       "      <th>preparedness</th>\n",
       "      <th>FloodProbability</th>\n",
       "    </tr>\n",
       "  </thead>\n",
       "  <tbody>\n",
       "    <tr>\n",
       "      <th>0</th>\n",
       "      <td>5</td>\n",
       "      <td>8</td>\n",
       "      <td>5</td>\n",
       "      <td>8</td>\n",
       "      <td>6</td>\n",
       "      <td>4</td>\n",
       "      <td>4</td>\n",
       "      <td>3</td>\n",
       "      <td>3</td>\n",
       "      <td>4</td>\n",
       "      <td>...</td>\n",
       "      <td>0.470</td>\n",
       "      <td>0.45</td>\n",
       "      <td>8</td>\n",
       "      <td>2</td>\n",
       "      <td>-9</td>\n",
       "      <td>14</td>\n",
       "      <td>-42</td>\n",
       "      <td>-3</td>\n",
       "      <td>-9</td>\n",
       "      <td>0.445</td>\n",
       "    </tr>\n",
       "    <tr>\n",
       "      <th>1</th>\n",
       "      <td>6</td>\n",
       "      <td>7</td>\n",
       "      <td>4</td>\n",
       "      <td>4</td>\n",
       "      <td>8</td>\n",
       "      <td>8</td>\n",
       "      <td>3</td>\n",
       "      <td>5</td>\n",
       "      <td>4</td>\n",
       "      <td>6</td>\n",
       "      <td>...</td>\n",
       "      <td>0.470</td>\n",
       "      <td>0.40</td>\n",
       "      <td>9</td>\n",
       "      <td>0</td>\n",
       "      <td>-14</td>\n",
       "      <td>18</td>\n",
       "      <td>-24</td>\n",
       "      <td>-1</td>\n",
       "      <td>-14</td>\n",
       "      <td>0.450</td>\n",
       "    </tr>\n",
       "    <tr>\n",
       "      <th>2</th>\n",
       "      <td>6</td>\n",
       "      <td>5</td>\n",
       "      <td>6</td>\n",
       "      <td>7</td>\n",
       "      <td>3</td>\n",
       "      <td>7</td>\n",
       "      <td>1</td>\n",
       "      <td>5</td>\n",
       "      <td>4</td>\n",
       "      <td>5</td>\n",
       "      <td>...</td>\n",
       "      <td>0.495</td>\n",
       "      <td>0.50</td>\n",
       "      <td>8</td>\n",
       "      <td>1</td>\n",
       "      <td>-13</td>\n",
       "      <td>8</td>\n",
       "      <td>-24</td>\n",
       "      <td>-8</td>\n",
       "      <td>-9</td>\n",
       "      <td>0.530</td>\n",
       "    </tr>\n",
       "    <tr>\n",
       "      <th>3</th>\n",
       "      <td>3</td>\n",
       "      <td>4</td>\n",
       "      <td>6</td>\n",
       "      <td>5</td>\n",
       "      <td>4</td>\n",
       "      <td>8</td>\n",
       "      <td>4</td>\n",
       "      <td>7</td>\n",
       "      <td>6</td>\n",
       "      <td>8</td>\n",
       "      <td>...</td>\n",
       "      <td>0.520</td>\n",
       "      <td>0.50</td>\n",
       "      <td>8</td>\n",
       "      <td>2</td>\n",
       "      <td>-11</td>\n",
       "      <td>16</td>\n",
       "      <td>-24</td>\n",
       "      <td>-8</td>\n",
       "      <td>-13</td>\n",
       "      <td>0.535</td>\n",
       "    </tr>\n",
       "    <tr>\n",
       "      <th>4</th>\n",
       "      <td>5</td>\n",
       "      <td>3</td>\n",
       "      <td>2</td>\n",
       "      <td>6</td>\n",
       "      <td>4</td>\n",
       "      <td>4</td>\n",
       "      <td>3</td>\n",
       "      <td>3</td>\n",
       "      <td>3</td>\n",
       "      <td>3</td>\n",
       "      <td>...</td>\n",
       "      <td>0.360</td>\n",
       "      <td>0.30</td>\n",
       "      <td>6</td>\n",
       "      <td>1</td>\n",
       "      <td>-9</td>\n",
       "      <td>-1</td>\n",
       "      <td>-4</td>\n",
       "      <td>-6</td>\n",
       "      <td>-11</td>\n",
       "      <td>0.415</td>\n",
       "    </tr>\n",
       "  </tbody>\n",
       "</table>\n",
       "<p>5 rows × 31 columns</p>\n",
       "</div>"
      ],
      "text/plain": [
       "   MonsoonIntensity  TopographyDrainage  RiverManagement  Deforestation  \\\n",
       "0                 5                   8                5              8   \n",
       "1                 6                   7                4              4   \n",
       "2                 6                   5                6              7   \n",
       "3                 3                   4                6              5   \n",
       "4                 5                   3                2              6   \n",
       "\n",
       "   Urbanization  ClimateChange  DamsQuality  Siltation  AgriculturalPractices  \\\n",
       "0             6              4            4          3                      3   \n",
       "1             8              8            3          5                      4   \n",
       "2             3              7            1          5                      4   \n",
       "3             4              8            4          7                      6   \n",
       "4             4              4            3          3                      3   \n",
       "\n",
       "   Encroachments  ...  mean_features  median_features  max_features  \\\n",
       "0              4  ...          0.470             0.45             8   \n",
       "1              6  ...          0.470             0.40             9   \n",
       "2              5  ...          0.495             0.50             8   \n",
       "3              8  ...          0.520             0.50             8   \n",
       "4              3  ...          0.360             0.30             6   \n",
       "\n",
       "   min_features  weather  structure  population  soil_infrastructure  \\\n",
       "0             2       -9         14         -42                   -3   \n",
       "1             0      -14         18         -24                   -1   \n",
       "2             1      -13          8         -24                   -8   \n",
       "3             2      -11         16         -24                   -8   \n",
       "4             1       -9         -1          -4                   -6   \n",
       "\n",
       "   preparedness  FloodProbability  \n",
       "0            -9             0.445  \n",
       "1           -14             0.450  \n",
       "2            -9             0.530  \n",
       "3           -13             0.535  \n",
       "4           -11             0.415  \n",
       "\n",
       "[5 rows x 31 columns]"
      ]
     },
     "execution_count": 13,
     "metadata": {},
     "output_type": "execute_result"
    }
   ],
   "source": [
    "flood_dataset_df.head(5)"
   ]
  },
  {
   "cell_type": "code",
   "execution_count": 14,
   "id": "42e1e7be",
   "metadata": {
    "execution": {
     "iopub.execute_input": "2024-05-30T21:37:32.463498Z",
     "iopub.status.busy": "2024-05-30T21:37:32.462736Z",
     "iopub.status.idle": "2024-05-30T21:37:51.614017Z",
     "shell.execute_reply": "2024-05-30T21:37:51.612746Z"
    },
    "papermill": {
     "duration": 19.167286,
     "end_time": "2024-05-30T21:37:51.616946",
     "exception": false,
     "start_time": "2024-05-30T21:37:32.449660",
     "status": "completed"
    },
    "tags": []
   },
   "outputs": [],
   "source": [
    "flood_dataset_df.to_csv('train_without_preprocessing.csv', index=False)"
   ]
  },
  {
   "cell_type": "code",
   "execution_count": 15,
   "id": "396be67d",
   "metadata": {
    "execution": {
     "iopub.execute_input": "2024-05-30T21:37:51.643006Z",
     "iopub.status.busy": "2024-05-30T21:37:51.641924Z",
     "iopub.status.idle": "2024-05-30T21:37:51.646726Z",
     "shell.execute_reply": "2024-05-30T21:37:51.645726Z"
    },
    "papermill": {
     "duration": 0.020281,
     "end_time": "2024-05-30T21:37:51.648952",
     "exception": false,
     "start_time": "2024-05-30T21:37:51.628671",
     "status": "completed"
    },
    "tags": []
   },
   "outputs": [],
   "source": [
    "del flood_dataset_df"
   ]
  },
  {
   "cell_type": "markdown",
   "id": "760c1e17",
   "metadata": {
    "papermill": {
     "duration": 0.011408,
     "end_time": "2024-05-30T21:37:51.671960",
     "exception": false,
     "start_time": "2024-05-30T21:37:51.660552",
     "status": "completed"
    },
    "tags": []
   },
   "source": [
    "# **For Test Dataset!!**"
   ]
  },
  {
   "cell_type": "code",
   "execution_count": 16,
   "id": "92cd1b01",
   "metadata": {
    "execution": {
     "iopub.execute_input": "2024-05-30T21:37:51.697466Z",
     "iopub.status.busy": "2024-05-30T21:37:51.696625Z",
     "iopub.status.idle": "2024-05-30T21:37:55.735163Z",
     "shell.execute_reply": "2024-05-30T21:37:55.733893Z"
    },
    "papermill": {
     "duration": 4.054654,
     "end_time": "2024-05-30T21:37:55.738296",
     "exception": false,
     "start_time": "2024-05-30T21:37:51.683642",
     "status": "completed"
    },
    "tags": []
   },
   "outputs": [
    {
     "name": "stdout",
     "output_type": "stream",
     "text": [
      "<class 'pandas.core.frame.DataFrame'>\n",
      "RangeIndex: 745305 entries, 0 to 745304\n",
      "Data columns (total 30 columns):\n",
      " #   Column                           Non-Null Count   Dtype  \n",
      "---  ------                           --------------   -----  \n",
      " 0   MonsoonIntensity                 745305 non-null  int64  \n",
      " 1   TopographyDrainage               745305 non-null  int64  \n",
      " 2   RiverManagement                  745305 non-null  int64  \n",
      " 3   Deforestation                    745305 non-null  int64  \n",
      " 4   Urbanization                     745305 non-null  int64  \n",
      " 5   ClimateChange                    745305 non-null  int64  \n",
      " 6   DamsQuality                      745305 non-null  int64  \n",
      " 7   Siltation                        745305 non-null  int64  \n",
      " 8   AgriculturalPractices            745305 non-null  int64  \n",
      " 9   Encroachments                    745305 non-null  int64  \n",
      " 10  IneffectiveDisasterPreparedness  745305 non-null  int64  \n",
      " 11  DrainageSystems                  745305 non-null  int64  \n",
      " 12  CoastalVulnerability             745305 non-null  int64  \n",
      " 13  Landslides                       745305 non-null  int64  \n",
      " 14  Watersheds                       745305 non-null  int64  \n",
      " 15  DeterioratingInfrastructure      745305 non-null  int64  \n",
      " 16  PopulationScore                  745305 non-null  int64  \n",
      " 17  WetlandLoss                      745305 non-null  int64  \n",
      " 18  InadequatePlanning               745305 non-null  int64  \n",
      " 19  PoliticalFactors                 745305 non-null  int64  \n",
      " 20  std_features                     745305 non-null  float64\n",
      " 21  mean_features                    745305 non-null  float64\n",
      " 22  median_features                  745305 non-null  float64\n",
      " 23  max_features                     745305 non-null  int64  \n",
      " 24  min_features                     745305 non-null  int64  \n",
      " 25  weather                          745305 non-null  int64  \n",
      " 26  structure                        745305 non-null  int64  \n",
      " 27  population                       745305 non-null  int64  \n",
      " 28  soil_infrastructure              745305 non-null  int64  \n",
      " 29  preparedness                     745305 non-null  int64  \n",
      "dtypes: float64(3), int64(27)\n",
      "memory usage: 170.6 MB\n"
     ]
    }
   ],
   "source": [
    "flood_dataset = pd.read_csv(\"/kaggle/input/playground-series-s4e5/test.csv\")\n",
    "\n",
    "flood_dataset_df=flood_dataset.copy()\n",
    "flood_dataset_df.drop(['id'], axis = 1, inplace = True)\n",
    "\n",
    "df = flood_dataset_df\n",
    "flood_dataset_df = add_features(df)\n",
    "\n",
    "flood_dataset_df = add_more_features(flood_dataset_df)\n",
    "\n",
    "flood_dataset_df.info()"
   ]
  },
  {
   "cell_type": "code",
   "execution_count": 17,
   "id": "ee965366",
   "metadata": {
    "execution": {
     "iopub.execute_input": "2024-05-30T21:37:55.774063Z",
     "iopub.status.busy": "2024-05-30T21:37:55.773245Z",
     "iopub.status.idle": "2024-05-30T21:38:07.862523Z",
     "shell.execute_reply": "2024-05-30T21:38:07.861240Z"
    },
    "papermill": {
     "duration": 12.110374,
     "end_time": "2024-05-30T21:38:07.865599",
     "exception": false,
     "start_time": "2024-05-30T21:37:55.755225",
     "status": "completed"
    },
    "tags": []
   },
   "outputs": [],
   "source": [
    "flood_dataset_df.to_csv('test_data.csv', index=False)"
   ]
  },
  {
   "cell_type": "markdown",
   "id": "947aa48c",
   "metadata": {
    "papermill": {
     "duration": 0.011986,
     "end_time": "2024-05-30T21:38:07.889332",
     "exception": false,
     "start_time": "2024-05-30T21:38:07.877346",
     "status": "completed"
    },
    "tags": []
   },
   "source": [
    "# **Data Preprocessing: (add more features for each subjective columns in vertical ways)**"
   ]
  },
  {
   "cell_type": "code",
   "execution_count": 18,
   "id": "a46c4071",
   "metadata": {
    "execution": {
     "iopub.execute_input": "2024-05-30T21:38:07.915433Z",
     "iopub.status.busy": "2024-05-30T21:38:07.914975Z",
     "iopub.status.idle": "2024-05-30T21:38:11.397588Z",
     "shell.execute_reply": "2024-05-30T21:38:11.396267Z"
    },
    "papermill": {
     "duration": 3.499099,
     "end_time": "2024-05-30T21:38:11.400596",
     "exception": false,
     "start_time": "2024-05-30T21:38:07.901497",
     "status": "completed"
    },
    "tags": []
   },
   "outputs": [],
   "source": [
    "flood_dataset_df = pd.read_csv(\"/kaggle/working/train_without_preprocessing.csv\")"
   ]
  },
  {
   "cell_type": "code",
   "execution_count": 19,
   "id": "a733e9e5",
   "metadata": {
    "execution": {
     "iopub.execute_input": "2024-05-30T21:38:11.426421Z",
     "iopub.status.busy": "2024-05-30T21:38:11.426007Z",
     "iopub.status.idle": "2024-05-30T21:38:11.433932Z",
     "shell.execute_reply": "2024-05-30T21:38:11.432732Z"
    },
    "papermill": {
     "duration": 0.023663,
     "end_time": "2024-05-30T21:38:11.436347",
     "exception": false,
     "start_time": "2024-05-30T21:38:11.412684",
     "status": "completed"
    },
    "tags": []
   },
   "outputs": [
    {
     "data": {
      "text/plain": [
       "Index(['MonsoonIntensity', 'TopographyDrainage', 'RiverManagement',\n",
       "       'Deforestation', 'Urbanization', 'ClimateChange', 'DamsQuality',\n",
       "       'Siltation', 'AgriculturalPractices', 'Encroachments',\n",
       "       'IneffectiveDisasterPreparedness', 'DrainageSystems',\n",
       "       'CoastalVulnerability', 'Landslides', 'Watersheds',\n",
       "       'DeterioratingInfrastructure', 'PopulationScore', 'WetlandLoss',\n",
       "       'InadequatePlanning', 'PoliticalFactors', 'std_features',\n",
       "       'mean_features', 'median_features', 'max_features', 'min_features',\n",
       "       'weather', 'structure', 'population', 'soil_infrastructure',\n",
       "       'preparedness', 'FloodProbability'],\n",
       "      dtype='object')"
      ]
     },
     "execution_count": 19,
     "metadata": {},
     "output_type": "execute_result"
    }
   ],
   "source": [
    "flood_dataset_df.columns"
   ]
  },
  {
   "cell_type": "code",
   "execution_count": 20,
   "id": "b9cfeec1",
   "metadata": {
    "execution": {
     "iopub.execute_input": "2024-05-30T21:38:11.462260Z",
     "iopub.status.busy": "2024-05-30T21:38:11.461779Z",
     "iopub.status.idle": "2024-05-30T21:38:11.477101Z",
     "shell.execute_reply": "2024-05-30T21:38:11.476058Z"
    },
    "papermill": {
     "duration": 0.031797,
     "end_time": "2024-05-30T21:38:11.480003",
     "exception": false,
     "start_time": "2024-05-30T21:38:11.448206",
     "status": "completed"
    },
    "tags": []
   },
   "outputs": [],
   "source": [
    "def add_manipulated_features(df):    \n",
    "    df['all_row_MonsoonIntensity'] = df['MonsoonIntensity'] / df['MonsoonIntensity'].mean()   \n",
    "    df['all_row_TopographyDrainage'] = df['TopographyDrainage'] / df['TopographyDrainage'].mean() \n",
    "    df['all_row_RiverManagement'] = df['RiverManagement'] / df['RiverManagement'].mean() \n",
    "    df['all_row_Deforestation'] = df['Deforestation'] / df['Deforestation'].mean() \n",
    "    df['all_row_Urbanization'] = df['Urbanization'] / df['Urbanization'].mean() \n",
    "    df['all_row_ClimateChange'] = df['ClimateChange'] / df['ClimateChange'].mean() \n",
    "    df['all_row_DamsQuality'] = df['DamsQuality'] / df['DamsQuality'].mean() \n",
    "    df['all_row_Siltation'] = df['Siltation'] / df['Siltation'].mean() \n",
    "    df['all_row_AgriculturalPractices'] = df['AgriculturalPractices'] / df['AgriculturalPractices'].mean() \n",
    "    df['all_row_Encroachments'] = df['Encroachments'] / df['Encroachments'].mean() \n",
    "    df['all_row_IneffectiveDisasterPreparedness'] = df['IneffectiveDisasterPreparedness'] / df['IneffectiveDisasterPreparedness'].mean()\n",
    "    df['all_row_DrainageSystems'] = df['DrainageSystems'] / df['DrainageSystems'].mean() \n",
    "    df['all_row_CoastalVulnerability'] = df['CoastalVulnerability'] / df['CoastalVulnerability'].mean() \n",
    "    df['all_row_Landslides'] = df['Landslides'] / df['Landslides'].mean() \n",
    "    df['all_row_Watersheds'] = df['Watersheds'] / df['Watersheds'].mean() \n",
    "    df['all_row_DeterioratingInfrastructure'] = df['DeterioratingInfrastructure'] / df['DeterioratingInfrastructure'].mean() \n",
    "    df['all_row_PopulationScore'] = df['PopulationScore'] / df['PopulationScore'].mean() \n",
    "    df['all_row_WetlandLoss'] = df['WetlandLoss'] / df['WetlandLoss'].mean()\n",
    "    df['all_row_InadequatePlanning'] = df['InadequatePlanning'] / df['InadequatePlanning'].mean() \n",
    "    df['all_row_PoliticalFactors'] = df['PoliticalFactors'] / df['PoliticalFactors'].mean() \n",
    "    df['all_row_weather'] = df['weather'] / df['weather'].mean() \n",
    "    df['all_row_structure'] = df['structure'] / df['structure'].mean()\n",
    "    df['all_row_population'] = df['population'] / df['population'].mean() \n",
    "    df['all_row_soil_infrastructure'] = df['soil_infrastructure'] / df['soil_infrastructure'].mean() \n",
    "    df['all_row_preparedness'] = df['preparedness'] / df['preparedness'].mean() \n",
    "    return df"
   ]
  },
  {
   "cell_type": "code",
   "execution_count": 21,
   "id": "831e1041",
   "metadata": {
    "execution": {
     "iopub.execute_input": "2024-05-30T21:38:11.506719Z",
     "iopub.status.busy": "2024-05-30T21:38:11.506314Z",
     "iopub.status.idle": "2024-05-30T21:38:11.678194Z",
     "shell.execute_reply": "2024-05-30T21:38:11.677247Z"
    },
    "papermill": {
     "duration": 0.188324,
     "end_time": "2024-05-30T21:38:11.680904",
     "exception": false,
     "start_time": "2024-05-30T21:38:11.492580",
     "status": "completed"
    },
    "tags": []
   },
   "outputs": [],
   "source": [
    "flood_dataset_df = add_manipulated_features(flood_dataset_df)"
   ]
  },
  {
   "cell_type": "code",
   "execution_count": 22,
   "id": "efadecb1",
   "metadata": {
    "execution": {
     "iopub.execute_input": "2024-05-30T21:38:11.708194Z",
     "iopub.status.busy": "2024-05-30T21:38:11.707301Z",
     "iopub.status.idle": "2024-05-30T21:38:11.733230Z",
     "shell.execute_reply": "2024-05-30T21:38:11.732119Z"
    },
    "papermill": {
     "duration": 0.042375,
     "end_time": "2024-05-30T21:38:11.736082",
     "exception": false,
     "start_time": "2024-05-30T21:38:11.693707",
     "status": "completed"
    },
    "tags": []
   },
   "outputs": [
    {
     "data": {
      "text/html": [
       "<div>\n",
       "<style scoped>\n",
       "    .dataframe tbody tr th:only-of-type {\n",
       "        vertical-align: middle;\n",
       "    }\n",
       "\n",
       "    .dataframe tbody tr th {\n",
       "        vertical-align: top;\n",
       "    }\n",
       "\n",
       "    .dataframe thead th {\n",
       "        text-align: right;\n",
       "    }\n",
       "</style>\n",
       "<table border=\"1\" class=\"dataframe\">\n",
       "  <thead>\n",
       "    <tr style=\"text-align: right;\">\n",
       "      <th></th>\n",
       "      <th>MonsoonIntensity</th>\n",
       "      <th>TopographyDrainage</th>\n",
       "      <th>RiverManagement</th>\n",
       "      <th>Deforestation</th>\n",
       "      <th>Urbanization</th>\n",
       "      <th>ClimateChange</th>\n",
       "      <th>DamsQuality</th>\n",
       "      <th>Siltation</th>\n",
       "      <th>AgriculturalPractices</th>\n",
       "      <th>Encroachments</th>\n",
       "      <th>...</th>\n",
       "      <th>all_row_DeterioratingInfrastructure</th>\n",
       "      <th>all_row_PopulationScore</th>\n",
       "      <th>all_row_WetlandLoss</th>\n",
       "      <th>all_row_InadequatePlanning</th>\n",
       "      <th>all_row_PoliticalFactors</th>\n",
       "      <th>all_row_weather</th>\n",
       "      <th>all_row_structure</th>\n",
       "      <th>all_row_population</th>\n",
       "      <th>all_row_soil_infrastructure</th>\n",
       "      <th>all_row_preparedness</th>\n",
       "    </tr>\n",
       "  </thead>\n",
       "  <tbody>\n",
       "    <tr>\n",
       "      <th>0</th>\n",
       "      <td>5</td>\n",
       "      <td>8</td>\n",
       "      <td>5</td>\n",
       "      <td>8</td>\n",
       "      <td>6</td>\n",
       "      <td>4</td>\n",
       "      <td>4</td>\n",
       "      <td>3</td>\n",
       "      <td>3</td>\n",
       "      <td>4</td>\n",
       "      <td>...</td>\n",
       "      <td>0.812033</td>\n",
       "      <td>1.420593</td>\n",
       "      <td>1.009926</td>\n",
       "      <td>1.416836</td>\n",
       "      <td>0.60741</td>\n",
       "      <td>0.913192</td>\n",
       "      <td>0.940375</td>\n",
       "      <td>1.728060</td>\n",
       "      <td>0.610184</td>\n",
       "      <td>0.911777</td>\n",
       "    </tr>\n",
       "    <tr>\n",
       "      <th>1</th>\n",
       "      <td>6</td>\n",
       "      <td>7</td>\n",
       "      <td>4</td>\n",
       "      <td>4</td>\n",
       "      <td>8</td>\n",
       "      <td>8</td>\n",
       "      <td>3</td>\n",
       "      <td>5</td>\n",
       "      <td>4</td>\n",
       "      <td>6</td>\n",
       "      <td>...</td>\n",
       "      <td>1.015042</td>\n",
       "      <td>0.608826</td>\n",
       "      <td>0.605955</td>\n",
       "      <td>0.809620</td>\n",
       "      <td>0.60741</td>\n",
       "      <td>1.420520</td>\n",
       "      <td>1.209054</td>\n",
       "      <td>0.987463</td>\n",
       "      <td>0.203395</td>\n",
       "      <td>1.418320</td>\n",
       "    </tr>\n",
       "    <tr>\n",
       "      <th>2</th>\n",
       "      <td>6</td>\n",
       "      <td>5</td>\n",
       "      <td>6</td>\n",
       "      <td>7</td>\n",
       "      <td>3</td>\n",
       "      <td>7</td>\n",
       "      <td>1</td>\n",
       "      <td>5</td>\n",
       "      <td>4</td>\n",
       "      <td>5</td>\n",
       "      <td>...</td>\n",
       "      <td>1.218050</td>\n",
       "      <td>1.623535</td>\n",
       "      <td>0.403970</td>\n",
       "      <td>0.607215</td>\n",
       "      <td>0.60741</td>\n",
       "      <td>1.319055</td>\n",
       "      <td>0.537357</td>\n",
       "      <td>0.987463</td>\n",
       "      <td>1.627158</td>\n",
       "      <td>0.911777</td>\n",
       "    </tr>\n",
       "    <tr>\n",
       "      <th>3</th>\n",
       "      <td>3</td>\n",
       "      <td>4</td>\n",
       "      <td>6</td>\n",
       "      <td>5</td>\n",
       "      <td>4</td>\n",
       "      <td>8</td>\n",
       "      <td>4</td>\n",
       "      <td>7</td>\n",
       "      <td>6</td>\n",
       "      <td>8</td>\n",
       "      <td>...</td>\n",
       "      <td>0.812033</td>\n",
       "      <td>1.217651</td>\n",
       "      <td>1.009926</td>\n",
       "      <td>1.416836</td>\n",
       "      <td>1.01235</td>\n",
       "      <td>1.116123</td>\n",
       "      <td>1.074715</td>\n",
       "      <td>0.987463</td>\n",
       "      <td>1.627158</td>\n",
       "      <td>1.317012</td>\n",
       "    </tr>\n",
       "    <tr>\n",
       "      <th>4</th>\n",
       "      <td>5</td>\n",
       "      <td>3</td>\n",
       "      <td>2</td>\n",
       "      <td>6</td>\n",
       "      <td>4</td>\n",
       "      <td>4</td>\n",
       "      <td>3</td>\n",
       "      <td>3</td>\n",
       "      <td>3</td>\n",
       "      <td>3</td>\n",
       "      <td>...</td>\n",
       "      <td>0.812033</td>\n",
       "      <td>0.202942</td>\n",
       "      <td>0.403970</td>\n",
       "      <td>0.607215</td>\n",
       "      <td>1.01235</td>\n",
       "      <td>0.913192</td>\n",
       "      <td>-0.067170</td>\n",
       "      <td>0.164577</td>\n",
       "      <td>1.220369</td>\n",
       "      <td>1.114395</td>\n",
       "    </tr>\n",
       "  </tbody>\n",
       "</table>\n",
       "<p>5 rows × 56 columns</p>\n",
       "</div>"
      ],
      "text/plain": [
       "   MonsoonIntensity  TopographyDrainage  RiverManagement  Deforestation  \\\n",
       "0                 5                   8                5              8   \n",
       "1                 6                   7                4              4   \n",
       "2                 6                   5                6              7   \n",
       "3                 3                   4                6              5   \n",
       "4                 5                   3                2              6   \n",
       "\n",
       "   Urbanization  ClimateChange  DamsQuality  Siltation  AgriculturalPractices  \\\n",
       "0             6              4            4          3                      3   \n",
       "1             8              8            3          5                      4   \n",
       "2             3              7            1          5                      4   \n",
       "3             4              8            4          7                      6   \n",
       "4             4              4            3          3                      3   \n",
       "\n",
       "   Encroachments  ...  all_row_DeterioratingInfrastructure  \\\n",
       "0              4  ...                             0.812033   \n",
       "1              6  ...                             1.015042   \n",
       "2              5  ...                             1.218050   \n",
       "3              8  ...                             0.812033   \n",
       "4              3  ...                             0.812033   \n",
       "\n",
       "   all_row_PopulationScore  all_row_WetlandLoss  all_row_InadequatePlanning  \\\n",
       "0                 1.420593             1.009926                    1.416836   \n",
       "1                 0.608826             0.605955                    0.809620   \n",
       "2                 1.623535             0.403970                    0.607215   \n",
       "3                 1.217651             1.009926                    1.416836   \n",
       "4                 0.202942             0.403970                    0.607215   \n",
       "\n",
       "   all_row_PoliticalFactors  all_row_weather  all_row_structure  \\\n",
       "0                   0.60741         0.913192           0.940375   \n",
       "1                   0.60741         1.420520           1.209054   \n",
       "2                   0.60741         1.319055           0.537357   \n",
       "3                   1.01235         1.116123           1.074715   \n",
       "4                   1.01235         0.913192          -0.067170   \n",
       "\n",
       "   all_row_population  all_row_soil_infrastructure  all_row_preparedness  \n",
       "0            1.728060                     0.610184              0.911777  \n",
       "1            0.987463                     0.203395              1.418320  \n",
       "2            0.987463                     1.627158              0.911777  \n",
       "3            0.987463                     1.627158              1.317012  \n",
       "4            0.164577                     1.220369              1.114395  \n",
       "\n",
       "[5 rows x 56 columns]"
      ]
     },
     "execution_count": 22,
     "metadata": {},
     "output_type": "execute_result"
    }
   ],
   "source": [
    "flood_dataset_df.head(5)"
   ]
  },
  {
   "cell_type": "code",
   "execution_count": 23,
   "id": "38aebd0f",
   "metadata": {
    "execution": {
     "iopub.execute_input": "2024-05-30T21:38:11.762682Z",
     "iopub.status.busy": "2024-05-30T21:38:11.762257Z",
     "iopub.status.idle": "2024-05-30T21:39:33.308246Z",
     "shell.execute_reply": "2024-05-30T21:39:33.307103Z"
    },
    "papermill": {
     "duration": 81.562713,
     "end_time": "2024-05-30T21:39:33.311079",
     "exception": false,
     "start_time": "2024-05-30T21:38:11.748366",
     "status": "completed"
    },
    "tags": []
   },
   "outputs": [],
   "source": [
    "flood_dataset_df.to_csv('train_preprocessing.csv', index=False)\n",
    "del flood_dataset_df"
   ]
  },
  {
   "cell_type": "code",
   "execution_count": 24,
   "id": "eb1245d7",
   "metadata": {
    "execution": {
     "iopub.execute_input": "2024-05-30T21:39:33.338322Z",
     "iopub.status.busy": "2024-05-30T21:39:33.337904Z",
     "iopub.status.idle": "2024-05-30T21:40:29.329053Z",
     "shell.execute_reply": "2024-05-30T21:40:29.327749Z"
    },
    "papermill": {
     "duration": 56.007962,
     "end_time": "2024-05-30T21:40:29.332080",
     "exception": false,
     "start_time": "2024-05-30T21:39:33.324118",
     "status": "completed"
    },
    "tags": []
   },
   "outputs": [],
   "source": [
    "flood_dataset_df = pd.read_csv(\"/kaggle/working/test_data.csv\")\n",
    "flood_dataset_df = add_manipulated_features(flood_dataset_df)\n",
    "flood_dataset_df.to_csv('test_data_featured.csv', index=False)"
   ]
  },
  {
   "cell_type": "code",
   "execution_count": 25,
   "id": "2074eda1",
   "metadata": {
    "execution": {
     "iopub.execute_input": "2024-05-30T21:40:29.359421Z",
     "iopub.status.busy": "2024-05-30T21:40:29.359018Z",
     "iopub.status.idle": "2024-05-30T21:40:29.373767Z",
     "shell.execute_reply": "2024-05-30T21:40:29.372276Z"
    },
    "papermill": {
     "duration": 0.030903,
     "end_time": "2024-05-30T21:40:29.376163",
     "exception": false,
     "start_time": "2024-05-30T21:40:29.345260",
     "status": "completed"
    },
    "tags": []
   },
   "outputs": [],
   "source": [
    "del flood_dataset_df"
   ]
  },
  {
   "cell_type": "code",
   "execution_count": 26,
   "id": "b67a8644",
   "metadata": {
    "execution": {
     "iopub.execute_input": "2024-05-30T21:40:29.404272Z",
     "iopub.status.busy": "2024-05-30T21:40:29.403239Z",
     "iopub.status.idle": "2024-05-30T21:40:33.046020Z",
     "shell.execute_reply": "2024-05-30T21:40:33.045060Z"
    },
    "papermill": {
     "duration": 3.659334,
     "end_time": "2024-05-30T21:40:33.048700",
     "exception": false,
     "start_time": "2024-05-30T21:40:29.389366",
     "status": "completed"
    },
    "tags": []
   },
   "outputs": [],
   "source": [
    "flood_dataset_df = pd.read_csv(\"/kaggle/working/train_without_preprocessing.csv\")"
   ]
  },
  {
   "cell_type": "code",
   "execution_count": 27,
   "id": "a1e76aa8",
   "metadata": {
    "execution": {
     "iopub.execute_input": "2024-05-30T21:40:33.076650Z",
     "iopub.status.busy": "2024-05-30T21:40:33.075889Z",
     "iopub.status.idle": "2024-05-30T21:43:20.285325Z",
     "shell.execute_reply": "2024-05-30T21:43:20.284251Z"
    },
    "papermill": {
     "duration": 167.236999,
     "end_time": "2024-05-30T21:43:20.298349",
     "exception": false,
     "start_time": "2024-05-30T21:40:33.061350",
     "status": "completed"
    },
    "tags": []
   },
   "outputs": [
    {
     "name": "stdout",
     "output_type": "stream",
     "text": [
      "Extreme Gradient Boosting RMSE Metric: 0.03758825913032963\n",
      "Extreme Gradient Boosting R-squared Metric: 0.8679998530350381\n"
     ]
    }
   ],
   "source": [
    "from sklearn.preprocessing import StandardScaler\n",
    "from sklearn.metrics import r2_score\n",
    "from sklearn.model_selection import train_test_split\n",
    "from sklearn.metrics import mean_squared_error, r2_score\n",
    "\n",
    "#flood_dataset_df.drop(['id'], axis = 1, inplace = True)\n",
    "dataX = flood_dataset_df.drop(['FloodProbability'], axis = 1)\n",
    "datay = flood_dataset_df['FloodProbability']\n",
    "\n",
    "X_train, X_test, Y_train, Y_test = train_test_split(dataX, datay, test_size = 0.3, random_state = 42)\n",
    "\n",
    "from xgboost import XGBRegressor\n",
    "xgb = XGBRegressor(learning_rate=0.01, n_estimators=3460,\n",
    "                                     max_depth=3, min_child_weight=0,\n",
    "                                     gamma=0, subsample=0.7,\n",
    "                                     colsample_bytree=0.7,\n",
    "                                     #objective='reg:linear', nthread=-1,\n",
    "                                     objective='reg:squarederror', nthread=-1,\n",
    "                                     scale_pos_weight=1, seed=27,\n",
    "                                     reg_alpha=0.00006)\n",
    "xgb_model = xgb.fit(X_train , Y_train)\n",
    "\n",
    "y_pred_xgboost = xgb_model.predict(X_test)\n",
    "\n",
    "xgboost_rmse_calculator = np.sqrt(mean_squared_error(np.log(Y_test), np.log(y_pred_xgboost)))\n",
    "xgboost_r2_metric = r2_score(Y_test, y_pred_xgboost)\n",
    "\n",
    "print(f\"Extreme Gradient Boosting RMSE Metric: {xgboost_rmse_calculator}\")\n",
    "print(f\"Extreme Gradient Boosting R-squared Metric: {xgboost_r2_metric}\")"
   ]
  },
  {
   "cell_type": "code",
   "execution_count": 28,
   "id": "430b5f54",
   "metadata": {
    "execution": {
     "iopub.execute_input": "2024-05-30T21:43:20.326046Z",
     "iopub.status.busy": "2024-05-30T21:43:20.325298Z",
     "iopub.status.idle": "2024-05-30T21:52:06.074843Z",
     "shell.execute_reply": "2024-05-30T21:52:06.073453Z"
    },
    "papermill": {
     "duration": 525.780626,
     "end_time": "2024-05-30T21:52:06.091388",
     "exception": false,
     "start_time": "2024-05-30T21:43:20.310762",
     "status": "completed"
    },
    "tags": []
   },
   "outputs": [
    {
     "name": "stdout",
     "output_type": "stream",
     "text": [
      "Light Gradient Boosting RMSE Metric: 0.037437269732172936\n",
      "Light Gradient Boosting R-squared Metric: 0.8689918566917086\n"
     ]
    }
   ],
   "source": [
    "from lightgbm import LGBMRegressor\n",
    "            \n",
    "lgb_params = {\n",
    "    'boosting_type': 'gbdt', \n",
    "    'n_estimators':2000, \n",
    "    'learning_rate' :  0.012,\n",
    "    'num_leaves' : 250, \n",
    "    'subsample_for_bin': 165700, \n",
    "    'min_child_samples': 114, \n",
    "    'reg_alpha': 2.075e-06, \n",
    "    'reg_lambda': 3.839e-07, \n",
    "    'colsample_bytree': 0.9634,\n",
    "    'subsample': 0.9592, \n",
    "    'max_depth': 10,\n",
    "    'random_state':0,\n",
    "    'verbosity':-1}\n",
    "\n",
    "lgbm = LGBMRegressor(**lgb_params)\n",
    "\n",
    "lgbm_model = lgbm.fit(X_train , Y_train)\n",
    "\n",
    "y_pred_lgbm = lgbm_model.predict(X_test)\n",
    "\n",
    "lgbm_rmse_calculator = np.sqrt(mean_squared_error(np.log(Y_test), np.log(y_pred_lgbm)))\n",
    "lgbm_r2_metric = r2_score(Y_test, y_pred_lgbm)\n",
    "\n",
    "print(f\"Light Gradient Boosting RMSE Metric: {lgbm_rmse_calculator}\")\n",
    "print(f\"Light Gradient Boosting R-squared Metric: {lgbm_r2_metric}\")"
   ]
  },
  {
   "cell_type": "code",
   "execution_count": 29,
   "id": "2420820f",
   "metadata": {
    "execution": {
     "iopub.execute_input": "2024-05-30T21:52:06.118867Z",
     "iopub.status.busy": "2024-05-30T21:52:06.118185Z",
     "iopub.status.idle": "2024-05-30T21:59:12.948289Z",
     "shell.execute_reply": "2024-05-30T21:59:12.946776Z"
    },
    "papermill": {
     "duration": 426.847361,
     "end_time": "2024-05-30T21:59:12.951289",
     "exception": false,
     "start_time": "2024-05-30T21:52:06.103928",
     "status": "completed"
    },
    "tags": []
   },
   "outputs": [
    {
     "name": "stdout",
     "output_type": "stream",
     "text": [
      "        id  FloodProbability\n",
      "0  1117957          0.578965\n",
      "1  1117958          0.455240\n",
      "2  1117959          0.454373\n",
      "3  1117960          0.465918\n",
      "4  1117961          0.464233\n"
     ]
    }
   ],
   "source": [
    "testddata = pd.read_csv(\"/kaggle/working/test_data.csv\")\n",
    "\n",
    "input_test = pd.read_csv('/kaggle/input/playground-series-s4e5/test.csv')\n",
    "\n",
    "id_no = input_test['id']\n",
    "test_pred_lgbm = lgbm_model.predict(testddata)\n",
    "\n",
    "submission = pd.DataFrame({\n",
    "    'id': id_no,\n",
    "    'FloodProbability': test_pred_lgbm\n",
    "})\n",
    "\n",
    "print(submission.head())\n",
    "submission.to_csv('/kaggle/working/submission.csv', index=False)"
   ]
  }
 ],
 "metadata": {
  "kaggle": {
   "accelerator": "none",
   "dataSources": [
    {
     "databundleVersionId": 8121328,
     "sourceId": 73278,
     "sourceType": "competition"
    }
   ],
   "dockerImageVersionId": 30698,
   "isGpuEnabled": false,
   "isInternetEnabled": true,
   "language": "python",
   "sourceType": "notebook"
  },
  "kernelspec": {
   "display_name": "Python 3",
   "language": "python",
   "name": "python3"
  },
  "language_info": {
   "codemirror_mode": {
    "name": "ipython",
    "version": 3
   },
   "file_extension": ".py",
   "mimetype": "text/x-python",
   "name": "python",
   "nbconvert_exporter": "python",
   "pygments_lexer": "ipython3",
   "version": "3.10.13"
  },
  "papermill": {
   "default_parameters": {},
   "duration": 1315.002736,
   "end_time": "2024-05-30T21:59:13.790542",
   "environment_variables": {},
   "exception": null,
   "input_path": "__notebook__.ipynb",
   "output_path": "__notebook__.ipynb",
   "parameters": {},
   "start_time": "2024-05-30T21:37:18.787806",
   "version": "2.5.0"
  }
 },
 "nbformat": 4,
 "nbformat_minor": 5
}
