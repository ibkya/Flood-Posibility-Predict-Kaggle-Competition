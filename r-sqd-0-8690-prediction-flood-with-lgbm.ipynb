{
 "cells": [
  {
   "cell_type": "code",
   "execution_count": 1,
   "id": "386b412e",
   "metadata": {
    "_cell_guid": "b1076dfc-b9ad-4769-8c92-a6c4dae69d19",
    "_uuid": "8f2839f25d086af736a60e9eeb907d3b93b6e0e5",
    "execution": {
     "iopub.execute_input": "2024-05-31T23:22:06.731008Z",
     "iopub.status.busy": "2024-05-31T23:22:06.730537Z",
     "iopub.status.idle": "2024-05-31T23:22:07.621467Z",
     "shell.execute_reply": "2024-05-31T23:22:07.620104Z"
    },
    "papermill": {
     "duration": 0.907271,
     "end_time": "2024-05-31T23:22:07.624086",
     "exception": false,
     "start_time": "2024-05-31T23:22:06.716815",
     "status": "completed"
    },
    "tags": []
   },
   "outputs": [
    {
     "name": "stdout",
     "output_type": "stream",
     "text": [
      "/kaggle/input/playground-series-s4e5/sample_submission.csv\n",
      "/kaggle/input/playground-series-s4e5/train.csv\n",
      "/kaggle/input/playground-series-s4e5/test.csv\n"
     ]
    }
   ],
   "source": [
    "import numpy as np \n",
    "import pandas as pd \n",
    "import os\n",
    "for dirname, _, filenames in os.walk('/kaggle/input'):\n",
    "    for filename in filenames:\n",
    "        print(os.path.join(dirname, filename))"
   ]
  },
  {
   "cell_type": "code",
   "execution_count": 2,
   "id": "c7d6307e",
   "metadata": {
    "execution": {
     "iopub.execute_input": "2024-05-31T23:22:07.649177Z",
     "iopub.status.busy": "2024-05-31T23:22:07.648692Z",
     "iopub.status.idle": "2024-05-31T23:22:08.892039Z",
     "shell.execute_reply": "2024-05-31T23:22:08.891078Z"
    },
    "papermill": {
     "duration": 1.258861,
     "end_time": "2024-05-31T23:22:08.894853",
     "exception": false,
     "start_time": "2024-05-31T23:22:07.635992",
     "status": "completed"
    },
    "tags": []
   },
   "outputs": [],
   "source": [
    "from sklearn.metrics import mean_squared_error, r2_score\n",
    "from sklearn.model_selection import train_test_split"
   ]
  },
  {
   "cell_type": "code",
   "execution_count": 3,
   "id": "73b8272c",
   "metadata": {
    "execution": {
     "iopub.execute_input": "2024-05-31T23:22:08.919781Z",
     "iopub.status.busy": "2024-05-31T23:22:08.919364Z",
     "iopub.status.idle": "2024-05-31T23:22:11.370960Z",
     "shell.execute_reply": "2024-05-31T23:22:11.369688Z"
    },
    "papermill": {
     "duration": 2.467434,
     "end_time": "2024-05-31T23:22:11.373920",
     "exception": false,
     "start_time": "2024-05-31T23:22:08.906486",
     "status": "completed"
    },
    "tags": []
   },
   "outputs": [],
   "source": [
    "flood_dataset = pd.read_csv(\"/kaggle/input/playground-series-s4e5/train.csv\")"
   ]
  },
  {
   "cell_type": "code",
   "execution_count": 4,
   "id": "d013d36a",
   "metadata": {
    "execution": {
     "iopub.execute_input": "2024-05-31T23:22:11.399925Z",
     "iopub.status.busy": "2024-05-31T23:22:11.399511Z",
     "iopub.status.idle": "2024-05-31T23:22:12.332789Z",
     "shell.execute_reply": "2024-05-31T23:22:12.331165Z"
    },
    "papermill": {
     "duration": 0.949426,
     "end_time": "2024-05-31T23:22:12.335901",
     "exception": false,
     "start_time": "2024-05-31T23:22:11.386475",
     "status": "completed"
    },
    "tags": []
   },
   "outputs": [
    {
     "data": {
      "text/html": [
       "<div>\n",
       "<style scoped>\n",
       "    .dataframe tbody tr th:only-of-type {\n",
       "        vertical-align: middle;\n",
       "    }\n",
       "\n",
       "    .dataframe tbody tr th {\n",
       "        vertical-align: top;\n",
       "    }\n",
       "\n",
       "    .dataframe thead th {\n",
       "        text-align: right;\n",
       "    }\n",
       "</style>\n",
       "<table border=\"1\" class=\"dataframe\">\n",
       "  <thead>\n",
       "    <tr style=\"text-align: right;\">\n",
       "      <th></th>\n",
       "      <th>count</th>\n",
       "      <th>mean</th>\n",
       "      <th>std</th>\n",
       "      <th>min</th>\n",
       "      <th>25%</th>\n",
       "      <th>50%</th>\n",
       "      <th>75%</th>\n",
       "      <th>max</th>\n",
       "    </tr>\n",
       "  </thead>\n",
       "  <tbody>\n",
       "    <tr>\n",
       "      <th>id</th>\n",
       "      <td>1117957.0</td>\n",
       "      <td>558978.000000</td>\n",
       "      <td>322726.531784</td>\n",
       "      <td>0.000</td>\n",
       "      <td>279489.00</td>\n",
       "      <td>558978.000</td>\n",
       "      <td>838467.00</td>\n",
       "      <td>1117956.000</td>\n",
       "    </tr>\n",
       "    <tr>\n",
       "      <th>MonsoonIntensity</th>\n",
       "      <td>1117957.0</td>\n",
       "      <td>4.921450</td>\n",
       "      <td>2.056387</td>\n",
       "      <td>0.000</td>\n",
       "      <td>3.00</td>\n",
       "      <td>5.000</td>\n",
       "      <td>6.00</td>\n",
       "      <td>16.000</td>\n",
       "    </tr>\n",
       "    <tr>\n",
       "      <th>TopographyDrainage</th>\n",
       "      <td>1117957.0</td>\n",
       "      <td>4.926671</td>\n",
       "      <td>2.093879</td>\n",
       "      <td>0.000</td>\n",
       "      <td>3.00</td>\n",
       "      <td>5.000</td>\n",
       "      <td>6.00</td>\n",
       "      <td>18.000</td>\n",
       "    </tr>\n",
       "    <tr>\n",
       "      <th>RiverManagement</th>\n",
       "      <td>1117957.0</td>\n",
       "      <td>4.955322</td>\n",
       "      <td>2.072186</td>\n",
       "      <td>0.000</td>\n",
       "      <td>4.00</td>\n",
       "      <td>5.000</td>\n",
       "      <td>6.00</td>\n",
       "      <td>16.000</td>\n",
       "    </tr>\n",
       "    <tr>\n",
       "      <th>Deforestation</th>\n",
       "      <td>1117957.0</td>\n",
       "      <td>4.942240</td>\n",
       "      <td>2.051689</td>\n",
       "      <td>0.000</td>\n",
       "      <td>4.00</td>\n",
       "      <td>5.000</td>\n",
       "      <td>6.00</td>\n",
       "      <td>17.000</td>\n",
       "    </tr>\n",
       "    <tr>\n",
       "      <th>Urbanization</th>\n",
       "      <td>1117957.0</td>\n",
       "      <td>4.942517</td>\n",
       "      <td>2.083391</td>\n",
       "      <td>0.000</td>\n",
       "      <td>3.00</td>\n",
       "      <td>5.000</td>\n",
       "      <td>6.00</td>\n",
       "      <td>17.000</td>\n",
       "    </tr>\n",
       "    <tr>\n",
       "      <th>ClimateChange</th>\n",
       "      <td>1117957.0</td>\n",
       "      <td>4.934093</td>\n",
       "      <td>2.057742</td>\n",
       "      <td>0.000</td>\n",
       "      <td>3.00</td>\n",
       "      <td>5.000</td>\n",
       "      <td>6.00</td>\n",
       "      <td>17.000</td>\n",
       "    </tr>\n",
       "    <tr>\n",
       "      <th>DamsQuality</th>\n",
       "      <td>1117957.0</td>\n",
       "      <td>4.955878</td>\n",
       "      <td>2.083063</td>\n",
       "      <td>0.000</td>\n",
       "      <td>4.00</td>\n",
       "      <td>5.000</td>\n",
       "      <td>6.00</td>\n",
       "      <td>16.000</td>\n",
       "    </tr>\n",
       "    <tr>\n",
       "      <th>Siltation</th>\n",
       "      <td>1117957.0</td>\n",
       "      <td>4.927791</td>\n",
       "      <td>2.065992</td>\n",
       "      <td>0.000</td>\n",
       "      <td>3.00</td>\n",
       "      <td>5.000</td>\n",
       "      <td>6.00</td>\n",
       "      <td>16.000</td>\n",
       "    </tr>\n",
       "    <tr>\n",
       "      <th>AgriculturalPractices</th>\n",
       "      <td>1117957.0</td>\n",
       "      <td>4.942619</td>\n",
       "      <td>2.068545</td>\n",
       "      <td>0.000</td>\n",
       "      <td>3.00</td>\n",
       "      <td>5.000</td>\n",
       "      <td>6.00</td>\n",
       "      <td>16.000</td>\n",
       "    </tr>\n",
       "    <tr>\n",
       "      <th>Encroachments</th>\n",
       "      <td>1117957.0</td>\n",
       "      <td>4.949230</td>\n",
       "      <td>2.083324</td>\n",
       "      <td>0.000</td>\n",
       "      <td>4.00</td>\n",
       "      <td>5.000</td>\n",
       "      <td>6.00</td>\n",
       "      <td>18.000</td>\n",
       "    </tr>\n",
       "    <tr>\n",
       "      <th>IneffectiveDisasterPreparedness</th>\n",
       "      <td>1117957.0</td>\n",
       "      <td>4.945239</td>\n",
       "      <td>2.078141</td>\n",
       "      <td>0.000</td>\n",
       "      <td>3.00</td>\n",
       "      <td>5.000</td>\n",
       "      <td>6.00</td>\n",
       "      <td>16.000</td>\n",
       "    </tr>\n",
       "    <tr>\n",
       "      <th>DrainageSystems</th>\n",
       "      <td>1117957.0</td>\n",
       "      <td>4.946893</td>\n",
       "      <td>2.072333</td>\n",
       "      <td>0.000</td>\n",
       "      <td>4.00</td>\n",
       "      <td>5.000</td>\n",
       "      <td>6.00</td>\n",
       "      <td>17.000</td>\n",
       "    </tr>\n",
       "    <tr>\n",
       "      <th>CoastalVulnerability</th>\n",
       "      <td>1117957.0</td>\n",
       "      <td>4.953999</td>\n",
       "      <td>2.088899</td>\n",
       "      <td>0.000</td>\n",
       "      <td>3.00</td>\n",
       "      <td>5.000</td>\n",
       "      <td>6.00</td>\n",
       "      <td>17.000</td>\n",
       "    </tr>\n",
       "    <tr>\n",
       "      <th>Landslides</th>\n",
       "      <td>1117957.0</td>\n",
       "      <td>4.931376</td>\n",
       "      <td>2.078287</td>\n",
       "      <td>0.000</td>\n",
       "      <td>3.00</td>\n",
       "      <td>5.000</td>\n",
       "      <td>6.00</td>\n",
       "      <td>16.000</td>\n",
       "    </tr>\n",
       "    <tr>\n",
       "      <th>Watersheds</th>\n",
       "      <td>1117957.0</td>\n",
       "      <td>4.929032</td>\n",
       "      <td>2.082395</td>\n",
       "      <td>0.000</td>\n",
       "      <td>3.00</td>\n",
       "      <td>5.000</td>\n",
       "      <td>6.00</td>\n",
       "      <td>16.000</td>\n",
       "    </tr>\n",
       "    <tr>\n",
       "      <th>DeterioratingInfrastructure</th>\n",
       "      <td>1117957.0</td>\n",
       "      <td>4.925907</td>\n",
       "      <td>2.064813</td>\n",
       "      <td>0.000</td>\n",
       "      <td>3.00</td>\n",
       "      <td>5.000</td>\n",
       "      <td>6.00</td>\n",
       "      <td>17.000</td>\n",
       "    </tr>\n",
       "    <tr>\n",
       "      <th>PopulationScore</th>\n",
       "      <td>1117957.0</td>\n",
       "      <td>4.927520</td>\n",
       "      <td>2.074176</td>\n",
       "      <td>0.000</td>\n",
       "      <td>3.00</td>\n",
       "      <td>5.000</td>\n",
       "      <td>6.00</td>\n",
       "      <td>18.000</td>\n",
       "    </tr>\n",
       "    <tr>\n",
       "      <th>WetlandLoss</th>\n",
       "      <td>1117957.0</td>\n",
       "      <td>4.950859</td>\n",
       "      <td>2.068696</td>\n",
       "      <td>0.000</td>\n",
       "      <td>4.00</td>\n",
       "      <td>5.000</td>\n",
       "      <td>6.00</td>\n",
       "      <td>19.000</td>\n",
       "    </tr>\n",
       "    <tr>\n",
       "      <th>InadequatePlanning</th>\n",
       "      <td>1117957.0</td>\n",
       "      <td>4.940587</td>\n",
       "      <td>2.081123</td>\n",
       "      <td>0.000</td>\n",
       "      <td>3.00</td>\n",
       "      <td>5.000</td>\n",
       "      <td>6.00</td>\n",
       "      <td>16.000</td>\n",
       "    </tr>\n",
       "    <tr>\n",
       "      <th>PoliticalFactors</th>\n",
       "      <td>1117957.0</td>\n",
       "      <td>4.939004</td>\n",
       "      <td>2.090350</td>\n",
       "      <td>0.000</td>\n",
       "      <td>3.00</td>\n",
       "      <td>5.000</td>\n",
       "      <td>6.00</td>\n",
       "      <td>16.000</td>\n",
       "    </tr>\n",
       "    <tr>\n",
       "      <th>FloodProbability</th>\n",
       "      <td>1117957.0</td>\n",
       "      <td>0.504480</td>\n",
       "      <td>0.051026</td>\n",
       "      <td>0.285</td>\n",
       "      <td>0.47</td>\n",
       "      <td>0.505</td>\n",
       "      <td>0.54</td>\n",
       "      <td>0.725</td>\n",
       "    </tr>\n",
       "  </tbody>\n",
       "</table>\n",
       "</div>"
      ],
      "text/plain": [
       "                                     count           mean            std  \\\n",
       "id                               1117957.0  558978.000000  322726.531784   \n",
       "MonsoonIntensity                 1117957.0       4.921450       2.056387   \n",
       "TopographyDrainage               1117957.0       4.926671       2.093879   \n",
       "RiverManagement                  1117957.0       4.955322       2.072186   \n",
       "Deforestation                    1117957.0       4.942240       2.051689   \n",
       "Urbanization                     1117957.0       4.942517       2.083391   \n",
       "ClimateChange                    1117957.0       4.934093       2.057742   \n",
       "DamsQuality                      1117957.0       4.955878       2.083063   \n",
       "Siltation                        1117957.0       4.927791       2.065992   \n",
       "AgriculturalPractices            1117957.0       4.942619       2.068545   \n",
       "Encroachments                    1117957.0       4.949230       2.083324   \n",
       "IneffectiveDisasterPreparedness  1117957.0       4.945239       2.078141   \n",
       "DrainageSystems                  1117957.0       4.946893       2.072333   \n",
       "CoastalVulnerability             1117957.0       4.953999       2.088899   \n",
       "Landslides                       1117957.0       4.931376       2.078287   \n",
       "Watersheds                       1117957.0       4.929032       2.082395   \n",
       "DeterioratingInfrastructure      1117957.0       4.925907       2.064813   \n",
       "PopulationScore                  1117957.0       4.927520       2.074176   \n",
       "WetlandLoss                      1117957.0       4.950859       2.068696   \n",
       "InadequatePlanning               1117957.0       4.940587       2.081123   \n",
       "PoliticalFactors                 1117957.0       4.939004       2.090350   \n",
       "FloodProbability                 1117957.0       0.504480       0.051026   \n",
       "\n",
       "                                   min        25%         50%        75%  \\\n",
       "id                               0.000  279489.00  558978.000  838467.00   \n",
       "MonsoonIntensity                 0.000       3.00       5.000       6.00   \n",
       "TopographyDrainage               0.000       3.00       5.000       6.00   \n",
       "RiverManagement                  0.000       4.00       5.000       6.00   \n",
       "Deforestation                    0.000       4.00       5.000       6.00   \n",
       "Urbanization                     0.000       3.00       5.000       6.00   \n",
       "ClimateChange                    0.000       3.00       5.000       6.00   \n",
       "DamsQuality                      0.000       4.00       5.000       6.00   \n",
       "Siltation                        0.000       3.00       5.000       6.00   \n",
       "AgriculturalPractices            0.000       3.00       5.000       6.00   \n",
       "Encroachments                    0.000       4.00       5.000       6.00   \n",
       "IneffectiveDisasterPreparedness  0.000       3.00       5.000       6.00   \n",
       "DrainageSystems                  0.000       4.00       5.000       6.00   \n",
       "CoastalVulnerability             0.000       3.00       5.000       6.00   \n",
       "Landslides                       0.000       3.00       5.000       6.00   \n",
       "Watersheds                       0.000       3.00       5.000       6.00   \n",
       "DeterioratingInfrastructure      0.000       3.00       5.000       6.00   \n",
       "PopulationScore                  0.000       3.00       5.000       6.00   \n",
       "WetlandLoss                      0.000       4.00       5.000       6.00   \n",
       "InadequatePlanning               0.000       3.00       5.000       6.00   \n",
       "PoliticalFactors                 0.000       3.00       5.000       6.00   \n",
       "FloodProbability                 0.285       0.47       0.505       0.54   \n",
       "\n",
       "                                         max  \n",
       "id                               1117956.000  \n",
       "MonsoonIntensity                      16.000  \n",
       "TopographyDrainage                    18.000  \n",
       "RiverManagement                       16.000  \n",
       "Deforestation                         17.000  \n",
       "Urbanization                          17.000  \n",
       "ClimateChange                         17.000  \n",
       "DamsQuality                           16.000  \n",
       "Siltation                             16.000  \n",
       "AgriculturalPractices                 16.000  \n",
       "Encroachments                         18.000  \n",
       "IneffectiveDisasterPreparedness       16.000  \n",
       "DrainageSystems                       17.000  \n",
       "CoastalVulnerability                  17.000  \n",
       "Landslides                            16.000  \n",
       "Watersheds                            16.000  \n",
       "DeterioratingInfrastructure           17.000  \n",
       "PopulationScore                       18.000  \n",
       "WetlandLoss                           19.000  \n",
       "InadequatePlanning                    16.000  \n",
       "PoliticalFactors                      16.000  \n",
       "FloodProbability                       0.725  "
      ]
     },
     "execution_count": 4,
     "metadata": {},
     "output_type": "execute_result"
    }
   ],
   "source": [
    "flood_dataset.describe().T"
   ]
  },
  {
   "cell_type": "markdown",
   "id": "68c85027",
   "metadata": {
    "papermill": {
     "duration": 0.016314,
     "end_time": "2024-05-31T23:22:12.365315",
     "exception": false,
     "start_time": "2024-05-31T23:22:12.349001",
     "status": "completed"
    },
    "tags": []
   },
   "source": [
    "# **Data Preprocessing: (for each columns in Horizontal ways)**"
   ]
  },
  {
   "cell_type": "code",
   "execution_count": 5,
   "id": "cbb8faf9",
   "metadata": {
    "execution": {
     "iopub.execute_input": "2024-05-31T23:22:12.399897Z",
     "iopub.status.busy": "2024-05-31T23:22:12.399048Z",
     "iopub.status.idle": "2024-05-31T23:22:12.406366Z",
     "shell.execute_reply": "2024-05-31T23:22:12.405255Z"
    },
    "papermill": {
     "duration": 0.027027,
     "end_time": "2024-05-31T23:22:12.408890",
     "exception": false,
     "start_time": "2024-05-31T23:22:12.381863",
     "status": "completed"
    },
    "tags": []
   },
   "outputs": [],
   "source": [
    "def add_features(df):\n",
    "    addfeatures = df.columns.tolist()\n",
    "    df['std_features'] = df[addfeatures].std(axis=1)\n",
    "    df['mean_features'] = 0.1*df[addfeatures].mean(axis=1)\n",
    "    df['median_features'] = 0.1*df[addfeatures].median(axis=1)\n",
    "    df['max_features'] = df[addfeatures].max(axis=1)\n",
    "    df['min_features'] = df[addfeatures].min(axis=1)    \n",
    "    return df"
   ]
  },
  {
   "cell_type": "code",
   "execution_count": 6,
   "id": "62581f04",
   "metadata": {
    "execution": {
     "iopub.execute_input": "2024-05-31T23:22:12.436279Z",
     "iopub.status.busy": "2024-05-31T23:22:12.435847Z",
     "iopub.status.idle": "2024-05-31T23:22:12.611760Z",
     "shell.execute_reply": "2024-05-31T23:22:12.609974Z"
    },
    "papermill": {
     "duration": 0.193548,
     "end_time": "2024-05-31T23:22:12.615793",
     "exception": false,
     "start_time": "2024-05-31T23:22:12.422245",
     "status": "completed"
    },
    "tags": []
   },
   "outputs": [],
   "source": [
    "flood_dataset_df=flood_dataset.copy()\n",
    "flood_dataset_df.drop(['id'], axis = 1, inplace = True)"
   ]
  },
  {
   "cell_type": "code",
   "execution_count": 7,
   "id": "809ae55b",
   "metadata": {
    "execution": {
     "iopub.execute_input": "2024-05-31T23:22:12.647242Z",
     "iopub.status.busy": "2024-05-31T23:22:12.646223Z",
     "iopub.status.idle": "2024-05-31T23:22:12.716155Z",
     "shell.execute_reply": "2024-05-31T23:22:12.715045Z"
    },
    "papermill": {
     "duration": 0.088031,
     "end_time": "2024-05-31T23:22:12.719288",
     "exception": false,
     "start_time": "2024-05-31T23:22:12.631257",
     "status": "completed"
    },
    "tags": []
   },
   "outputs": [],
   "source": [
    "df = flood_dataset_df\n",
    "df1 = df.drop([\"FloodProbability\"], axis=1)"
   ]
  },
  {
   "cell_type": "code",
   "execution_count": 8,
   "id": "27ad7eab",
   "metadata": {
    "execution": {
     "iopub.execute_input": "2024-05-31T23:22:12.745749Z",
     "iopub.status.busy": "2024-05-31T23:22:12.745338Z",
     "iopub.status.idle": "2024-05-31T23:22:16.397562Z",
     "shell.execute_reply": "2024-05-31T23:22:16.396256Z"
    },
    "papermill": {
     "duration": 3.668617,
     "end_time": "2024-05-31T23:22:16.400330",
     "exception": false,
     "start_time": "2024-05-31T23:22:12.731713",
     "status": "completed"
    },
    "tags": []
   },
   "outputs": [],
   "source": [
    "flood_dataset_df = add_features(df1)\n",
    "y = df[\"FloodProbability\"]"
   ]
  },
  {
   "cell_type": "code",
   "execution_count": 9,
   "id": "b5c73542",
   "metadata": {
    "execution": {
     "iopub.execute_input": "2024-05-31T23:22:16.427286Z",
     "iopub.status.busy": "2024-05-31T23:22:16.426840Z",
     "iopub.status.idle": "2024-05-31T23:22:16.434971Z",
     "shell.execute_reply": "2024-05-31T23:22:16.433935Z"
    },
    "papermill": {
     "duration": 0.024932,
     "end_time": "2024-05-31T23:22:16.437755",
     "exception": false,
     "start_time": "2024-05-31T23:22:16.412823",
     "status": "completed"
    },
    "tags": []
   },
   "outputs": [],
   "source": [
    "def add_more_features(flood_dataset_df):\n",
    "    flood_dataset_df['weather'] = - flood_dataset_df['MonsoonIntensity'] - flood_dataset_df['ClimateChange']\n",
    "    flood_dataset_df['structure'] = flood_dataset_df['TopographyDrainage'] + flood_dataset_df['RiverManagement'] - flood_dataset_df['Deforestation'] + flood_dataset_df['DamsQuality'] + flood_dataset_df['Encroachments'] + flood_dataset_df['DrainageSystems'] - flood_dataset_df['Watersheds'] - flood_dataset_df['DeterioratingInfrastructure'] + flood_dataset_df['WetlandLoss'] \n",
    "    flood_dataset_df['population'] = - flood_dataset_df['Urbanization'] * flood_dataset_df['PopulationScore']\n",
    "    flood_dataset_df['soil_infrastructure'] = - flood_dataset_df['Siltation'] + flood_dataset_df['AgriculturalPractices'] - flood_dataset_df['Landslides']\n",
    "    flood_dataset_df['preparedness'] = - flood_dataset_df['IneffectiveDisasterPreparedness'] + flood_dataset_df['CoastalVulnerability'] - flood_dataset_df['InadequatePlanning'] - flood_dataset_df['PoliticalFactors'] \n",
    "    return flood_dataset_df"
   ]
  },
  {
   "cell_type": "code",
   "execution_count": 10,
   "id": "2855ca4a",
   "metadata": {
    "execution": {
     "iopub.execute_input": "2024-05-31T23:22:16.464170Z",
     "iopub.status.busy": "2024-05-31T23:22:16.463779Z",
     "iopub.status.idle": "2024-05-31T23:22:16.519345Z",
     "shell.execute_reply": "2024-05-31T23:22:16.518131Z"
    },
    "papermill": {
     "duration": 0.07197,
     "end_time": "2024-05-31T23:22:16.522096",
     "exception": false,
     "start_time": "2024-05-31T23:22:16.450126",
     "status": "completed"
    },
    "tags": []
   },
   "outputs": [],
   "source": [
    "flood_dataset_df = add_more_features(flood_dataset_df)"
   ]
  },
  {
   "cell_type": "code",
   "execution_count": 11,
   "id": "499b3256",
   "metadata": {
    "execution": {
     "iopub.execute_input": "2024-05-31T23:22:16.548389Z",
     "iopub.status.busy": "2024-05-31T23:22:16.547925Z",
     "iopub.status.idle": "2024-05-31T23:22:16.555203Z",
     "shell.execute_reply": "2024-05-31T23:22:16.554027Z"
    },
    "papermill": {
     "duration": 0.023448,
     "end_time": "2024-05-31T23:22:16.557759",
     "exception": false,
     "start_time": "2024-05-31T23:22:16.534311",
     "status": "completed"
    },
    "tags": []
   },
   "outputs": [],
   "source": [
    "flood_dataset_df[\"FloodProbability\"]=y"
   ]
  },
  {
   "cell_type": "code",
   "execution_count": 12,
   "id": "58e80a52",
   "metadata": {
    "execution": {
     "iopub.execute_input": "2024-05-31T23:22:16.584099Z",
     "iopub.status.busy": "2024-05-31T23:22:16.583652Z",
     "iopub.status.idle": "2024-05-31T23:22:16.663167Z",
     "shell.execute_reply": "2024-05-31T23:22:16.661687Z"
    },
    "papermill": {
     "duration": 0.095672,
     "end_time": "2024-05-31T23:22:16.665763",
     "exception": false,
     "start_time": "2024-05-31T23:22:16.570091",
     "status": "completed"
    },
    "tags": []
   },
   "outputs": [
    {
     "name": "stdout",
     "output_type": "stream",
     "text": [
      "<class 'pandas.core.frame.DataFrame'>\n",
      "RangeIndex: 1117957 entries, 0 to 1117956\n",
      "Data columns (total 31 columns):\n",
      " #   Column                           Non-Null Count    Dtype  \n",
      "---  ------                           --------------    -----  \n",
      " 0   MonsoonIntensity                 1117957 non-null  int64  \n",
      " 1   TopographyDrainage               1117957 non-null  int64  \n",
      " 2   RiverManagement                  1117957 non-null  int64  \n",
      " 3   Deforestation                    1117957 non-null  int64  \n",
      " 4   Urbanization                     1117957 non-null  int64  \n",
      " 5   ClimateChange                    1117957 non-null  int64  \n",
      " 6   DamsQuality                      1117957 non-null  int64  \n",
      " 7   Siltation                        1117957 non-null  int64  \n",
      " 8   AgriculturalPractices            1117957 non-null  int64  \n",
      " 9   Encroachments                    1117957 non-null  int64  \n",
      " 10  IneffectiveDisasterPreparedness  1117957 non-null  int64  \n",
      " 11  DrainageSystems                  1117957 non-null  int64  \n",
      " 12  CoastalVulnerability             1117957 non-null  int64  \n",
      " 13  Landslides                       1117957 non-null  int64  \n",
      " 14  Watersheds                       1117957 non-null  int64  \n",
      " 15  DeterioratingInfrastructure      1117957 non-null  int64  \n",
      " 16  PopulationScore                  1117957 non-null  int64  \n",
      " 17  WetlandLoss                      1117957 non-null  int64  \n",
      " 18  InadequatePlanning               1117957 non-null  int64  \n",
      " 19  PoliticalFactors                 1117957 non-null  int64  \n",
      " 20  std_features                     1117957 non-null  float64\n",
      " 21  mean_features                    1117957 non-null  float64\n",
      " 22  median_features                  1117957 non-null  float64\n",
      " 23  max_features                     1117957 non-null  int64  \n",
      " 24  min_features                     1117957 non-null  int64  \n",
      " 25  weather                          1117957 non-null  int64  \n",
      " 26  structure                        1117957 non-null  int64  \n",
      " 27  population                       1117957 non-null  int64  \n",
      " 28  soil_infrastructure              1117957 non-null  int64  \n",
      " 29  preparedness                     1117957 non-null  int64  \n",
      " 30  FloodProbability                 1117957 non-null  float64\n",
      "dtypes: float64(4), int64(27)\n",
      "memory usage: 264.4 MB\n"
     ]
    }
   ],
   "source": [
    "flood_dataset_df.info()"
   ]
  },
  {
   "cell_type": "code",
   "execution_count": 13,
   "id": "b2e180f3",
   "metadata": {
    "execution": {
     "iopub.execute_input": "2024-05-31T23:22:16.692684Z",
     "iopub.status.busy": "2024-05-31T23:22:16.692241Z",
     "iopub.status.idle": "2024-05-31T23:22:16.717801Z",
     "shell.execute_reply": "2024-05-31T23:22:16.716643Z"
    },
    "papermill": {
     "duration": 0.041866,
     "end_time": "2024-05-31T23:22:16.720365",
     "exception": false,
     "start_time": "2024-05-31T23:22:16.678499",
     "status": "completed"
    },
    "tags": []
   },
   "outputs": [
    {
     "data": {
      "text/html": [
       "<div>\n",
       "<style scoped>\n",
       "    .dataframe tbody tr th:only-of-type {\n",
       "        vertical-align: middle;\n",
       "    }\n",
       "\n",
       "    .dataframe tbody tr th {\n",
       "        vertical-align: top;\n",
       "    }\n",
       "\n",
       "    .dataframe thead th {\n",
       "        text-align: right;\n",
       "    }\n",
       "</style>\n",
       "<table border=\"1\" class=\"dataframe\">\n",
       "  <thead>\n",
       "    <tr style=\"text-align: right;\">\n",
       "      <th></th>\n",
       "      <th>MonsoonIntensity</th>\n",
       "      <th>TopographyDrainage</th>\n",
       "      <th>RiverManagement</th>\n",
       "      <th>Deforestation</th>\n",
       "      <th>Urbanization</th>\n",
       "      <th>ClimateChange</th>\n",
       "      <th>DamsQuality</th>\n",
       "      <th>Siltation</th>\n",
       "      <th>AgriculturalPractices</th>\n",
       "      <th>Encroachments</th>\n",
       "      <th>...</th>\n",
       "      <th>mean_features</th>\n",
       "      <th>median_features</th>\n",
       "      <th>max_features</th>\n",
       "      <th>min_features</th>\n",
       "      <th>weather</th>\n",
       "      <th>structure</th>\n",
       "      <th>population</th>\n",
       "      <th>soil_infrastructure</th>\n",
       "      <th>preparedness</th>\n",
       "      <th>FloodProbability</th>\n",
       "    </tr>\n",
       "  </thead>\n",
       "  <tbody>\n",
       "    <tr>\n",
       "      <th>0</th>\n",
       "      <td>5</td>\n",
       "      <td>8</td>\n",
       "      <td>5</td>\n",
       "      <td>8</td>\n",
       "      <td>6</td>\n",
       "      <td>4</td>\n",
       "      <td>4</td>\n",
       "      <td>3</td>\n",
       "      <td>3</td>\n",
       "      <td>4</td>\n",
       "      <td>...</td>\n",
       "      <td>0.470</td>\n",
       "      <td>0.45</td>\n",
       "      <td>8</td>\n",
       "      <td>2</td>\n",
       "      <td>-9</td>\n",
       "      <td>14</td>\n",
       "      <td>-42</td>\n",
       "      <td>-3</td>\n",
       "      <td>-9</td>\n",
       "      <td>0.445</td>\n",
       "    </tr>\n",
       "    <tr>\n",
       "      <th>1</th>\n",
       "      <td>6</td>\n",
       "      <td>7</td>\n",
       "      <td>4</td>\n",
       "      <td>4</td>\n",
       "      <td>8</td>\n",
       "      <td>8</td>\n",
       "      <td>3</td>\n",
       "      <td>5</td>\n",
       "      <td>4</td>\n",
       "      <td>6</td>\n",
       "      <td>...</td>\n",
       "      <td>0.470</td>\n",
       "      <td>0.40</td>\n",
       "      <td>9</td>\n",
       "      <td>0</td>\n",
       "      <td>-14</td>\n",
       "      <td>18</td>\n",
       "      <td>-24</td>\n",
       "      <td>-1</td>\n",
       "      <td>-14</td>\n",
       "      <td>0.450</td>\n",
       "    </tr>\n",
       "    <tr>\n",
       "      <th>2</th>\n",
       "      <td>6</td>\n",
       "      <td>5</td>\n",
       "      <td>6</td>\n",
       "      <td>7</td>\n",
       "      <td>3</td>\n",
       "      <td>7</td>\n",
       "      <td>1</td>\n",
       "      <td>5</td>\n",
       "      <td>4</td>\n",
       "      <td>5</td>\n",
       "      <td>...</td>\n",
       "      <td>0.495</td>\n",
       "      <td>0.50</td>\n",
       "      <td>8</td>\n",
       "      <td>1</td>\n",
       "      <td>-13</td>\n",
       "      <td>8</td>\n",
       "      <td>-24</td>\n",
       "      <td>-8</td>\n",
       "      <td>-9</td>\n",
       "      <td>0.530</td>\n",
       "    </tr>\n",
       "    <tr>\n",
       "      <th>3</th>\n",
       "      <td>3</td>\n",
       "      <td>4</td>\n",
       "      <td>6</td>\n",
       "      <td>5</td>\n",
       "      <td>4</td>\n",
       "      <td>8</td>\n",
       "      <td>4</td>\n",
       "      <td>7</td>\n",
       "      <td>6</td>\n",
       "      <td>8</td>\n",
       "      <td>...</td>\n",
       "      <td>0.520</td>\n",
       "      <td>0.50</td>\n",
       "      <td>8</td>\n",
       "      <td>2</td>\n",
       "      <td>-11</td>\n",
       "      <td>16</td>\n",
       "      <td>-24</td>\n",
       "      <td>-8</td>\n",
       "      <td>-13</td>\n",
       "      <td>0.535</td>\n",
       "    </tr>\n",
       "    <tr>\n",
       "      <th>4</th>\n",
       "      <td>5</td>\n",
       "      <td>3</td>\n",
       "      <td>2</td>\n",
       "      <td>6</td>\n",
       "      <td>4</td>\n",
       "      <td>4</td>\n",
       "      <td>3</td>\n",
       "      <td>3</td>\n",
       "      <td>3</td>\n",
       "      <td>3</td>\n",
       "      <td>...</td>\n",
       "      <td>0.360</td>\n",
       "      <td>0.30</td>\n",
       "      <td>6</td>\n",
       "      <td>1</td>\n",
       "      <td>-9</td>\n",
       "      <td>-1</td>\n",
       "      <td>-4</td>\n",
       "      <td>-6</td>\n",
       "      <td>-11</td>\n",
       "      <td>0.415</td>\n",
       "    </tr>\n",
       "  </tbody>\n",
       "</table>\n",
       "<p>5 rows × 31 columns</p>\n",
       "</div>"
      ],
      "text/plain": [
       "   MonsoonIntensity  TopographyDrainage  RiverManagement  Deforestation  \\\n",
       "0                 5                   8                5              8   \n",
       "1                 6                   7                4              4   \n",
       "2                 6                   5                6              7   \n",
       "3                 3                   4                6              5   \n",
       "4                 5                   3                2              6   \n",
       "\n",
       "   Urbanization  ClimateChange  DamsQuality  Siltation  AgriculturalPractices  \\\n",
       "0             6              4            4          3                      3   \n",
       "1             8              8            3          5                      4   \n",
       "2             3              7            1          5                      4   \n",
       "3             4              8            4          7                      6   \n",
       "4             4              4            3          3                      3   \n",
       "\n",
       "   Encroachments  ...  mean_features  median_features  max_features  \\\n",
       "0              4  ...          0.470             0.45             8   \n",
       "1              6  ...          0.470             0.40             9   \n",
       "2              5  ...          0.495             0.50             8   \n",
       "3              8  ...          0.520             0.50             8   \n",
       "4              3  ...          0.360             0.30             6   \n",
       "\n",
       "   min_features  weather  structure  population  soil_infrastructure  \\\n",
       "0             2       -9         14         -42                   -3   \n",
       "1             0      -14         18         -24                   -1   \n",
       "2             1      -13          8         -24                   -8   \n",
       "3             2      -11         16         -24                   -8   \n",
       "4             1       -9         -1          -4                   -6   \n",
       "\n",
       "   preparedness  FloodProbability  \n",
       "0            -9             0.445  \n",
       "1           -14             0.450  \n",
       "2            -9             0.530  \n",
       "3           -13             0.535  \n",
       "4           -11             0.415  \n",
       "\n",
       "[5 rows x 31 columns]"
      ]
     },
     "execution_count": 13,
     "metadata": {},
     "output_type": "execute_result"
    }
   ],
   "source": [
    "flood_dataset_df.head(5)"
   ]
  },
  {
   "cell_type": "code",
   "execution_count": 14,
   "id": "83d8a2ff",
   "metadata": {
    "execution": {
     "iopub.execute_input": "2024-05-31T23:22:16.748787Z",
     "iopub.status.busy": "2024-05-31T23:22:16.747898Z",
     "iopub.status.idle": "2024-05-31T23:22:35.716560Z",
     "shell.execute_reply": "2024-05-31T23:22:35.715339Z"
    },
    "papermill": {
     "duration": 18.986193,
     "end_time": "2024-05-31T23:22:35.719409",
     "exception": false,
     "start_time": "2024-05-31T23:22:16.733216",
     "status": "completed"
    },
    "tags": []
   },
   "outputs": [],
   "source": [
    "flood_dataset_df.to_csv('train_without_preprocessing.csv', index=False)"
   ]
  },
  {
   "cell_type": "code",
   "execution_count": 15,
   "id": "aea2c3b3",
   "metadata": {
    "execution": {
     "iopub.execute_input": "2024-05-31T23:22:35.746695Z",
     "iopub.status.busy": "2024-05-31T23:22:35.746309Z",
     "iopub.status.idle": "2024-05-31T23:22:35.751152Z",
     "shell.execute_reply": "2024-05-31T23:22:35.750048Z"
    },
    "papermill": {
     "duration": 0.02146,
     "end_time": "2024-05-31T23:22:35.753695",
     "exception": false,
     "start_time": "2024-05-31T23:22:35.732235",
     "status": "completed"
    },
    "tags": []
   },
   "outputs": [],
   "source": [
    "del flood_dataset_df"
   ]
  },
  {
   "cell_type": "markdown",
   "id": "59524a00",
   "metadata": {
    "papermill": {
     "duration": 0.012437,
     "end_time": "2024-05-31T23:22:35.779800",
     "exception": false,
     "start_time": "2024-05-31T23:22:35.767363",
     "status": "completed"
    },
    "tags": []
   },
   "source": [
    "# **For Test Dataset!!**"
   ]
  },
  {
   "cell_type": "code",
   "execution_count": 16,
   "id": "099aa283",
   "metadata": {
    "execution": {
     "iopub.execute_input": "2024-05-31T23:22:35.807086Z",
     "iopub.status.busy": "2024-05-31T23:22:35.806706Z",
     "iopub.status.idle": "2024-05-31T23:22:39.805030Z",
     "shell.execute_reply": "2024-05-31T23:22:39.803791Z"
    },
    "papermill": {
     "duration": 4.015135,
     "end_time": "2024-05-31T23:22:39.807860",
     "exception": false,
     "start_time": "2024-05-31T23:22:35.792725",
     "status": "completed"
    },
    "tags": []
   },
   "outputs": [
    {
     "name": "stdout",
     "output_type": "stream",
     "text": [
      "<class 'pandas.core.frame.DataFrame'>\n",
      "RangeIndex: 745305 entries, 0 to 745304\n",
      "Data columns (total 30 columns):\n",
      " #   Column                           Non-Null Count   Dtype  \n",
      "---  ------                           --------------   -----  \n",
      " 0   MonsoonIntensity                 745305 non-null  int64  \n",
      " 1   TopographyDrainage               745305 non-null  int64  \n",
      " 2   RiverManagement                  745305 non-null  int64  \n",
      " 3   Deforestation                    745305 non-null  int64  \n",
      " 4   Urbanization                     745305 non-null  int64  \n",
      " 5   ClimateChange                    745305 non-null  int64  \n",
      " 6   DamsQuality                      745305 non-null  int64  \n",
      " 7   Siltation                        745305 non-null  int64  \n",
      " 8   AgriculturalPractices            745305 non-null  int64  \n",
      " 9   Encroachments                    745305 non-null  int64  \n",
      " 10  IneffectiveDisasterPreparedness  745305 non-null  int64  \n",
      " 11  DrainageSystems                  745305 non-null  int64  \n",
      " 12  CoastalVulnerability             745305 non-null  int64  \n",
      " 13  Landslides                       745305 non-null  int64  \n",
      " 14  Watersheds                       745305 non-null  int64  \n",
      " 15  DeterioratingInfrastructure      745305 non-null  int64  \n",
      " 16  PopulationScore                  745305 non-null  int64  \n",
      " 17  WetlandLoss                      745305 non-null  int64  \n",
      " 18  InadequatePlanning               745305 non-null  int64  \n",
      " 19  PoliticalFactors                 745305 non-null  int64  \n",
      " 20  std_features                     745305 non-null  float64\n",
      " 21  mean_features                    745305 non-null  float64\n",
      " 22  median_features                  745305 non-null  float64\n",
      " 23  max_features                     745305 non-null  int64  \n",
      " 24  min_features                     745305 non-null  int64  \n",
      " 25  weather                          745305 non-null  int64  \n",
      " 26  structure                        745305 non-null  int64  \n",
      " 27  population                       745305 non-null  int64  \n",
      " 28  soil_infrastructure              745305 non-null  int64  \n",
      " 29  preparedness                     745305 non-null  int64  \n",
      "dtypes: float64(3), int64(27)\n",
      "memory usage: 170.6 MB\n"
     ]
    }
   ],
   "source": [
    "flood_dataset = pd.read_csv(\"/kaggle/input/playground-series-s4e5/test.csv\")\n",
    "\n",
    "flood_dataset_df=flood_dataset.copy()\n",
    "flood_dataset_df.drop(['id'], axis = 1, inplace = True)\n",
    "\n",
    "df = flood_dataset_df\n",
    "flood_dataset_df = add_features(df)\n",
    "\n",
    "flood_dataset_df = add_more_features(flood_dataset_df)\n",
    "\n",
    "flood_dataset_df.info()"
   ]
  },
  {
   "cell_type": "code",
   "execution_count": 17,
   "id": "1dc81314",
   "metadata": {
    "execution": {
     "iopub.execute_input": "2024-05-31T23:22:39.836094Z",
     "iopub.status.busy": "2024-05-31T23:22:39.835328Z",
     "iopub.status.idle": "2024-05-31T23:22:51.727398Z",
     "shell.execute_reply": "2024-05-31T23:22:51.726217Z"
    },
    "papermill": {
     "duration": 11.909419,
     "end_time": "2024-05-31T23:22:51.730365",
     "exception": false,
     "start_time": "2024-05-31T23:22:39.820946",
     "status": "completed"
    },
    "tags": []
   },
   "outputs": [],
   "source": [
    "flood_dataset_df.to_csv('test_data.csv', index=False)"
   ]
  },
  {
   "cell_type": "markdown",
   "id": "3a3913a2",
   "metadata": {
    "papermill": {
     "duration": 0.012437,
     "end_time": "2024-05-31T23:22:51.755872",
     "exception": false,
     "start_time": "2024-05-31T23:22:51.743435",
     "status": "completed"
    },
    "tags": []
   },
   "source": [
    "# **Data Preprocessing: (add more features for each subjective columns in vertical ways)**"
   ]
  },
  {
   "cell_type": "code",
   "execution_count": 18,
   "id": "c8932367",
   "metadata": {
    "execution": {
     "iopub.execute_input": "2024-05-31T23:22:51.783772Z",
     "iopub.status.busy": "2024-05-31T23:22:51.783391Z",
     "iopub.status.idle": "2024-05-31T23:22:55.263686Z",
     "shell.execute_reply": "2024-05-31T23:22:55.262550Z"
    },
    "papermill": {
     "duration": 3.4976,
     "end_time": "2024-05-31T23:22:55.266336",
     "exception": false,
     "start_time": "2024-05-31T23:22:51.768736",
     "status": "completed"
    },
    "tags": []
   },
   "outputs": [],
   "source": [
    "flood_dataset_df = pd.read_csv(\"/kaggle/working/train_without_preprocessing.csv\")"
   ]
  },
  {
   "cell_type": "code",
   "execution_count": 19,
   "id": "ff1d6c0a",
   "metadata": {
    "execution": {
     "iopub.execute_input": "2024-05-31T23:22:55.295675Z",
     "iopub.status.busy": "2024-05-31T23:22:55.295303Z",
     "iopub.status.idle": "2024-05-31T23:22:55.303215Z",
     "shell.execute_reply": "2024-05-31T23:22:55.302077Z"
    },
    "papermill": {
     "duration": 0.025447,
     "end_time": "2024-05-31T23:22:55.305427",
     "exception": false,
     "start_time": "2024-05-31T23:22:55.279980",
     "status": "completed"
    },
    "tags": []
   },
   "outputs": [
    {
     "data": {
      "text/plain": [
       "Index(['MonsoonIntensity', 'TopographyDrainage', 'RiverManagement',\n",
       "       'Deforestation', 'Urbanization', 'ClimateChange', 'DamsQuality',\n",
       "       'Siltation', 'AgriculturalPractices', 'Encroachments',\n",
       "       'IneffectiveDisasterPreparedness', 'DrainageSystems',\n",
       "       'CoastalVulnerability', 'Landslides', 'Watersheds',\n",
       "       'DeterioratingInfrastructure', 'PopulationScore', 'WetlandLoss',\n",
       "       'InadequatePlanning', 'PoliticalFactors', 'std_features',\n",
       "       'mean_features', 'median_features', 'max_features', 'min_features',\n",
       "       'weather', 'structure', 'population', 'soil_infrastructure',\n",
       "       'preparedness', 'FloodProbability'],\n",
       "      dtype='object')"
      ]
     },
     "execution_count": 19,
     "metadata": {},
     "output_type": "execute_result"
    }
   ],
   "source": [
    "flood_dataset_df.columns"
   ]
  },
  {
   "cell_type": "code",
   "execution_count": 20,
   "id": "a54de1be",
   "metadata": {
    "execution": {
     "iopub.execute_input": "2024-05-31T23:22:55.333794Z",
     "iopub.status.busy": "2024-05-31T23:22:55.333380Z",
     "iopub.status.idle": "2024-05-31T23:22:55.355513Z",
     "shell.execute_reply": "2024-05-31T23:22:55.354437Z"
    },
    "papermill": {
     "duration": 0.039591,
     "end_time": "2024-05-31T23:22:55.358042",
     "exception": false,
     "start_time": "2024-05-31T23:22:55.318451",
     "status": "completed"
    },
    "tags": []
   },
   "outputs": [],
   "source": [
    "def add_manipulated_features(df):    \n",
    "    df['all_row_MonsoonIntensity'] = df['MonsoonIntensity'] / df['MonsoonIntensity'].mean()   \n",
    "    df['all_row_TopographyDrainage'] = df['TopographyDrainage'] / df['TopographyDrainage'].mean() \n",
    "    df['all_row_RiverManagement'] = df['RiverManagement'] / df['RiverManagement'].mean() \n",
    "    df['all_row_Deforestation'] = df['Deforestation'] / df['Deforestation'].mean() \n",
    "    df['all_row_Urbanization'] = df['Urbanization'] / df['Urbanization'].mean() \n",
    "    df['all_row_ClimateChange'] = df['ClimateChange'] / df['ClimateChange'].mean() \n",
    "    df['all_row_DamsQuality'] = df['DamsQuality'] / df['DamsQuality'].mean() \n",
    "    df['all_row_Siltation'] = df['Siltation'] / df['Siltation'].mean() \n",
    "    df['all_row_AgriculturalPractices'] = df['AgriculturalPractices'] / df['AgriculturalPractices'].mean() \n",
    "    df['all_row_Encroachments'] = df['Encroachments'] / df['Encroachments'].mean() \n",
    "    df['all_row_IneffectiveDisasterPreparedness'] = df['IneffectiveDisasterPreparedness'] / df['IneffectiveDisasterPreparedness'].mean()\n",
    "    df['all_row_DrainageSystems'] = df['DrainageSystems'] / df['DrainageSystems'].mean() \n",
    "    df['all_row_CoastalVulnerability'] = df['CoastalVulnerability'] / df['CoastalVulnerability'].mean() \n",
    "    df['all_row_Landslides'] = df['Landslides'] / df['Landslides'].mean() \n",
    "    df['all_row_Watersheds'] = df['Watersheds'] / df['Watersheds'].mean() \n",
    "    df['all_row_DeterioratingInfrastructure'] = df['DeterioratingInfrastructure'] / df['DeterioratingInfrastructure'].mean() \n",
    "    df['all_row_PopulationScore'] = df['PopulationScore'] / df['PopulationScore'].mean() \n",
    "    df['all_row_WetlandLoss'] = df['WetlandLoss'] / df['WetlandLoss'].mean()\n",
    "    df['all_row_InadequatePlanning'] = df['InadequatePlanning'] / df['InadequatePlanning'].mean() \n",
    "    df['all_row_PoliticalFactors'] = df['PoliticalFactors'] / df['PoliticalFactors'].mean() \n",
    "    df['all_row_weather'] = df['weather'] / df['weather'].mean() \n",
    "    df['all_row_structure'] = df['structure'] / df['structure'].mean()\n",
    "    df['all_row_population'] = df['population'] / df['population'].mean() \n",
    "    df['all_row_soil_infrastructure'] = df['soil_infrastructure'] / df['soil_infrastructure'].mean() \n",
    "    df['all_row_preparedness'] = df['preparedness'] / df['preparedness'].mean() \n",
    "    \n",
    "    df['ClimateImpact'] = df['MonsoonIntensity'] + df['ClimateChange']\n",
    "    df['AnthropogenicPressure'] = df['Deforestation'] + df['Urbanization'] + df['AgriculturalPractices'] + df['Encroachments']\n",
    "    df['InfrastructureQuality'] = df['DamsQuality'] + df['DrainageSystems'] + df['DeterioratingInfrastructure']\n",
    "    df['CoastalVulnerabilityTotal'] = df['CoastalVulnerability'] + df['Landslides']\n",
    "    df['PreventiveMeasuresEfficiency'] = df['RiverManagement'] + df['IneffectiveDisasterPreparedness'] + df['InadequatePlanning']\n",
    "    df['EcosystemImpact'] = df['WetlandLoss'] + df['Watersheds']\n",
    "    df['SocioPoliticalContext'] = df['PopulationScore'] * df['PoliticalFactors']\n",
    "\n",
    "\n",
    "    df['FloodVulnerabilityIndex'] = (df['AnthropogenicPressure'] + df['InfrastructureQuality'] +\n",
    "                                     df['CoastalVulnerabilityTotal'] + df['PreventiveMeasuresEfficiency']) / 4\n",
    "    \n",
    "    df['PopulationDensityImpact'] = df['PopulationScore'] * (df['Urbanization'] + df['Encroachments'])\n",
    "    \n",
    "    df['DeforestationUrbanizationRatio'] = df['Deforestation'] / df['Urbanization']\n",
    "    \n",
    "    df['AgriculturalEncroachmentImpact'] = df['AgriculturalPractices'] * df['Encroachments']\n",
    "    \n",
    "    df['DamDrainageInteraction'] = df['DamsQuality'] * df['DrainageSystems']\n",
    "    \n",
    "    df['LandslideSiltationInteraction'] = df['Landslides'] * df['Siltation']\n",
    "    \n",
    "    df['WatershedWetlandRatio'] = df['Watersheds'] / df['WetlandLoss']\n",
    "    \n",
    "    df['PoliticalPreparednessInteraction'] = df['PoliticalFactors'] * df['IneffectiveDisasterPreparedness']\n",
    "    \n",
    "    \n",
    "    df['TopographyDrainageSiltation'] = df['TopographyDrainage'] + df['Siltation']\n",
    "    \n",
    "    df['ClimateAnthropogenicInteraction'] = df['ClimateImpact'] * df['AnthropogenicPressure']\n",
    "    \n",
    "    df['InfrastructurePreventionInteraction'] = df['InfrastructureQuality'] * df['PreventiveMeasuresEfficiency']\n",
    "    \n",
    "    df['CoastalEcosystemInteraction'] = df['CoastalVulnerabilityTotal'] * df['EcosystemImpact']\n",
    "\n",
    "    \n",
    "    return df"
   ]
  },
  {
   "cell_type": "code",
   "execution_count": 21,
   "id": "f71e822a",
   "metadata": {
    "execution": {
     "iopub.execute_input": "2024-05-31T23:22:55.386014Z",
     "iopub.status.busy": "2024-05-31T23:22:55.385647Z",
     "iopub.status.idle": "2024-05-31T23:22:55.659433Z",
     "shell.execute_reply": "2024-05-31T23:22:55.658306Z"
    },
    "papermill": {
     "duration": 0.291079,
     "end_time": "2024-05-31T23:22:55.662298",
     "exception": false,
     "start_time": "2024-05-31T23:22:55.371219",
     "status": "completed"
    },
    "tags": []
   },
   "outputs": [],
   "source": [
    "flood_dataset_df = add_manipulated_features(flood_dataset_df)"
   ]
  },
  {
   "cell_type": "code",
   "execution_count": 22,
   "id": "201e7011",
   "metadata": {
    "execution": {
     "iopub.execute_input": "2024-05-31T23:22:55.690940Z",
     "iopub.status.busy": "2024-05-31T23:22:55.690162Z",
     "iopub.status.idle": "2024-05-31T23:22:55.714350Z",
     "shell.execute_reply": "2024-05-31T23:22:55.713212Z"
    },
    "papermill": {
     "duration": 0.04144,
     "end_time": "2024-05-31T23:22:55.716818",
     "exception": false,
     "start_time": "2024-05-31T23:22:55.675378",
     "status": "completed"
    },
    "tags": []
   },
   "outputs": [
    {
     "data": {
      "text/html": [
       "<div>\n",
       "<style scoped>\n",
       "    .dataframe tbody tr th:only-of-type {\n",
       "        vertical-align: middle;\n",
       "    }\n",
       "\n",
       "    .dataframe tbody tr th {\n",
       "        vertical-align: top;\n",
       "    }\n",
       "\n",
       "    .dataframe thead th {\n",
       "        text-align: right;\n",
       "    }\n",
       "</style>\n",
       "<table border=\"1\" class=\"dataframe\">\n",
       "  <thead>\n",
       "    <tr style=\"text-align: right;\">\n",
       "      <th></th>\n",
       "      <th>MonsoonIntensity</th>\n",
       "      <th>TopographyDrainage</th>\n",
       "      <th>RiverManagement</th>\n",
       "      <th>Deforestation</th>\n",
       "      <th>Urbanization</th>\n",
       "      <th>ClimateChange</th>\n",
       "      <th>DamsQuality</th>\n",
       "      <th>Siltation</th>\n",
       "      <th>AgriculturalPractices</th>\n",
       "      <th>Encroachments</th>\n",
       "      <th>...</th>\n",
       "      <th>DeforestationUrbanizationRatio</th>\n",
       "      <th>AgriculturalEncroachmentImpact</th>\n",
       "      <th>DamDrainageInteraction</th>\n",
       "      <th>LandslideSiltationInteraction</th>\n",
       "      <th>WatershedWetlandRatio</th>\n",
       "      <th>PoliticalPreparednessInteraction</th>\n",
       "      <th>TopographyDrainageSiltation</th>\n",
       "      <th>ClimateAnthropogenicInteraction</th>\n",
       "      <th>InfrastructurePreventionInteraction</th>\n",
       "      <th>CoastalEcosystemInteraction</th>\n",
       "    </tr>\n",
       "  </thead>\n",
       "  <tbody>\n",
       "    <tr>\n",
       "      <th>0</th>\n",
       "      <td>5</td>\n",
       "      <td>8</td>\n",
       "      <td>5</td>\n",
       "      <td>8</td>\n",
       "      <td>6</td>\n",
       "      <td>4</td>\n",
       "      <td>4</td>\n",
       "      <td>3</td>\n",
       "      <td>3</td>\n",
       "      <td>4</td>\n",
       "      <td>...</td>\n",
       "      <td>1.333333</td>\n",
       "      <td>12</td>\n",
       "      <td>20</td>\n",
       "      <td>9</td>\n",
       "      <td>1.0</td>\n",
       "      <td>6</td>\n",
       "      <td>11</td>\n",
       "      <td>189</td>\n",
       "      <td>182</td>\n",
       "      <td>60</td>\n",
       "    </tr>\n",
       "    <tr>\n",
       "      <th>1</th>\n",
       "      <td>6</td>\n",
       "      <td>7</td>\n",
       "      <td>4</td>\n",
       "      <td>4</td>\n",
       "      <td>8</td>\n",
       "      <td>8</td>\n",
       "      <td>3</td>\n",
       "      <td>5</td>\n",
       "      <td>4</td>\n",
       "      <td>6</td>\n",
       "      <td>...</td>\n",
       "      <td>0.500000</td>\n",
       "      <td>24</td>\n",
       "      <td>21</td>\n",
       "      <td>0</td>\n",
       "      <td>1.0</td>\n",
       "      <td>27</td>\n",
       "      <td>12</td>\n",
       "      <td>308</td>\n",
       "      <td>255</td>\n",
       "      <td>12</td>\n",
       "    </tr>\n",
       "    <tr>\n",
       "      <th>2</th>\n",
       "      <td>6</td>\n",
       "      <td>5</td>\n",
       "      <td>6</td>\n",
       "      <td>7</td>\n",
       "      <td>3</td>\n",
       "      <td>7</td>\n",
       "      <td>1</td>\n",
       "      <td>5</td>\n",
       "      <td>4</td>\n",
       "      <td>5</td>\n",
       "      <td>...</td>\n",
       "      <td>2.333333</td>\n",
       "      <td>20</td>\n",
       "      <td>7</td>\n",
       "      <td>35</td>\n",
       "      <td>2.5</td>\n",
       "      <td>18</td>\n",
       "      <td>10</td>\n",
       "      <td>247</td>\n",
       "      <td>210</td>\n",
       "      <td>70</td>\n",
       "    </tr>\n",
       "    <tr>\n",
       "      <th>3</th>\n",
       "      <td>3</td>\n",
       "      <td>4</td>\n",
       "      <td>6</td>\n",
       "      <td>5</td>\n",
       "      <td>4</td>\n",
       "      <td>8</td>\n",
       "      <td>4</td>\n",
       "      <td>7</td>\n",
       "      <td>6</td>\n",
       "      <td>8</td>\n",
       "      <td>...</td>\n",
       "      <td>1.250000</td>\n",
       "      <td>48</td>\n",
       "      <td>8</td>\n",
       "      <td>49</td>\n",
       "      <td>0.8</td>\n",
       "      <td>25</td>\n",
       "      <td>11</td>\n",
       "      <td>253</td>\n",
       "      <td>180</td>\n",
       "      <td>99</td>\n",
       "    </tr>\n",
       "    <tr>\n",
       "      <th>4</th>\n",
       "      <td>5</td>\n",
       "      <td>3</td>\n",
       "      <td>2</td>\n",
       "      <td>6</td>\n",
       "      <td>4</td>\n",
       "      <td>4</td>\n",
       "      <td>3</td>\n",
       "      <td>3</td>\n",
       "      <td>3</td>\n",
       "      <td>3</td>\n",
       "      <td>...</td>\n",
       "      <td>1.500000</td>\n",
       "      <td>9</td>\n",
       "      <td>6</td>\n",
       "      <td>18</td>\n",
       "      <td>3.0</td>\n",
       "      <td>25</td>\n",
       "      <td>6</td>\n",
       "      <td>144</td>\n",
       "      <td>90</td>\n",
       "      <td>64</td>\n",
       "    </tr>\n",
       "  </tbody>\n",
       "</table>\n",
       "<p>5 rows × 75 columns</p>\n",
       "</div>"
      ],
      "text/plain": [
       "   MonsoonIntensity  TopographyDrainage  RiverManagement  Deforestation  \\\n",
       "0                 5                   8                5              8   \n",
       "1                 6                   7                4              4   \n",
       "2                 6                   5                6              7   \n",
       "3                 3                   4                6              5   \n",
       "4                 5                   3                2              6   \n",
       "\n",
       "   Urbanization  ClimateChange  DamsQuality  Siltation  AgriculturalPractices  \\\n",
       "0             6              4            4          3                      3   \n",
       "1             8              8            3          5                      4   \n",
       "2             3              7            1          5                      4   \n",
       "3             4              8            4          7                      6   \n",
       "4             4              4            3          3                      3   \n",
       "\n",
       "   Encroachments  ...  DeforestationUrbanizationRatio  \\\n",
       "0              4  ...                        1.333333   \n",
       "1              6  ...                        0.500000   \n",
       "2              5  ...                        2.333333   \n",
       "3              8  ...                        1.250000   \n",
       "4              3  ...                        1.500000   \n",
       "\n",
       "   AgriculturalEncroachmentImpact  DamDrainageInteraction  \\\n",
       "0                              12                      20   \n",
       "1                              24                      21   \n",
       "2                              20                       7   \n",
       "3                              48                       8   \n",
       "4                               9                       6   \n",
       "\n",
       "   LandslideSiltationInteraction  WatershedWetlandRatio  \\\n",
       "0                              9                    1.0   \n",
       "1                              0                    1.0   \n",
       "2                             35                    2.5   \n",
       "3                             49                    0.8   \n",
       "4                             18                    3.0   \n",
       "\n",
       "   PoliticalPreparednessInteraction  TopographyDrainageSiltation  \\\n",
       "0                                 6                           11   \n",
       "1                                27                           12   \n",
       "2                                18                           10   \n",
       "3                                25                           11   \n",
       "4                                25                            6   \n",
       "\n",
       "   ClimateAnthropogenicInteraction  InfrastructurePreventionInteraction  \\\n",
       "0                              189                                  182   \n",
       "1                              308                                  255   \n",
       "2                              247                                  210   \n",
       "3                              253                                  180   \n",
       "4                              144                                   90   \n",
       "\n",
       "   CoastalEcosystemInteraction  \n",
       "0                           60  \n",
       "1                           12  \n",
       "2                           70  \n",
       "3                           99  \n",
       "4                           64  \n",
       "\n",
       "[5 rows x 75 columns]"
      ]
     },
     "execution_count": 22,
     "metadata": {},
     "output_type": "execute_result"
    }
   ],
   "source": [
    "flood_dataset_df.head(5)"
   ]
  },
  {
   "cell_type": "code",
   "execution_count": 23,
   "id": "bc9f1024",
   "metadata": {
    "execution": {
     "iopub.execute_input": "2024-05-31T23:22:55.745422Z",
     "iopub.status.busy": "2024-05-31T23:22:55.745017Z",
     "iopub.status.idle": "2024-05-31T23:24:29.979626Z",
     "shell.execute_reply": "2024-05-31T23:24:29.978401Z"
    },
    "papermill": {
     "duration": 94.252187,
     "end_time": "2024-05-31T23:24:29.982680",
     "exception": false,
     "start_time": "2024-05-31T23:22:55.730493",
     "status": "completed"
    },
    "tags": []
   },
   "outputs": [],
   "source": [
    "flood_dataset_df.to_csv('train_preprocessing.csv', index=False)\n",
    "del flood_dataset_df"
   ]
  },
  {
   "cell_type": "code",
   "execution_count": 24,
   "id": "7f6130c3",
   "metadata": {
    "execution": {
     "iopub.execute_input": "2024-05-31T23:24:30.011612Z",
     "iopub.status.busy": "2024-05-31T23:24:30.011200Z",
     "iopub.status.idle": "2024-05-31T23:25:34.729486Z",
     "shell.execute_reply": "2024-05-31T23:25:34.728204Z"
    },
    "papermill": {
     "duration": 64.73594,
     "end_time": "2024-05-31T23:25:34.732456",
     "exception": false,
     "start_time": "2024-05-31T23:24:29.996516",
     "status": "completed"
    },
    "tags": []
   },
   "outputs": [],
   "source": [
    "flood_dataset_df = pd.read_csv(\"/kaggle/working/test_data.csv\")\n",
    "flood_dataset_df = add_manipulated_features(flood_dataset_df)\n",
    "flood_dataset_df.to_csv('test_data_featured.csv', index=False)"
   ]
  },
  {
   "cell_type": "code",
   "execution_count": 25,
   "id": "7b2c8cde",
   "metadata": {
    "execution": {
     "iopub.execute_input": "2024-05-31T23:25:34.761782Z",
     "iopub.status.busy": "2024-05-31T23:25:34.761388Z",
     "iopub.status.idle": "2024-05-31T23:25:34.779070Z",
     "shell.execute_reply": "2024-05-31T23:25:34.777874Z"
    },
    "papermill": {
     "duration": 0.03498,
     "end_time": "2024-05-31T23:25:34.781535",
     "exception": false,
     "start_time": "2024-05-31T23:25:34.746555",
     "status": "completed"
    },
    "tags": []
   },
   "outputs": [],
   "source": [
    "del flood_dataset_df"
   ]
  },
  {
   "cell_type": "code",
   "execution_count": 26,
   "id": "db3a1f2d",
   "metadata": {
    "execution": {
     "iopub.execute_input": "2024-05-31T23:25:34.810488Z",
     "iopub.status.busy": "2024-05-31T23:25:34.810076Z",
     "iopub.status.idle": "2024-05-31T23:25:50.101497Z",
     "shell.execute_reply": "2024-05-31T23:25:50.100333Z"
    },
    "papermill": {
     "duration": 15.308859,
     "end_time": "2024-05-31T23:25:50.104289",
     "exception": false,
     "start_time": "2024-05-31T23:25:34.795430",
     "status": "completed"
    },
    "tags": []
   },
   "outputs": [],
   "source": [
    "flood_dataset_df = pd.read_csv(\"/kaggle/working/train_preprocessing.csv\")"
   ]
  },
  {
   "cell_type": "code",
   "execution_count": 27,
   "id": "c0461eb9",
   "metadata": {
    "execution": {
     "iopub.execute_input": "2024-05-31T23:25:50.134850Z",
     "iopub.status.busy": "2024-05-31T23:25:50.134455Z",
     "iopub.status.idle": "2024-05-31T23:25:50.141611Z",
     "shell.execute_reply": "2024-05-31T23:25:50.140472Z"
    },
    "papermill": {
     "duration": 0.026613,
     "end_time": "2024-05-31T23:25:50.144593",
     "exception": false,
     "start_time": "2024-05-31T23:25:50.117980",
     "status": "completed"
    },
    "tags": []
   },
   "outputs": [
    {
     "data": {
      "text/plain": [
       "(1117957, 75)"
      ]
     },
     "execution_count": 27,
     "metadata": {},
     "output_type": "execute_result"
    }
   ],
   "source": [
    "flood_dataset_df.shape"
   ]
  },
  {
   "cell_type": "code",
   "execution_count": 28,
   "id": "16c175f0",
   "metadata": {
    "execution": {
     "iopub.execute_input": "2024-05-31T23:25:50.173573Z",
     "iopub.status.busy": "2024-05-31T23:25:50.173144Z",
     "iopub.status.idle": "2024-05-31T23:25:59.879310Z",
     "shell.execute_reply": "2024-05-31T23:25:59.875131Z"
    },
    "papermill": {
     "duration": 9.731388,
     "end_time": "2024-05-31T23:25:59.889757",
     "exception": false,
     "start_time": "2024-05-31T23:25:50.158369",
     "status": "completed"
    },
    "tags": []
   },
   "outputs": [],
   "source": [
    "flood_dataset_test = pd.read_csv(\"/kaggle/working/test_data_featured.csv\")"
   ]
  },
  {
   "cell_type": "code",
   "execution_count": 29,
   "id": "ff5c0afa",
   "metadata": {
    "execution": {
     "iopub.execute_input": "2024-05-31T23:26:00.000338Z",
     "iopub.status.busy": "2024-05-31T23:25:59.999306Z",
     "iopub.status.idle": "2024-05-31T23:26:00.010126Z",
     "shell.execute_reply": "2024-05-31T23:26:00.008882Z"
    },
    "papermill": {
     "duration": 0.069526,
     "end_time": "2024-05-31T23:26:00.013133",
     "exception": false,
     "start_time": "2024-05-31T23:25:59.943607",
     "status": "completed"
    },
    "tags": []
   },
   "outputs": [
    {
     "data": {
      "text/plain": [
       "(745305, 74)"
      ]
     },
     "execution_count": 29,
     "metadata": {},
     "output_type": "execute_result"
    }
   ],
   "source": [
    "flood_dataset_test.shape"
   ]
  },
  {
   "cell_type": "code",
   "execution_count": 30,
   "id": "a40be5cb",
   "metadata": {
    "execution": {
     "iopub.execute_input": "2024-05-31T23:26:00.047095Z",
     "iopub.status.busy": "2024-05-31T23:26:00.045996Z",
     "iopub.status.idle": "2024-05-31T23:26:00.238777Z",
     "shell.execute_reply": "2024-05-31T23:26:00.237494Z"
    },
    "papermill": {
     "duration": 0.212271,
     "end_time": "2024-05-31T23:26:00.241591",
     "exception": false,
     "start_time": "2024-05-31T23:26:00.029320",
     "status": "completed"
    },
    "tags": []
   },
   "outputs": [],
   "source": [
    "dataX = flood_dataset_df.drop(['FloodProbability'], axis = 1)\n",
    "datay = flood_dataset_df['FloodProbability']"
   ]
  },
  {
   "cell_type": "code",
   "execution_count": 31,
   "id": "3432571e",
   "metadata": {
    "execution": {
     "iopub.execute_input": "2024-05-31T23:26:00.275598Z",
     "iopub.status.busy": "2024-05-31T23:26:00.275160Z",
     "iopub.status.idle": "2024-05-31T23:26:01.422246Z",
     "shell.execute_reply": "2024-05-31T23:26:01.421021Z"
    },
    "papermill": {
     "duration": 1.167131,
     "end_time": "2024-05-31T23:26:01.424949",
     "exception": false,
     "start_time": "2024-05-31T23:26:00.257818",
     "status": "completed"
    },
    "tags": []
   },
   "outputs": [],
   "source": [
    "X_train, X_test, Y_train, Y_test = train_test_split(dataX, datay, test_size = 0.3, random_state = 42)"
   ]
  },
  {
   "cell_type": "code",
   "execution_count": 32,
   "id": "cf03d424",
   "metadata": {
    "execution": {
     "iopub.execute_input": "2024-05-31T23:26:01.457461Z",
     "iopub.status.busy": "2024-05-31T23:26:01.457005Z",
     "iopub.status.idle": "2024-05-31T23:39:55.714301Z",
     "shell.execute_reply": "2024-05-31T23:39:55.712740Z"
    },
    "papermill": {
     "duration": 834.295605,
     "end_time": "2024-05-31T23:39:55.736073",
     "exception": false,
     "start_time": "2024-05-31T23:26:01.440468",
     "status": "completed"
    },
    "tags": []
   },
   "outputs": [
    {
     "name": "stdout",
     "output_type": "stream",
     "text": [
      "Light Gradient Boosting RMSE Metric: 0.03744476510470013\n",
      "Light Gradient Boosting R-squared Metric: 0.8689446496322025\n"
     ]
    }
   ],
   "source": [
    "from lightgbm import LGBMRegressor\n",
    "            \n",
    "lgb_params = {\n",
    "    'boosting_type': 'gbdt', \n",
    "    'n_estimators':2000, \n",
    "    'learning_rate' :  0.012,\n",
    "    'num_leaves' : 250, \n",
    "    'subsample_for_bin': 165700, \n",
    "    'min_child_samples': 114, \n",
    "    'reg_alpha': 2.075e-06, \n",
    "    'reg_lambda': 3.839e-07, \n",
    "    'colsample_bytree': 0.9634,\n",
    "    'subsample': 0.9592, \n",
    "    'max_depth': 10,\n",
    "    'random_state':0,\n",
    "    'verbosity':-1}\n",
    "\n",
    "lgbm = LGBMRegressor(**lgb_params)\n",
    "\n",
    "lgbm_model = lgbm.fit(X_train , Y_train)\n",
    "\n",
    "y_pred_lgbm = lgbm_model.predict(X_test)\n",
    "\n",
    "lgbm_rmse_calculator = np.sqrt(mean_squared_error(np.log(Y_test), np.log(y_pred_lgbm)))\n",
    "lgbm_r2_metric = r2_score(Y_test, y_pred_lgbm)\n",
    "\n",
    "print(f\"Light Gradient Boosting RMSE Metric: {lgbm_rmse_calculator}\")\n",
    "print(f\"Light Gradient Boosting R-squared Metric: {lgbm_r2_metric}\")"
   ]
  },
  {
   "cell_type": "code",
   "execution_count": 33,
   "id": "7d82a1dd",
   "metadata": {
    "execution": {
     "iopub.execute_input": "2024-05-31T23:39:55.766797Z",
     "iopub.status.busy": "2024-05-31T23:39:55.765545Z",
     "iopub.status.idle": "2024-05-31T23:46:32.318956Z",
     "shell.execute_reply": "2024-05-31T23:46:32.317101Z"
    },
    "papermill": {
     "duration": 396.573467,
     "end_time": "2024-05-31T23:46:32.323209",
     "exception": false,
     "start_time": "2024-05-31T23:39:55.749742",
     "status": "completed"
    },
    "tags": []
   },
   "outputs": [
    {
     "name": "stdout",
     "output_type": "stream",
     "text": [
      "        id  FloodProbability\n",
      "0  1117957          0.577754\n",
      "1  1117958          0.458490\n",
      "2  1117959          0.452747\n",
      "3  1117960          0.465340\n",
      "4  1117961          0.465006\n"
     ]
    }
   ],
   "source": [
    "testddata = pd.read_csv(\"/kaggle/working/test_data_featured.csv\")\n",
    "\n",
    "input_test = pd.read_csv('/kaggle/input/playground-series-s4e5/test.csv')\n",
    "\n",
    "id_no = input_test['id']\n",
    "test_pred_lgbm = lgbm_model.predict(testddata)\n",
    "\n",
    "submission = pd.DataFrame({\n",
    "    'id': id_no,\n",
    "    'FloodProbability': test_pred_lgbm\n",
    "})\n",
    "\n",
    "print(submission.head())\n",
    "submission.to_csv('/kaggle/working/submission.csv', index=False)"
   ]
  }
 ],
 "metadata": {
  "kaggle": {
   "accelerator": "none",
   "dataSources": [
    {
     "databundleVersionId": 8121328,
     "sourceId": 73278,
     "sourceType": "competition"
    }
   ],
   "dockerImageVersionId": 30698,
   "isGpuEnabled": false,
   "isInternetEnabled": true,
   "language": "python",
   "sourceType": "notebook"
  },
  "kernelspec": {
   "display_name": "Python 3",
   "language": "python",
   "name": "python3"
  },
  "language_info": {
   "codemirror_mode": {
    "name": "ipython",
    "version": 3
   },
   "file_extension": ".py",
   "mimetype": "text/x-python",
   "name": "python",
   "nbconvert_exporter": "python",
   "pygments_lexer": "ipython3",
   "version": "3.10.13"
  },
  "papermill": {
   "default_parameters": {},
   "duration": 1469.674516,
   "end_time": "2024-05-31T23:46:33.268684",
   "environment_variables": {},
   "exception": null,
   "input_path": "__notebook__.ipynb",
   "output_path": "__notebook__.ipynb",
   "parameters": {},
   "start_time": "2024-05-31T23:22:03.594168",
   "version": "2.5.0"
  }
 },
 "nbformat": 4,
 "nbformat_minor": 5
}
