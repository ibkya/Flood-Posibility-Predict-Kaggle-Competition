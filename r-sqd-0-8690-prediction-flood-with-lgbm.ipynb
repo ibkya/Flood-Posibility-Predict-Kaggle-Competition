{
 "cells": [
  {
   "cell_type": "code",
   "execution_count": 1,
   "id": "5fcce189",
   "metadata": {
    "_cell_guid": "b1076dfc-b9ad-4769-8c92-a6c4dae69d19",
    "_uuid": "8f2839f25d086af736a60e9eeb907d3b93b6e0e5",
    "execution": {
     "iopub.execute_input": "2024-05-30T20:59:46.092520Z",
     "iopub.status.busy": "2024-05-30T20:59:46.091867Z",
     "iopub.status.idle": "2024-05-30T20:59:46.971664Z",
     "shell.execute_reply": "2024-05-30T20:59:46.970451Z"
    },
    "papermill": {
     "duration": 0.894977,
     "end_time": "2024-05-30T20:59:46.974247",
     "exception": false,
     "start_time": "2024-05-30T20:59:46.079270",
     "status": "completed"
    },
    "tags": []
   },
   "outputs": [
    {
     "name": "stdout",
     "output_type": "stream",
     "text": [
      "/kaggle/input/playground-series-s4e5/sample_submission.csv\n",
      "/kaggle/input/playground-series-s4e5/train.csv\n",
      "/kaggle/input/playground-series-s4e5/test.csv\n"
     ]
    }
   ],
   "source": [
    "import numpy as np \n",
    "import pandas as pd \n",
    "import os\n",
    "for dirname, _, filenames in os.walk('/kaggle/input'):\n",
    "    for filename in filenames:\n",
    "        print(os.path.join(dirname, filename))"
   ]
  },
  {
   "cell_type": "code",
   "execution_count": 2,
   "id": "86751179",
   "metadata": {
    "execution": {
     "iopub.execute_input": "2024-05-30T20:59:46.997758Z",
     "iopub.status.busy": "2024-05-30T20:59:46.997189Z",
     "iopub.status.idle": "2024-05-30T20:59:48.248831Z",
     "shell.execute_reply": "2024-05-30T20:59:48.247746Z"
    },
    "papermill": {
     "duration": 1.266754,
     "end_time": "2024-05-30T20:59:48.251604",
     "exception": false,
     "start_time": "2024-05-30T20:59:46.984850",
     "status": "completed"
    },
    "tags": []
   },
   "outputs": [],
   "source": [
    "from sklearn.metrics import mean_squared_error, r2_score\n",
    "from sklearn.model_selection import train_test_split"
   ]
  },
  {
   "cell_type": "code",
   "execution_count": 3,
   "id": "bd205e28",
   "metadata": {
    "execution": {
     "iopub.execute_input": "2024-05-30T20:59:48.274282Z",
     "iopub.status.busy": "2024-05-30T20:59:48.273901Z",
     "iopub.status.idle": "2024-05-30T20:59:50.779603Z",
     "shell.execute_reply": "2024-05-30T20:59:50.778534Z"
    },
    "papermill": {
     "duration": 2.520128,
     "end_time": "2024-05-30T20:59:50.782316",
     "exception": false,
     "start_time": "2024-05-30T20:59:48.262188",
     "status": "completed"
    },
    "tags": []
   },
   "outputs": [],
   "source": [
    "flood_dataset = pd.read_csv(\"/kaggle/input/playground-series-s4e5/train.csv\")"
   ]
  },
  {
   "cell_type": "code",
   "execution_count": 4,
   "id": "11078810",
   "metadata": {
    "execution": {
     "iopub.execute_input": "2024-05-30T20:59:50.804883Z",
     "iopub.status.busy": "2024-05-30T20:59:50.804516Z",
     "iopub.status.idle": "2024-05-30T20:59:51.672131Z",
     "shell.execute_reply": "2024-05-30T20:59:51.671080Z"
    },
    "papermill": {
     "duration": 0.882307,
     "end_time": "2024-05-30T20:59:51.675155",
     "exception": false,
     "start_time": "2024-05-30T20:59:50.792848",
     "status": "completed"
    },
    "tags": []
   },
   "outputs": [
    {
     "data": {
      "text/html": [
       "<div>\n",
       "<style scoped>\n",
       "    .dataframe tbody tr th:only-of-type {\n",
       "        vertical-align: middle;\n",
       "    }\n",
       "\n",
       "    .dataframe tbody tr th {\n",
       "        vertical-align: top;\n",
       "    }\n",
       "\n",
       "    .dataframe thead th {\n",
       "        text-align: right;\n",
       "    }\n",
       "</style>\n",
       "<table border=\"1\" class=\"dataframe\">\n",
       "  <thead>\n",
       "    <tr style=\"text-align: right;\">\n",
       "      <th></th>\n",
       "      <th>count</th>\n",
       "      <th>mean</th>\n",
       "      <th>std</th>\n",
       "      <th>min</th>\n",
       "      <th>25%</th>\n",
       "      <th>50%</th>\n",
       "      <th>75%</th>\n",
       "      <th>max</th>\n",
       "    </tr>\n",
       "  </thead>\n",
       "  <tbody>\n",
       "    <tr>\n",
       "      <th>id</th>\n",
       "      <td>1117957.0</td>\n",
       "      <td>558978.000000</td>\n",
       "      <td>322726.531784</td>\n",
       "      <td>0.000</td>\n",
       "      <td>279489.00</td>\n",
       "      <td>558978.000</td>\n",
       "      <td>838467.00</td>\n",
       "      <td>1117956.000</td>\n",
       "    </tr>\n",
       "    <tr>\n",
       "      <th>MonsoonIntensity</th>\n",
       "      <td>1117957.0</td>\n",
       "      <td>4.921450</td>\n",
       "      <td>2.056387</td>\n",
       "      <td>0.000</td>\n",
       "      <td>3.00</td>\n",
       "      <td>5.000</td>\n",
       "      <td>6.00</td>\n",
       "      <td>16.000</td>\n",
       "    </tr>\n",
       "    <tr>\n",
       "      <th>TopographyDrainage</th>\n",
       "      <td>1117957.0</td>\n",
       "      <td>4.926671</td>\n",
       "      <td>2.093879</td>\n",
       "      <td>0.000</td>\n",
       "      <td>3.00</td>\n",
       "      <td>5.000</td>\n",
       "      <td>6.00</td>\n",
       "      <td>18.000</td>\n",
       "    </tr>\n",
       "    <tr>\n",
       "      <th>RiverManagement</th>\n",
       "      <td>1117957.0</td>\n",
       "      <td>4.955322</td>\n",
       "      <td>2.072186</td>\n",
       "      <td>0.000</td>\n",
       "      <td>4.00</td>\n",
       "      <td>5.000</td>\n",
       "      <td>6.00</td>\n",
       "      <td>16.000</td>\n",
       "    </tr>\n",
       "    <tr>\n",
       "      <th>Deforestation</th>\n",
       "      <td>1117957.0</td>\n",
       "      <td>4.942240</td>\n",
       "      <td>2.051689</td>\n",
       "      <td>0.000</td>\n",
       "      <td>4.00</td>\n",
       "      <td>5.000</td>\n",
       "      <td>6.00</td>\n",
       "      <td>17.000</td>\n",
       "    </tr>\n",
       "    <tr>\n",
       "      <th>Urbanization</th>\n",
       "      <td>1117957.0</td>\n",
       "      <td>4.942517</td>\n",
       "      <td>2.083391</td>\n",
       "      <td>0.000</td>\n",
       "      <td>3.00</td>\n",
       "      <td>5.000</td>\n",
       "      <td>6.00</td>\n",
       "      <td>17.000</td>\n",
       "    </tr>\n",
       "    <tr>\n",
       "      <th>ClimateChange</th>\n",
       "      <td>1117957.0</td>\n",
       "      <td>4.934093</td>\n",
       "      <td>2.057742</td>\n",
       "      <td>0.000</td>\n",
       "      <td>3.00</td>\n",
       "      <td>5.000</td>\n",
       "      <td>6.00</td>\n",
       "      <td>17.000</td>\n",
       "    </tr>\n",
       "    <tr>\n",
       "      <th>DamsQuality</th>\n",
       "      <td>1117957.0</td>\n",
       "      <td>4.955878</td>\n",
       "      <td>2.083063</td>\n",
       "      <td>0.000</td>\n",
       "      <td>4.00</td>\n",
       "      <td>5.000</td>\n",
       "      <td>6.00</td>\n",
       "      <td>16.000</td>\n",
       "    </tr>\n",
       "    <tr>\n",
       "      <th>Siltation</th>\n",
       "      <td>1117957.0</td>\n",
       "      <td>4.927791</td>\n",
       "      <td>2.065992</td>\n",
       "      <td>0.000</td>\n",
       "      <td>3.00</td>\n",
       "      <td>5.000</td>\n",
       "      <td>6.00</td>\n",
       "      <td>16.000</td>\n",
       "    </tr>\n",
       "    <tr>\n",
       "      <th>AgriculturalPractices</th>\n",
       "      <td>1117957.0</td>\n",
       "      <td>4.942619</td>\n",
       "      <td>2.068545</td>\n",
       "      <td>0.000</td>\n",
       "      <td>3.00</td>\n",
       "      <td>5.000</td>\n",
       "      <td>6.00</td>\n",
       "      <td>16.000</td>\n",
       "    </tr>\n",
       "    <tr>\n",
       "      <th>Encroachments</th>\n",
       "      <td>1117957.0</td>\n",
       "      <td>4.949230</td>\n",
       "      <td>2.083324</td>\n",
       "      <td>0.000</td>\n",
       "      <td>4.00</td>\n",
       "      <td>5.000</td>\n",
       "      <td>6.00</td>\n",
       "      <td>18.000</td>\n",
       "    </tr>\n",
       "    <tr>\n",
       "      <th>IneffectiveDisasterPreparedness</th>\n",
       "      <td>1117957.0</td>\n",
       "      <td>4.945239</td>\n",
       "      <td>2.078141</td>\n",
       "      <td>0.000</td>\n",
       "      <td>3.00</td>\n",
       "      <td>5.000</td>\n",
       "      <td>6.00</td>\n",
       "      <td>16.000</td>\n",
       "    </tr>\n",
       "    <tr>\n",
       "      <th>DrainageSystems</th>\n",
       "      <td>1117957.0</td>\n",
       "      <td>4.946893</td>\n",
       "      <td>2.072333</td>\n",
       "      <td>0.000</td>\n",
       "      <td>4.00</td>\n",
       "      <td>5.000</td>\n",
       "      <td>6.00</td>\n",
       "      <td>17.000</td>\n",
       "    </tr>\n",
       "    <tr>\n",
       "      <th>CoastalVulnerability</th>\n",
       "      <td>1117957.0</td>\n",
       "      <td>4.953999</td>\n",
       "      <td>2.088899</td>\n",
       "      <td>0.000</td>\n",
       "      <td>3.00</td>\n",
       "      <td>5.000</td>\n",
       "      <td>6.00</td>\n",
       "      <td>17.000</td>\n",
       "    </tr>\n",
       "    <tr>\n",
       "      <th>Landslides</th>\n",
       "      <td>1117957.0</td>\n",
       "      <td>4.931376</td>\n",
       "      <td>2.078287</td>\n",
       "      <td>0.000</td>\n",
       "      <td>3.00</td>\n",
       "      <td>5.000</td>\n",
       "      <td>6.00</td>\n",
       "      <td>16.000</td>\n",
       "    </tr>\n",
       "    <tr>\n",
       "      <th>Watersheds</th>\n",
       "      <td>1117957.0</td>\n",
       "      <td>4.929032</td>\n",
       "      <td>2.082395</td>\n",
       "      <td>0.000</td>\n",
       "      <td>3.00</td>\n",
       "      <td>5.000</td>\n",
       "      <td>6.00</td>\n",
       "      <td>16.000</td>\n",
       "    </tr>\n",
       "    <tr>\n",
       "      <th>DeterioratingInfrastructure</th>\n",
       "      <td>1117957.0</td>\n",
       "      <td>4.925907</td>\n",
       "      <td>2.064813</td>\n",
       "      <td>0.000</td>\n",
       "      <td>3.00</td>\n",
       "      <td>5.000</td>\n",
       "      <td>6.00</td>\n",
       "      <td>17.000</td>\n",
       "    </tr>\n",
       "    <tr>\n",
       "      <th>PopulationScore</th>\n",
       "      <td>1117957.0</td>\n",
       "      <td>4.927520</td>\n",
       "      <td>2.074176</td>\n",
       "      <td>0.000</td>\n",
       "      <td>3.00</td>\n",
       "      <td>5.000</td>\n",
       "      <td>6.00</td>\n",
       "      <td>18.000</td>\n",
       "    </tr>\n",
       "    <tr>\n",
       "      <th>WetlandLoss</th>\n",
       "      <td>1117957.0</td>\n",
       "      <td>4.950859</td>\n",
       "      <td>2.068696</td>\n",
       "      <td>0.000</td>\n",
       "      <td>4.00</td>\n",
       "      <td>5.000</td>\n",
       "      <td>6.00</td>\n",
       "      <td>19.000</td>\n",
       "    </tr>\n",
       "    <tr>\n",
       "      <th>InadequatePlanning</th>\n",
       "      <td>1117957.0</td>\n",
       "      <td>4.940587</td>\n",
       "      <td>2.081123</td>\n",
       "      <td>0.000</td>\n",
       "      <td>3.00</td>\n",
       "      <td>5.000</td>\n",
       "      <td>6.00</td>\n",
       "      <td>16.000</td>\n",
       "    </tr>\n",
       "    <tr>\n",
       "      <th>PoliticalFactors</th>\n",
       "      <td>1117957.0</td>\n",
       "      <td>4.939004</td>\n",
       "      <td>2.090350</td>\n",
       "      <td>0.000</td>\n",
       "      <td>3.00</td>\n",
       "      <td>5.000</td>\n",
       "      <td>6.00</td>\n",
       "      <td>16.000</td>\n",
       "    </tr>\n",
       "    <tr>\n",
       "      <th>FloodProbability</th>\n",
       "      <td>1117957.0</td>\n",
       "      <td>0.504480</td>\n",
       "      <td>0.051026</td>\n",
       "      <td>0.285</td>\n",
       "      <td>0.47</td>\n",
       "      <td>0.505</td>\n",
       "      <td>0.54</td>\n",
       "      <td>0.725</td>\n",
       "    </tr>\n",
       "  </tbody>\n",
       "</table>\n",
       "</div>"
      ],
      "text/plain": [
       "                                     count           mean            std  \\\n",
       "id                               1117957.0  558978.000000  322726.531784   \n",
       "MonsoonIntensity                 1117957.0       4.921450       2.056387   \n",
       "TopographyDrainage               1117957.0       4.926671       2.093879   \n",
       "RiverManagement                  1117957.0       4.955322       2.072186   \n",
       "Deforestation                    1117957.0       4.942240       2.051689   \n",
       "Urbanization                     1117957.0       4.942517       2.083391   \n",
       "ClimateChange                    1117957.0       4.934093       2.057742   \n",
       "DamsQuality                      1117957.0       4.955878       2.083063   \n",
       "Siltation                        1117957.0       4.927791       2.065992   \n",
       "AgriculturalPractices            1117957.0       4.942619       2.068545   \n",
       "Encroachments                    1117957.0       4.949230       2.083324   \n",
       "IneffectiveDisasterPreparedness  1117957.0       4.945239       2.078141   \n",
       "DrainageSystems                  1117957.0       4.946893       2.072333   \n",
       "CoastalVulnerability             1117957.0       4.953999       2.088899   \n",
       "Landslides                       1117957.0       4.931376       2.078287   \n",
       "Watersheds                       1117957.0       4.929032       2.082395   \n",
       "DeterioratingInfrastructure      1117957.0       4.925907       2.064813   \n",
       "PopulationScore                  1117957.0       4.927520       2.074176   \n",
       "WetlandLoss                      1117957.0       4.950859       2.068696   \n",
       "InadequatePlanning               1117957.0       4.940587       2.081123   \n",
       "PoliticalFactors                 1117957.0       4.939004       2.090350   \n",
       "FloodProbability                 1117957.0       0.504480       0.051026   \n",
       "\n",
       "                                   min        25%         50%        75%  \\\n",
       "id                               0.000  279489.00  558978.000  838467.00   \n",
       "MonsoonIntensity                 0.000       3.00       5.000       6.00   \n",
       "TopographyDrainage               0.000       3.00       5.000       6.00   \n",
       "RiverManagement                  0.000       4.00       5.000       6.00   \n",
       "Deforestation                    0.000       4.00       5.000       6.00   \n",
       "Urbanization                     0.000       3.00       5.000       6.00   \n",
       "ClimateChange                    0.000       3.00       5.000       6.00   \n",
       "DamsQuality                      0.000       4.00       5.000       6.00   \n",
       "Siltation                        0.000       3.00       5.000       6.00   \n",
       "AgriculturalPractices            0.000       3.00       5.000       6.00   \n",
       "Encroachments                    0.000       4.00       5.000       6.00   \n",
       "IneffectiveDisasterPreparedness  0.000       3.00       5.000       6.00   \n",
       "DrainageSystems                  0.000       4.00       5.000       6.00   \n",
       "CoastalVulnerability             0.000       3.00       5.000       6.00   \n",
       "Landslides                       0.000       3.00       5.000       6.00   \n",
       "Watersheds                       0.000       3.00       5.000       6.00   \n",
       "DeterioratingInfrastructure      0.000       3.00       5.000       6.00   \n",
       "PopulationScore                  0.000       3.00       5.000       6.00   \n",
       "WetlandLoss                      0.000       4.00       5.000       6.00   \n",
       "InadequatePlanning               0.000       3.00       5.000       6.00   \n",
       "PoliticalFactors                 0.000       3.00       5.000       6.00   \n",
       "FloodProbability                 0.285       0.47       0.505       0.54   \n",
       "\n",
       "                                         max  \n",
       "id                               1117956.000  \n",
       "MonsoonIntensity                      16.000  \n",
       "TopographyDrainage                    18.000  \n",
       "RiverManagement                       16.000  \n",
       "Deforestation                         17.000  \n",
       "Urbanization                          17.000  \n",
       "ClimateChange                         17.000  \n",
       "DamsQuality                           16.000  \n",
       "Siltation                             16.000  \n",
       "AgriculturalPractices                 16.000  \n",
       "Encroachments                         18.000  \n",
       "IneffectiveDisasterPreparedness       16.000  \n",
       "DrainageSystems                       17.000  \n",
       "CoastalVulnerability                  17.000  \n",
       "Landslides                            16.000  \n",
       "Watersheds                            16.000  \n",
       "DeterioratingInfrastructure           17.000  \n",
       "PopulationScore                       18.000  \n",
       "WetlandLoss                           19.000  \n",
       "InadequatePlanning                    16.000  \n",
       "PoliticalFactors                      16.000  \n",
       "FloodProbability                       0.725  "
      ]
     },
     "execution_count": 4,
     "metadata": {},
     "output_type": "execute_result"
    }
   ],
   "source": [
    "flood_dataset.describe().T"
   ]
  },
  {
   "cell_type": "markdown",
   "id": "8c9eca79",
   "metadata": {
    "papermill": {
     "duration": 0.010518,
     "end_time": "2024-05-30T20:59:51.696554",
     "exception": false,
     "start_time": "2024-05-30T20:59:51.686036",
     "status": "completed"
    },
    "tags": []
   },
   "source": [
    "# **Data Preprocessing: (for each columns in Horizontal ways)**"
   ]
  },
  {
   "cell_type": "code",
   "execution_count": 5,
   "id": "a18b19cf",
   "metadata": {
    "execution": {
     "iopub.execute_input": "2024-05-30T20:59:51.719813Z",
     "iopub.status.busy": "2024-05-30T20:59:51.719436Z",
     "iopub.status.idle": "2024-05-30T20:59:51.727703Z",
     "shell.execute_reply": "2024-05-30T20:59:51.726558Z"
    },
    "papermill": {
     "duration": 0.022527,
     "end_time": "2024-05-30T20:59:51.729959",
     "exception": false,
     "start_time": "2024-05-30T20:59:51.707432",
     "status": "completed"
    },
    "tags": []
   },
   "outputs": [],
   "source": [
    "def add_features(df):\n",
    "    addfeatures = df.columns.tolist()\n",
    "    df['std_features'] = df[addfeatures].std(axis=1)\n",
    "    df['mean_features'] = 0.1*df[addfeatures].mean(axis=1)\n",
    "    df['median_features'] = 0.1*df[addfeatures].median(axis=1)\n",
    "    df['max_features'] = df[addfeatures].max(axis=1)\n",
    "    df['min_features'] = df[addfeatures].min(axis=1)    \n",
    "    return df"
   ]
  },
  {
   "cell_type": "code",
   "execution_count": 6,
   "id": "2bdc1799",
   "metadata": {
    "execution": {
     "iopub.execute_input": "2024-05-30T20:59:51.754776Z",
     "iopub.status.busy": "2024-05-30T20:59:51.754148Z",
     "iopub.status.idle": "2024-05-30T20:59:51.940961Z",
     "shell.execute_reply": "2024-05-30T20:59:51.939769Z"
    },
    "papermill": {
     "duration": 0.20224,
     "end_time": "2024-05-30T20:59:51.944146",
     "exception": false,
     "start_time": "2024-05-30T20:59:51.741906",
     "status": "completed"
    },
    "tags": []
   },
   "outputs": [],
   "source": [
    "flood_dataset_df=flood_dataset.copy()\n",
    "flood_dataset_df.drop(['id'], axis = 1, inplace = True)"
   ]
  },
  {
   "cell_type": "code",
   "execution_count": 7,
   "id": "5f6d53d6",
   "metadata": {
    "execution": {
     "iopub.execute_input": "2024-05-30T20:59:51.971697Z",
     "iopub.status.busy": "2024-05-30T20:59:51.971282Z",
     "iopub.status.idle": "2024-05-30T20:59:52.035664Z",
     "shell.execute_reply": "2024-05-30T20:59:52.034484Z"
    },
    "papermill": {
     "duration": 0.07946,
     "end_time": "2024-05-30T20:59:52.038454",
     "exception": false,
     "start_time": "2024-05-30T20:59:51.958994",
     "status": "completed"
    },
    "tags": []
   },
   "outputs": [],
   "source": [
    "df = flood_dataset_df\n",
    "df1 = df.drop([\"FloodProbability\"], axis=1)"
   ]
  },
  {
   "cell_type": "code",
   "execution_count": 8,
   "id": "fbb5f5bc",
   "metadata": {
    "execution": {
     "iopub.execute_input": "2024-05-30T20:59:52.062403Z",
     "iopub.status.busy": "2024-05-30T20:59:52.061750Z",
     "iopub.status.idle": "2024-05-30T20:59:55.651408Z",
     "shell.execute_reply": "2024-05-30T20:59:55.650406Z"
    },
    "papermill": {
     "duration": 3.604949,
     "end_time": "2024-05-30T20:59:55.654431",
     "exception": false,
     "start_time": "2024-05-30T20:59:52.049482",
     "status": "completed"
    },
    "tags": []
   },
   "outputs": [],
   "source": [
    "flood_dataset_df = add_features(df1)\n",
    "y = df[\"FloodProbability\"]"
   ]
  },
  {
   "cell_type": "code",
   "execution_count": 9,
   "id": "251ee67d",
   "metadata": {
    "execution": {
     "iopub.execute_input": "2024-05-30T20:59:55.678504Z",
     "iopub.status.busy": "2024-05-30T20:59:55.678050Z",
     "iopub.status.idle": "2024-05-30T20:59:55.685515Z",
     "shell.execute_reply": "2024-05-30T20:59:55.684402Z"
    },
    "papermill": {
     "duration": 0.022348,
     "end_time": "2024-05-30T20:59:55.687806",
     "exception": false,
     "start_time": "2024-05-30T20:59:55.665458",
     "status": "completed"
    },
    "tags": []
   },
   "outputs": [],
   "source": [
    "def add_more_features(flood_dataset_df):\n",
    "    flood_dataset_df['weather'] = - flood_dataset_df['MonsoonIntensity'] - flood_dataset_df['ClimateChange']\n",
    "    flood_dataset_df['structure'] = flood_dataset_df['TopographyDrainage'] + flood_dataset_df['RiverManagement'] - flood_dataset_df['Deforestation'] + flood_dataset_df['DamsQuality'] + flood_dataset_df['Encroachments'] + flood_dataset_df['DrainageSystems'] - flood_dataset_df['Watersheds'] - flood_dataset_df['DeterioratingInfrastructure'] + flood_dataset_df['WetlandLoss'] \n",
    "    flood_dataset_df['population'] = - flood_dataset_df['Urbanization'] * flood_dataset_df['PopulationScore']\n",
    "    flood_dataset_df['soil_infrastructure'] = - flood_dataset_df['Siltation'] + flood_dataset_df['AgriculturalPractices'] - flood_dataset_df['Landslides']\n",
    "    flood_dataset_df['preparedness'] = - flood_dataset_df['IneffectiveDisasterPreparedness'] + flood_dataset_df['CoastalVulnerability'] - flood_dataset_df['InadequatePlanning'] - flood_dataset_df['PoliticalFactors'] \n",
    "    return flood_dataset_df"
   ]
  },
  {
   "cell_type": "code",
   "execution_count": 10,
   "id": "97ec32fb",
   "metadata": {
    "execution": {
     "iopub.execute_input": "2024-05-30T20:59:55.711762Z",
     "iopub.status.busy": "2024-05-30T20:59:55.711310Z",
     "iopub.status.idle": "2024-05-30T20:59:55.758096Z",
     "shell.execute_reply": "2024-05-30T20:59:55.757075Z"
    },
    "papermill": {
     "duration": 0.061871,
     "end_time": "2024-05-30T20:59:55.761009",
     "exception": false,
     "start_time": "2024-05-30T20:59:55.699138",
     "status": "completed"
    },
    "tags": []
   },
   "outputs": [],
   "source": [
    "flood_dataset_df = add_more_features(flood_dataset_df)"
   ]
  },
  {
   "cell_type": "code",
   "execution_count": 11,
   "id": "17eef89e",
   "metadata": {
    "execution": {
     "iopub.execute_input": "2024-05-30T20:59:55.785259Z",
     "iopub.status.busy": "2024-05-30T20:59:55.784877Z",
     "iopub.status.idle": "2024-05-30T20:59:55.791585Z",
     "shell.execute_reply": "2024-05-30T20:59:55.790723Z"
    },
    "papermill": {
     "duration": 0.021699,
     "end_time": "2024-05-30T20:59:55.793842",
     "exception": false,
     "start_time": "2024-05-30T20:59:55.772143",
     "status": "completed"
    },
    "tags": []
   },
   "outputs": [],
   "source": [
    "flood_dataset_df[\"FloodProbability\"]=y"
   ]
  },
  {
   "cell_type": "code",
   "execution_count": 12,
   "id": "0f9681a4",
   "metadata": {
    "execution": {
     "iopub.execute_input": "2024-05-30T20:59:55.818845Z",
     "iopub.status.busy": "2024-05-30T20:59:55.818465Z",
     "iopub.status.idle": "2024-05-30T20:59:55.878502Z",
     "shell.execute_reply": "2024-05-30T20:59:55.877246Z"
    },
    "papermill": {
     "duration": 0.075518,
     "end_time": "2024-05-30T20:59:55.881286",
     "exception": false,
     "start_time": "2024-05-30T20:59:55.805768",
     "status": "completed"
    },
    "tags": []
   },
   "outputs": [
    {
     "name": "stdout",
     "output_type": "stream",
     "text": [
      "<class 'pandas.core.frame.DataFrame'>\n",
      "RangeIndex: 1117957 entries, 0 to 1117956\n",
      "Data columns (total 31 columns):\n",
      " #   Column                           Non-Null Count    Dtype  \n",
      "---  ------                           --------------    -----  \n",
      " 0   MonsoonIntensity                 1117957 non-null  int64  \n",
      " 1   TopographyDrainage               1117957 non-null  int64  \n",
      " 2   RiverManagement                  1117957 non-null  int64  \n",
      " 3   Deforestation                    1117957 non-null  int64  \n",
      " 4   Urbanization                     1117957 non-null  int64  \n",
      " 5   ClimateChange                    1117957 non-null  int64  \n",
      " 6   DamsQuality                      1117957 non-null  int64  \n",
      " 7   Siltation                        1117957 non-null  int64  \n",
      " 8   AgriculturalPractices            1117957 non-null  int64  \n",
      " 9   Encroachments                    1117957 non-null  int64  \n",
      " 10  IneffectiveDisasterPreparedness  1117957 non-null  int64  \n",
      " 11  DrainageSystems                  1117957 non-null  int64  \n",
      " 12  CoastalVulnerability             1117957 non-null  int64  \n",
      " 13  Landslides                       1117957 non-null  int64  \n",
      " 14  Watersheds                       1117957 non-null  int64  \n",
      " 15  DeterioratingInfrastructure      1117957 non-null  int64  \n",
      " 16  PopulationScore                  1117957 non-null  int64  \n",
      " 17  WetlandLoss                      1117957 non-null  int64  \n",
      " 18  InadequatePlanning               1117957 non-null  int64  \n",
      " 19  PoliticalFactors                 1117957 non-null  int64  \n",
      " 20  std_features                     1117957 non-null  float64\n",
      " 21  mean_features                    1117957 non-null  float64\n",
      " 22  median_features                  1117957 non-null  float64\n",
      " 23  max_features                     1117957 non-null  int64  \n",
      " 24  min_features                     1117957 non-null  int64  \n",
      " 25  weather                          1117957 non-null  int64  \n",
      " 26  structure                        1117957 non-null  int64  \n",
      " 27  population                       1117957 non-null  int64  \n",
      " 28  soil_infrastructure              1117957 non-null  int64  \n",
      " 29  preparedness                     1117957 non-null  int64  \n",
      " 30  FloodProbability                 1117957 non-null  float64\n",
      "dtypes: float64(4), int64(27)\n",
      "memory usage: 264.4 MB\n"
     ]
    }
   ],
   "source": [
    "flood_dataset_df.info()"
   ]
  },
  {
   "cell_type": "code",
   "execution_count": 13,
   "id": "ff1404c9",
   "metadata": {
    "execution": {
     "iopub.execute_input": "2024-05-30T20:59:55.906675Z",
     "iopub.status.busy": "2024-05-30T20:59:55.905434Z",
     "iopub.status.idle": "2024-05-30T20:59:55.928490Z",
     "shell.execute_reply": "2024-05-30T20:59:55.927643Z"
    },
    "papermill": {
     "duration": 0.037544,
     "end_time": "2024-05-30T20:59:55.930574",
     "exception": false,
     "start_time": "2024-05-30T20:59:55.893030",
     "status": "completed"
    },
    "tags": []
   },
   "outputs": [
    {
     "data": {
      "text/html": [
       "<div>\n",
       "<style scoped>\n",
       "    .dataframe tbody tr th:only-of-type {\n",
       "        vertical-align: middle;\n",
       "    }\n",
       "\n",
       "    .dataframe tbody tr th {\n",
       "        vertical-align: top;\n",
       "    }\n",
       "\n",
       "    .dataframe thead th {\n",
       "        text-align: right;\n",
       "    }\n",
       "</style>\n",
       "<table border=\"1\" class=\"dataframe\">\n",
       "  <thead>\n",
       "    <tr style=\"text-align: right;\">\n",
       "      <th></th>\n",
       "      <th>MonsoonIntensity</th>\n",
       "      <th>TopographyDrainage</th>\n",
       "      <th>RiverManagement</th>\n",
       "      <th>Deforestation</th>\n",
       "      <th>Urbanization</th>\n",
       "      <th>ClimateChange</th>\n",
       "      <th>DamsQuality</th>\n",
       "      <th>Siltation</th>\n",
       "      <th>AgriculturalPractices</th>\n",
       "      <th>Encroachments</th>\n",
       "      <th>...</th>\n",
       "      <th>mean_features</th>\n",
       "      <th>median_features</th>\n",
       "      <th>max_features</th>\n",
       "      <th>min_features</th>\n",
       "      <th>weather</th>\n",
       "      <th>structure</th>\n",
       "      <th>population</th>\n",
       "      <th>soil_infrastructure</th>\n",
       "      <th>preparedness</th>\n",
       "      <th>FloodProbability</th>\n",
       "    </tr>\n",
       "  </thead>\n",
       "  <tbody>\n",
       "    <tr>\n",
       "      <th>0</th>\n",
       "      <td>5</td>\n",
       "      <td>8</td>\n",
       "      <td>5</td>\n",
       "      <td>8</td>\n",
       "      <td>6</td>\n",
       "      <td>4</td>\n",
       "      <td>4</td>\n",
       "      <td>3</td>\n",
       "      <td>3</td>\n",
       "      <td>4</td>\n",
       "      <td>...</td>\n",
       "      <td>0.470</td>\n",
       "      <td>0.45</td>\n",
       "      <td>8</td>\n",
       "      <td>2</td>\n",
       "      <td>-9</td>\n",
       "      <td>14</td>\n",
       "      <td>-42</td>\n",
       "      <td>-3</td>\n",
       "      <td>-9</td>\n",
       "      <td>0.445</td>\n",
       "    </tr>\n",
       "    <tr>\n",
       "      <th>1</th>\n",
       "      <td>6</td>\n",
       "      <td>7</td>\n",
       "      <td>4</td>\n",
       "      <td>4</td>\n",
       "      <td>8</td>\n",
       "      <td>8</td>\n",
       "      <td>3</td>\n",
       "      <td>5</td>\n",
       "      <td>4</td>\n",
       "      <td>6</td>\n",
       "      <td>...</td>\n",
       "      <td>0.470</td>\n",
       "      <td>0.40</td>\n",
       "      <td>9</td>\n",
       "      <td>0</td>\n",
       "      <td>-14</td>\n",
       "      <td>18</td>\n",
       "      <td>-24</td>\n",
       "      <td>-1</td>\n",
       "      <td>-14</td>\n",
       "      <td>0.450</td>\n",
       "    </tr>\n",
       "    <tr>\n",
       "      <th>2</th>\n",
       "      <td>6</td>\n",
       "      <td>5</td>\n",
       "      <td>6</td>\n",
       "      <td>7</td>\n",
       "      <td>3</td>\n",
       "      <td>7</td>\n",
       "      <td>1</td>\n",
       "      <td>5</td>\n",
       "      <td>4</td>\n",
       "      <td>5</td>\n",
       "      <td>...</td>\n",
       "      <td>0.495</td>\n",
       "      <td>0.50</td>\n",
       "      <td>8</td>\n",
       "      <td>1</td>\n",
       "      <td>-13</td>\n",
       "      <td>8</td>\n",
       "      <td>-24</td>\n",
       "      <td>-8</td>\n",
       "      <td>-9</td>\n",
       "      <td>0.530</td>\n",
       "    </tr>\n",
       "    <tr>\n",
       "      <th>3</th>\n",
       "      <td>3</td>\n",
       "      <td>4</td>\n",
       "      <td>6</td>\n",
       "      <td>5</td>\n",
       "      <td>4</td>\n",
       "      <td>8</td>\n",
       "      <td>4</td>\n",
       "      <td>7</td>\n",
       "      <td>6</td>\n",
       "      <td>8</td>\n",
       "      <td>...</td>\n",
       "      <td>0.520</td>\n",
       "      <td>0.50</td>\n",
       "      <td>8</td>\n",
       "      <td>2</td>\n",
       "      <td>-11</td>\n",
       "      <td>16</td>\n",
       "      <td>-24</td>\n",
       "      <td>-8</td>\n",
       "      <td>-13</td>\n",
       "      <td>0.535</td>\n",
       "    </tr>\n",
       "    <tr>\n",
       "      <th>4</th>\n",
       "      <td>5</td>\n",
       "      <td>3</td>\n",
       "      <td>2</td>\n",
       "      <td>6</td>\n",
       "      <td>4</td>\n",
       "      <td>4</td>\n",
       "      <td>3</td>\n",
       "      <td>3</td>\n",
       "      <td>3</td>\n",
       "      <td>3</td>\n",
       "      <td>...</td>\n",
       "      <td>0.360</td>\n",
       "      <td>0.30</td>\n",
       "      <td>6</td>\n",
       "      <td>1</td>\n",
       "      <td>-9</td>\n",
       "      <td>-1</td>\n",
       "      <td>-4</td>\n",
       "      <td>-6</td>\n",
       "      <td>-11</td>\n",
       "      <td>0.415</td>\n",
       "    </tr>\n",
       "  </tbody>\n",
       "</table>\n",
       "<p>5 rows × 31 columns</p>\n",
       "</div>"
      ],
      "text/plain": [
       "   MonsoonIntensity  TopographyDrainage  RiverManagement  Deforestation  \\\n",
       "0                 5                   8                5              8   \n",
       "1                 6                   7                4              4   \n",
       "2                 6                   5                6              7   \n",
       "3                 3                   4                6              5   \n",
       "4                 5                   3                2              6   \n",
       "\n",
       "   Urbanization  ClimateChange  DamsQuality  Siltation  AgriculturalPractices  \\\n",
       "0             6              4            4          3                      3   \n",
       "1             8              8            3          5                      4   \n",
       "2             3              7            1          5                      4   \n",
       "3             4              8            4          7                      6   \n",
       "4             4              4            3          3                      3   \n",
       "\n",
       "   Encroachments  ...  mean_features  median_features  max_features  \\\n",
       "0              4  ...          0.470             0.45             8   \n",
       "1              6  ...          0.470             0.40             9   \n",
       "2              5  ...          0.495             0.50             8   \n",
       "3              8  ...          0.520             0.50             8   \n",
       "4              3  ...          0.360             0.30             6   \n",
       "\n",
       "   min_features  weather  structure  population  soil_infrastructure  \\\n",
       "0             2       -9         14         -42                   -3   \n",
       "1             0      -14         18         -24                   -1   \n",
       "2             1      -13          8         -24                   -8   \n",
       "3             2      -11         16         -24                   -8   \n",
       "4             1       -9         -1          -4                   -6   \n",
       "\n",
       "   preparedness  FloodProbability  \n",
       "0            -9             0.445  \n",
       "1           -14             0.450  \n",
       "2            -9             0.530  \n",
       "3           -13             0.535  \n",
       "4           -11             0.415  \n",
       "\n",
       "[5 rows x 31 columns]"
      ]
     },
     "execution_count": 13,
     "metadata": {},
     "output_type": "execute_result"
    }
   ],
   "source": [
    "flood_dataset_df.head(5)"
   ]
  },
  {
   "cell_type": "code",
   "execution_count": 14,
   "id": "c7dd147c",
   "metadata": {
    "execution": {
     "iopub.execute_input": "2024-05-30T20:59:55.955906Z",
     "iopub.status.busy": "2024-05-30T20:59:55.955287Z",
     "iopub.status.idle": "2024-05-30T21:00:15.006173Z",
     "shell.execute_reply": "2024-05-30T21:00:15.004974Z"
    },
    "papermill": {
     "duration": 19.066878,
     "end_time": "2024-05-30T21:00:15.009050",
     "exception": false,
     "start_time": "2024-05-30T20:59:55.942172",
     "status": "completed"
    },
    "tags": []
   },
   "outputs": [],
   "source": [
    "flood_dataset_df.to_csv('train_without_preprocessing.csv', index=False)"
   ]
  },
  {
   "cell_type": "code",
   "execution_count": 15,
   "id": "993deaaf",
   "metadata": {
    "execution": {
     "iopub.execute_input": "2024-05-30T21:00:15.034708Z",
     "iopub.status.busy": "2024-05-30T21:00:15.034295Z",
     "iopub.status.idle": "2024-05-30T21:00:15.039419Z",
     "shell.execute_reply": "2024-05-30T21:00:15.038306Z"
    },
    "papermill": {
     "duration": 0.020863,
     "end_time": "2024-05-30T21:00:15.041982",
     "exception": false,
     "start_time": "2024-05-30T21:00:15.021119",
     "status": "completed"
    },
    "tags": []
   },
   "outputs": [],
   "source": [
    "del flood_dataset_df"
   ]
  },
  {
   "cell_type": "markdown",
   "id": "21fc01cd",
   "metadata": {
    "papermill": {
     "duration": 0.01122,
     "end_time": "2024-05-30T21:00:15.064979",
     "exception": false,
     "start_time": "2024-05-30T21:00:15.053759",
     "status": "completed"
    },
    "tags": []
   },
   "source": [
    "# **For Test Dataset!!**"
   ]
  },
  {
   "cell_type": "code",
   "execution_count": 16,
   "id": "ee9340ec",
   "metadata": {
    "execution": {
     "iopub.execute_input": "2024-05-30T21:00:15.089922Z",
     "iopub.status.busy": "2024-05-30T21:00:15.089532Z",
     "iopub.status.idle": "2024-05-30T21:00:18.915327Z",
     "shell.execute_reply": "2024-05-30T21:00:18.913454Z"
    },
    "papermill": {
     "duration": 3.841397,
     "end_time": "2024-05-30T21:00:18.918041",
     "exception": false,
     "start_time": "2024-05-30T21:00:15.076644",
     "status": "completed"
    },
    "tags": []
   },
   "outputs": [
    {
     "name": "stdout",
     "output_type": "stream",
     "text": [
      "<class 'pandas.core.frame.DataFrame'>\n",
      "RangeIndex: 745305 entries, 0 to 745304\n",
      "Data columns (total 30 columns):\n",
      " #   Column                           Non-Null Count   Dtype  \n",
      "---  ------                           --------------   -----  \n",
      " 0   MonsoonIntensity                 745305 non-null  int64  \n",
      " 1   TopographyDrainage               745305 non-null  int64  \n",
      " 2   RiverManagement                  745305 non-null  int64  \n",
      " 3   Deforestation                    745305 non-null  int64  \n",
      " 4   Urbanization                     745305 non-null  int64  \n",
      " 5   ClimateChange                    745305 non-null  int64  \n",
      " 6   DamsQuality                      745305 non-null  int64  \n",
      " 7   Siltation                        745305 non-null  int64  \n",
      " 8   AgriculturalPractices            745305 non-null  int64  \n",
      " 9   Encroachments                    745305 non-null  int64  \n",
      " 10  IneffectiveDisasterPreparedness  745305 non-null  int64  \n",
      " 11  DrainageSystems                  745305 non-null  int64  \n",
      " 12  CoastalVulnerability             745305 non-null  int64  \n",
      " 13  Landslides                       745305 non-null  int64  \n",
      " 14  Watersheds                       745305 non-null  int64  \n",
      " 15  DeterioratingInfrastructure      745305 non-null  int64  \n",
      " 16  PopulationScore                  745305 non-null  int64  \n",
      " 17  WetlandLoss                      745305 non-null  int64  \n",
      " 18  InadequatePlanning               745305 non-null  int64  \n",
      " 19  PoliticalFactors                 745305 non-null  int64  \n",
      " 20  std_features                     745305 non-null  float64\n",
      " 21  mean_features                    745305 non-null  float64\n",
      " 22  median_features                  745305 non-null  float64\n",
      " 23  max_features                     745305 non-null  int64  \n",
      " 24  min_features                     745305 non-null  int64  \n",
      " 25  weather                          745305 non-null  int64  \n",
      " 26  structure                        745305 non-null  int64  \n",
      " 27  population                       745305 non-null  int64  \n",
      " 28  soil_infrastructure              745305 non-null  int64  \n",
      " 29  preparedness                     745305 non-null  int64  \n",
      "dtypes: float64(3), int64(27)\n",
      "memory usage: 170.6 MB\n"
     ]
    }
   ],
   "source": [
    "flood_dataset = pd.read_csv(\"/kaggle/input/playground-series-s4e5/test.csv\")\n",
    "\n",
    "flood_dataset_df=flood_dataset.copy()\n",
    "flood_dataset_df.drop(['id'], axis = 1, inplace = True)\n",
    "\n",
    "df = flood_dataset_df\n",
    "flood_dataset_df = add_features(df)\n",
    "\n",
    "flood_dataset_df = add_more_features(flood_dataset_df)\n",
    "\n",
    "flood_dataset_df.info()"
   ]
  },
  {
   "cell_type": "code",
   "execution_count": 17,
   "id": "cdb6ead2",
   "metadata": {
    "execution": {
     "iopub.execute_input": "2024-05-30T21:00:18.943531Z",
     "iopub.status.busy": "2024-05-30T21:00:18.942908Z",
     "iopub.status.idle": "2024-05-30T21:00:30.932404Z",
     "shell.execute_reply": "2024-05-30T21:00:30.931432Z"
    },
    "papermill": {
     "duration": 12.005708,
     "end_time": "2024-05-30T21:00:30.935422",
     "exception": false,
     "start_time": "2024-05-30T21:00:18.929714",
     "status": "completed"
    },
    "tags": []
   },
   "outputs": [],
   "source": [
    "flood_dataset_df.to_csv('test_data.csv', index=False)"
   ]
  },
  {
   "cell_type": "markdown",
   "id": "017bfdec",
   "metadata": {
    "papermill": {
     "duration": 0.012225,
     "end_time": "2024-05-30T21:00:30.959338",
     "exception": false,
     "start_time": "2024-05-30T21:00:30.947113",
     "status": "completed"
    },
    "tags": []
   },
   "source": [
    "# **Data Preprocessing: (add more features for each subjective columns in vertical ways)**"
   ]
  },
  {
   "cell_type": "code",
   "execution_count": 18,
   "id": "863776a3",
   "metadata": {
    "execution": {
     "iopub.execute_input": "2024-05-30T21:00:30.985416Z",
     "iopub.status.busy": "2024-05-30T21:00:30.984614Z",
     "iopub.status.idle": "2024-05-30T21:00:34.292676Z",
     "shell.execute_reply": "2024-05-30T21:00:34.291756Z"
    },
    "papermill": {
     "duration": 3.323946,
     "end_time": "2024-05-30T21:00:34.295337",
     "exception": false,
     "start_time": "2024-05-30T21:00:30.971391",
     "status": "completed"
    },
    "tags": []
   },
   "outputs": [],
   "source": [
    "flood_dataset_df = pd.read_csv(\"/kaggle/working/train_without_preprocessing.csv\")"
   ]
  },
  {
   "cell_type": "code",
   "execution_count": 19,
   "id": "25d517d3",
   "metadata": {
    "execution": {
     "iopub.execute_input": "2024-05-30T21:00:34.320686Z",
     "iopub.status.busy": "2024-05-30T21:00:34.319956Z",
     "iopub.status.idle": "2024-05-30T21:00:34.327650Z",
     "shell.execute_reply": "2024-05-30T21:00:34.326442Z"
    },
    "papermill": {
     "duration": 0.022961,
     "end_time": "2024-05-30T21:00:34.330040",
     "exception": false,
     "start_time": "2024-05-30T21:00:34.307079",
     "status": "completed"
    },
    "tags": []
   },
   "outputs": [
    {
     "data": {
      "text/plain": [
       "Index(['MonsoonIntensity', 'TopographyDrainage', 'RiverManagement',\n",
       "       'Deforestation', 'Urbanization', 'ClimateChange', 'DamsQuality',\n",
       "       'Siltation', 'AgriculturalPractices', 'Encroachments',\n",
       "       'IneffectiveDisasterPreparedness', 'DrainageSystems',\n",
       "       'CoastalVulnerability', 'Landslides', 'Watersheds',\n",
       "       'DeterioratingInfrastructure', 'PopulationScore', 'WetlandLoss',\n",
       "       'InadequatePlanning', 'PoliticalFactors', 'std_features',\n",
       "       'mean_features', 'median_features', 'max_features', 'min_features',\n",
       "       'weather', 'structure', 'population', 'soil_infrastructure',\n",
       "       'preparedness', 'FloodProbability'],\n",
       "      dtype='object')"
      ]
     },
     "execution_count": 19,
     "metadata": {},
     "output_type": "execute_result"
    }
   ],
   "source": [
    "flood_dataset_df.columns"
   ]
  },
  {
   "cell_type": "code",
   "execution_count": 20,
   "id": "bb779f9d",
   "metadata": {
    "execution": {
     "iopub.execute_input": "2024-05-30T21:00:34.355465Z",
     "iopub.status.busy": "2024-05-30T21:00:34.355037Z",
     "iopub.status.idle": "2024-05-30T21:00:34.369897Z",
     "shell.execute_reply": "2024-05-30T21:00:34.368754Z"
    },
    "papermill": {
     "duration": 0.030531,
     "end_time": "2024-05-30T21:00:34.372292",
     "exception": false,
     "start_time": "2024-05-30T21:00:34.341761",
     "status": "completed"
    },
    "tags": []
   },
   "outputs": [],
   "source": [
    "def add_manipulated_features(df):    \n",
    "    df['all_row_MonsoonIntensity'] = df['MonsoonIntensity'] / df['MonsoonIntensity'].mean()   \n",
    "    df['all_row_TopographyDrainage'] = df['TopographyDrainage'] / df['TopographyDrainage'].mean() \n",
    "    df['all_row_RiverManagement'] = df['RiverManagement'] / df['RiverManagement'].mean() \n",
    "    df['all_row_Deforestation'] = df['Deforestation'] / df['Deforestation'].mean() \n",
    "    df['all_row_Urbanization'] = df['Urbanization'] / df['Urbanization'].mean() \n",
    "    df['all_row_ClimateChange'] = df['ClimateChange'] / df['ClimateChange'].mean() \n",
    "    df['all_row_DamsQuality'] = df['DamsQuality'] / df['DamsQuality'].mean() \n",
    "    df['all_row_Siltation'] = df['Siltation'] / df['Siltation'].mean() \n",
    "    df['all_row_AgriculturalPractices'] = df['AgriculturalPractices'] / df['AgriculturalPractices'].mean() \n",
    "    df['all_row_Encroachments'] = df['Encroachments'] / df['Encroachments'].mean() \n",
    "    df['all_row_IneffectiveDisasterPreparedness'] = df['IneffectiveDisasterPreparedness'] / df['IneffectiveDisasterPreparedness'].mean()\n",
    "    df['all_row_DrainageSystems'] = df['DrainageSystems'] / df['DrainageSystems'].mean() \n",
    "    df['all_row_CoastalVulnerability'] = df['CoastalVulnerability'] / df['CoastalVulnerability'].mean() \n",
    "    df['all_row_Landslides'] = df['Landslides'] / df['Landslides'].mean() \n",
    "    df['all_row_Watersheds'] = df['Watersheds'] / df['Watersheds'].mean() \n",
    "    df['all_row_DeterioratingInfrastructure'] = df['DeterioratingInfrastructure'] / df['DeterioratingInfrastructure'].mean() \n",
    "    df['all_row_PopulationScore'] = df['PopulationScore'] / df['PopulationScore'].mean() \n",
    "    df['all_row_WetlandLoss'] = df['WetlandLoss'] / df['WetlandLoss'].mean()\n",
    "    df['all_row_InadequatePlanning'] = df['InadequatePlanning'] / df['InadequatePlanning'].mean() \n",
    "    df['all_row_PoliticalFactors'] = df['PoliticalFactors'] / df['PoliticalFactors'].mean() \n",
    "    df['all_row_weather'] = df['weather'] / df['weather'].mean() \n",
    "    df['all_row_structure'] = df['structure'] / df['structure'].mean()\n",
    "    df['all_row_population'] = df['population'] / df['population'].mean() \n",
    "    df['all_row_soil_infrastructure'] = df['soil_infrastructure'] / df['soil_infrastructure'].mean() \n",
    "    df['all_row_preparedness'] = df['preparedness'] / df['preparedness'].mean() \n",
    "    return df"
   ]
  },
  {
   "cell_type": "code",
   "execution_count": 21,
   "id": "a418bcee",
   "metadata": {
    "execution": {
     "iopub.execute_input": "2024-05-30T21:00:34.397853Z",
     "iopub.status.busy": "2024-05-30T21:00:34.396897Z",
     "iopub.status.idle": "2024-05-30T21:00:34.598653Z",
     "shell.execute_reply": "2024-05-30T21:00:34.597442Z"
    },
    "papermill": {
     "duration": 0.217527,
     "end_time": "2024-05-30T21:00:34.601473",
     "exception": false,
     "start_time": "2024-05-30T21:00:34.383946",
     "status": "completed"
    },
    "tags": []
   },
   "outputs": [],
   "source": [
    "flood_dataset_df = add_manipulated_features(flood_dataset_df)"
   ]
  },
  {
   "cell_type": "code",
   "execution_count": 22,
   "id": "39d0eb33",
   "metadata": {
    "execution": {
     "iopub.execute_input": "2024-05-30T21:00:34.627323Z",
     "iopub.status.busy": "2024-05-30T21:00:34.626892Z",
     "iopub.status.idle": "2024-05-30T21:00:34.653179Z",
     "shell.execute_reply": "2024-05-30T21:00:34.652064Z"
    },
    "papermill": {
     "duration": 0.042371,
     "end_time": "2024-05-30T21:00:34.656014",
     "exception": false,
     "start_time": "2024-05-30T21:00:34.613643",
     "status": "completed"
    },
    "tags": []
   },
   "outputs": [
    {
     "data": {
      "text/html": [
       "<div>\n",
       "<style scoped>\n",
       "    .dataframe tbody tr th:only-of-type {\n",
       "        vertical-align: middle;\n",
       "    }\n",
       "\n",
       "    .dataframe tbody tr th {\n",
       "        vertical-align: top;\n",
       "    }\n",
       "\n",
       "    .dataframe thead th {\n",
       "        text-align: right;\n",
       "    }\n",
       "</style>\n",
       "<table border=\"1\" class=\"dataframe\">\n",
       "  <thead>\n",
       "    <tr style=\"text-align: right;\">\n",
       "      <th></th>\n",
       "      <th>MonsoonIntensity</th>\n",
       "      <th>TopographyDrainage</th>\n",
       "      <th>RiverManagement</th>\n",
       "      <th>Deforestation</th>\n",
       "      <th>Urbanization</th>\n",
       "      <th>ClimateChange</th>\n",
       "      <th>DamsQuality</th>\n",
       "      <th>Siltation</th>\n",
       "      <th>AgriculturalPractices</th>\n",
       "      <th>Encroachments</th>\n",
       "      <th>...</th>\n",
       "      <th>all_row_DeterioratingInfrastructure</th>\n",
       "      <th>all_row_PopulationScore</th>\n",
       "      <th>all_row_WetlandLoss</th>\n",
       "      <th>all_row_InadequatePlanning</th>\n",
       "      <th>all_row_PoliticalFactors</th>\n",
       "      <th>all_row_weather</th>\n",
       "      <th>all_row_structure</th>\n",
       "      <th>all_row_population</th>\n",
       "      <th>all_row_soil_infrastructure</th>\n",
       "      <th>all_row_preparedness</th>\n",
       "    </tr>\n",
       "  </thead>\n",
       "  <tbody>\n",
       "    <tr>\n",
       "      <th>0</th>\n",
       "      <td>5</td>\n",
       "      <td>8</td>\n",
       "      <td>5</td>\n",
       "      <td>8</td>\n",
       "      <td>6</td>\n",
       "      <td>4</td>\n",
       "      <td>4</td>\n",
       "      <td>3</td>\n",
       "      <td>3</td>\n",
       "      <td>4</td>\n",
       "      <td>...</td>\n",
       "      <td>0.812033</td>\n",
       "      <td>1.420593</td>\n",
       "      <td>1.009926</td>\n",
       "      <td>1.416836</td>\n",
       "      <td>0.60741</td>\n",
       "      <td>0.913192</td>\n",
       "      <td>0.940375</td>\n",
       "      <td>1.728060</td>\n",
       "      <td>0.610184</td>\n",
       "      <td>0.911777</td>\n",
       "    </tr>\n",
       "    <tr>\n",
       "      <th>1</th>\n",
       "      <td>6</td>\n",
       "      <td>7</td>\n",
       "      <td>4</td>\n",
       "      <td>4</td>\n",
       "      <td>8</td>\n",
       "      <td>8</td>\n",
       "      <td>3</td>\n",
       "      <td>5</td>\n",
       "      <td>4</td>\n",
       "      <td>6</td>\n",
       "      <td>...</td>\n",
       "      <td>1.015042</td>\n",
       "      <td>0.608826</td>\n",
       "      <td>0.605955</td>\n",
       "      <td>0.809620</td>\n",
       "      <td>0.60741</td>\n",
       "      <td>1.420520</td>\n",
       "      <td>1.209054</td>\n",
       "      <td>0.987463</td>\n",
       "      <td>0.203395</td>\n",
       "      <td>1.418320</td>\n",
       "    </tr>\n",
       "    <tr>\n",
       "      <th>2</th>\n",
       "      <td>6</td>\n",
       "      <td>5</td>\n",
       "      <td>6</td>\n",
       "      <td>7</td>\n",
       "      <td>3</td>\n",
       "      <td>7</td>\n",
       "      <td>1</td>\n",
       "      <td>5</td>\n",
       "      <td>4</td>\n",
       "      <td>5</td>\n",
       "      <td>...</td>\n",
       "      <td>1.218050</td>\n",
       "      <td>1.623535</td>\n",
       "      <td>0.403970</td>\n",
       "      <td>0.607215</td>\n",
       "      <td>0.60741</td>\n",
       "      <td>1.319055</td>\n",
       "      <td>0.537357</td>\n",
       "      <td>0.987463</td>\n",
       "      <td>1.627158</td>\n",
       "      <td>0.911777</td>\n",
       "    </tr>\n",
       "    <tr>\n",
       "      <th>3</th>\n",
       "      <td>3</td>\n",
       "      <td>4</td>\n",
       "      <td>6</td>\n",
       "      <td>5</td>\n",
       "      <td>4</td>\n",
       "      <td>8</td>\n",
       "      <td>4</td>\n",
       "      <td>7</td>\n",
       "      <td>6</td>\n",
       "      <td>8</td>\n",
       "      <td>...</td>\n",
       "      <td>0.812033</td>\n",
       "      <td>1.217651</td>\n",
       "      <td>1.009926</td>\n",
       "      <td>1.416836</td>\n",
       "      <td>1.01235</td>\n",
       "      <td>1.116123</td>\n",
       "      <td>1.074715</td>\n",
       "      <td>0.987463</td>\n",
       "      <td>1.627158</td>\n",
       "      <td>1.317012</td>\n",
       "    </tr>\n",
       "    <tr>\n",
       "      <th>4</th>\n",
       "      <td>5</td>\n",
       "      <td>3</td>\n",
       "      <td>2</td>\n",
       "      <td>6</td>\n",
       "      <td>4</td>\n",
       "      <td>4</td>\n",
       "      <td>3</td>\n",
       "      <td>3</td>\n",
       "      <td>3</td>\n",
       "      <td>3</td>\n",
       "      <td>...</td>\n",
       "      <td>0.812033</td>\n",
       "      <td>0.202942</td>\n",
       "      <td>0.403970</td>\n",
       "      <td>0.607215</td>\n",
       "      <td>1.01235</td>\n",
       "      <td>0.913192</td>\n",
       "      <td>-0.067170</td>\n",
       "      <td>0.164577</td>\n",
       "      <td>1.220369</td>\n",
       "      <td>1.114395</td>\n",
       "    </tr>\n",
       "  </tbody>\n",
       "</table>\n",
       "<p>5 rows × 56 columns</p>\n",
       "</div>"
      ],
      "text/plain": [
       "   MonsoonIntensity  TopographyDrainage  RiverManagement  Deforestation  \\\n",
       "0                 5                   8                5              8   \n",
       "1                 6                   7                4              4   \n",
       "2                 6                   5                6              7   \n",
       "3                 3                   4                6              5   \n",
       "4                 5                   3                2              6   \n",
       "\n",
       "   Urbanization  ClimateChange  DamsQuality  Siltation  AgriculturalPractices  \\\n",
       "0             6              4            4          3                      3   \n",
       "1             8              8            3          5                      4   \n",
       "2             3              7            1          5                      4   \n",
       "3             4              8            4          7                      6   \n",
       "4             4              4            3          3                      3   \n",
       "\n",
       "   Encroachments  ...  all_row_DeterioratingInfrastructure  \\\n",
       "0              4  ...                             0.812033   \n",
       "1              6  ...                             1.015042   \n",
       "2              5  ...                             1.218050   \n",
       "3              8  ...                             0.812033   \n",
       "4              3  ...                             0.812033   \n",
       "\n",
       "   all_row_PopulationScore  all_row_WetlandLoss  all_row_InadequatePlanning  \\\n",
       "0                 1.420593             1.009926                    1.416836   \n",
       "1                 0.608826             0.605955                    0.809620   \n",
       "2                 1.623535             0.403970                    0.607215   \n",
       "3                 1.217651             1.009926                    1.416836   \n",
       "4                 0.202942             0.403970                    0.607215   \n",
       "\n",
       "   all_row_PoliticalFactors  all_row_weather  all_row_structure  \\\n",
       "0                   0.60741         0.913192           0.940375   \n",
       "1                   0.60741         1.420520           1.209054   \n",
       "2                   0.60741         1.319055           0.537357   \n",
       "3                   1.01235         1.116123           1.074715   \n",
       "4                   1.01235         0.913192          -0.067170   \n",
       "\n",
       "   all_row_population  all_row_soil_infrastructure  all_row_preparedness  \n",
       "0            1.728060                     0.610184              0.911777  \n",
       "1            0.987463                     0.203395              1.418320  \n",
       "2            0.987463                     1.627158              0.911777  \n",
       "3            0.987463                     1.627158              1.317012  \n",
       "4            0.164577                     1.220369              1.114395  \n",
       "\n",
       "[5 rows x 56 columns]"
      ]
     },
     "execution_count": 22,
     "metadata": {},
     "output_type": "execute_result"
    }
   ],
   "source": [
    "flood_dataset_df.head(5)"
   ]
  },
  {
   "cell_type": "code",
   "execution_count": 23,
   "id": "92c02368",
   "metadata": {
    "execution": {
     "iopub.execute_input": "2024-05-30T21:00:34.682530Z",
     "iopub.status.busy": "2024-05-30T21:00:34.682135Z",
     "iopub.status.idle": "2024-05-30T21:01:55.206388Z",
     "shell.execute_reply": "2024-05-30T21:01:55.205058Z"
    },
    "papermill": {
     "duration": 80.541139,
     "end_time": "2024-05-30T21:01:55.209465",
     "exception": false,
     "start_time": "2024-05-30T21:00:34.668326",
     "status": "completed"
    },
    "tags": []
   },
   "outputs": [],
   "source": [
    "flood_dataset_df.to_csv('train_preprocessing.csv', index=False)\n",
    "del flood_dataset_df"
   ]
  },
  {
   "cell_type": "code",
   "execution_count": 24,
   "id": "175a2d82",
   "metadata": {
    "execution": {
     "iopub.execute_input": "2024-05-30T21:01:55.236299Z",
     "iopub.status.busy": "2024-05-30T21:01:55.235601Z",
     "iopub.status.idle": "2024-05-30T21:02:50.544202Z",
     "shell.execute_reply": "2024-05-30T21:02:50.542943Z"
    },
    "papermill": {
     "duration": 55.325418,
     "end_time": "2024-05-30T21:02:50.547562",
     "exception": false,
     "start_time": "2024-05-30T21:01:55.222144",
     "status": "completed"
    },
    "tags": []
   },
   "outputs": [],
   "source": [
    "flood_dataset_df = pd.read_csv(\"/kaggle/working/test_data.csv\")\n",
    "flood_dataset_df = add_manipulated_features(flood_dataset_df)\n",
    "flood_dataset_df.to_csv('test_data_featured.csv', index=False)"
   ]
  },
  {
   "cell_type": "code",
   "execution_count": 25,
   "id": "4691f4ae",
   "metadata": {
    "execution": {
     "iopub.execute_input": "2024-05-30T21:02:50.574196Z",
     "iopub.status.busy": "2024-05-30T21:02:50.573790Z",
     "iopub.status.idle": "2024-05-30T21:02:50.588840Z",
     "shell.execute_reply": "2024-05-30T21:02:50.587587Z"
    },
    "papermill": {
     "duration": 0.03088,
     "end_time": "2024-05-30T21:02:50.591179",
     "exception": false,
     "start_time": "2024-05-30T21:02:50.560299",
     "status": "completed"
    },
    "tags": []
   },
   "outputs": [],
   "source": [
    "del flood_dataset_df"
   ]
  },
  {
   "cell_type": "code",
   "execution_count": 26,
   "id": "ecbae89f",
   "metadata": {
    "execution": {
     "iopub.execute_input": "2024-05-30T21:02:50.617519Z",
     "iopub.status.busy": "2024-05-30T21:02:50.616859Z",
     "iopub.status.idle": "2024-05-30T21:02:53.982581Z",
     "shell.execute_reply": "2024-05-30T21:02:53.981627Z"
    },
    "papermill": {
     "duration": 3.381976,
     "end_time": "2024-05-30T21:02:53.985312",
     "exception": false,
     "start_time": "2024-05-30T21:02:50.603336",
     "status": "completed"
    },
    "tags": []
   },
   "outputs": [],
   "source": [
    "flood_dataset_df = pd.read_csv(\"/kaggle/working/train_without_preprocessing.csv\")"
   ]
  },
  {
   "cell_type": "code",
   "execution_count": 27,
   "id": "6a91ceae",
   "metadata": {
    "execution": {
     "iopub.execute_input": "2024-05-30T21:02:54.011611Z",
     "iopub.status.busy": "2024-05-30T21:02:54.011201Z",
     "iopub.status.idle": "2024-05-30T21:05:38.024276Z",
     "shell.execute_reply": "2024-05-30T21:05:38.023060Z"
    },
    "papermill": {
     "duration": 164.040548,
     "end_time": "2024-05-30T21:05:38.038126",
     "exception": false,
     "start_time": "2024-05-30T21:02:53.997578",
     "status": "completed"
    },
    "tags": []
   },
   "outputs": [
    {
     "name": "stdout",
     "output_type": "stream",
     "text": [
      "Extreme Gradient Boosting RMSE Metric: 0.03758825913032963\n",
      "Extreme Gradient Boosting R-squared Metric: 0.8679998530350381\n"
     ]
    }
   ],
   "source": [
    "from sklearn.preprocessing import StandardScaler\n",
    "from sklearn.metrics import r2_score\n",
    "from sklearn.model_selection import train_test_split\n",
    "from sklearn.metrics import mean_squared_error, r2_score\n",
    "\n",
    "#flood_dataset_df.drop(['id'], axis = 1, inplace = True)\n",
    "dataX = flood_dataset_df.drop(['FloodProbability'], axis = 1)\n",
    "datay = flood_dataset_df['FloodProbability']\n",
    "\n",
    "X_train, X_test, Y_train, Y_test = train_test_split(dataX, datay, test_size = 0.3, random_state = 42)\n",
    "\n",
    "from xgboost import XGBRegressor\n",
    "xgb = XGBRegressor(learning_rate=0.01, n_estimators=3460,\n",
    "                                     max_depth=3, min_child_weight=0,\n",
    "                                     gamma=0, subsample=0.7,\n",
    "                                     colsample_bytree=0.7,\n",
    "                                     #objective='reg:linear', nthread=-1,\n",
    "                                     objective='reg:squarederror', nthread=-1,\n",
    "                                     scale_pos_weight=1, seed=27,\n",
    "                                     reg_alpha=0.00006)\n",
    "xgb_model = xgb.fit(X_train , Y_train)\n",
    "\n",
    "y_pred_xgboost = xgb_model.predict(X_test)\n",
    "\n",
    "xgboost_rmse_calculator = np.sqrt(mean_squared_error(np.log(Y_test), np.log(y_pred_xgboost)))\n",
    "xgboost_r2_metric = r2_score(Y_test, y_pred_xgboost)\n",
    "\n",
    "print(f\"Extreme Gradient Boosting RMSE Metric: {xgboost_rmse_calculator}\")\n",
    "print(f\"Extreme Gradient Boosting R-squared Metric: {xgboost_r2_metric}\")"
   ]
  },
  {
   "cell_type": "code",
   "execution_count": 28,
   "id": "6eda22c4",
   "metadata": {
    "execution": {
     "iopub.execute_input": "2024-05-30T21:05:38.064428Z",
     "iopub.status.busy": "2024-05-30T21:05:38.063999Z",
     "iopub.status.idle": "2024-05-30T21:13:56.974925Z",
     "shell.execute_reply": "2024-05-30T21:13:56.973665Z"
    },
    "papermill": {
     "duration": 498.939145,
     "end_time": "2024-05-30T21:13:56.989606",
     "exception": false,
     "start_time": "2024-05-30T21:05:38.050461",
     "status": "completed"
    },
    "tags": []
   },
   "outputs": [
    {
     "name": "stdout",
     "output_type": "stream",
     "text": [
      "Light Gradient Boosting RMSE Metric: 0.037437269732172936\n",
      "Light Gradient Boosting R-squared Metric: 0.8689918566917086\n"
     ]
    }
   ],
   "source": [
    "from lightgbm import LGBMRegressor\n",
    "            \n",
    "lgb_params = {\n",
    "    'boosting_type': 'gbdt', \n",
    "    'n_estimators':2000, \n",
    "    'learning_rate' :  0.012,\n",
    "    'num_leaves' : 250, \n",
    "    'subsample_for_bin': 165700, \n",
    "    'min_child_samples': 114, \n",
    "    'reg_alpha': 2.075e-06, \n",
    "    'reg_lambda': 3.839e-07, \n",
    "    'colsample_bytree': 0.9634,\n",
    "    'subsample': 0.9592, \n",
    "    'max_depth': 10,\n",
    "    'random_state':0,\n",
    "    'verbosity':-1}\n",
    "\n",
    "lgbm = LGBMRegressor(**lgb_params)\n",
    "\n",
    "lgbm_model = lgbm.fit(X_train , Y_train)\n",
    "\n",
    "y_pred_lgbm = lgbm_model.predict(X_test)\n",
    "\n",
    "lgbm_rmse_calculator = np.sqrt(mean_squared_error(np.log(Y_test), np.log(y_pred_lgbm)))\n",
    "lgbm_r2_metric = r2_score(Y_test, y_pred_lgbm)\n",
    "\n",
    "print(f\"Light Gradient Boosting RMSE Metric: {lgbm_rmse_calculator}\")\n",
    "print(f\"Light Gradient Boosting R-squared Metric: {lgbm_r2_metric}\")"
   ]
  },
  {
   "cell_type": "code",
   "execution_count": 29,
   "id": "83bf6aa2",
   "metadata": {
    "execution": {
     "iopub.execute_input": "2024-05-30T21:13:57.017073Z",
     "iopub.status.busy": "2024-05-30T21:13:57.016449Z",
     "iopub.status.idle": "2024-05-30T21:20:16.908778Z",
     "shell.execute_reply": "2024-05-30T21:20:16.907561Z"
    },
    "papermill": {
     "duration": 379.909506,
     "end_time": "2024-05-30T21:20:16.911670",
     "exception": false,
     "start_time": "2024-05-30T21:13:57.002164",
     "status": "completed"
    },
    "tags": []
   },
   "outputs": [
    {
     "name": "stdout",
     "output_type": "stream",
     "text": [
      "        id  FloodProbability\n",
      "0  1117957          0.578965\n",
      "1  1117958          0.455240\n",
      "2  1117959          0.454373\n",
      "3  1117960          0.465918\n",
      "4  1117961          0.464233\n"
     ]
    }
   ],
   "source": [
    "testddata = pd.read_csv(\"/kaggle/working/test_data.csv\")\n",
    "\n",
    "input_test = pd.read_csv('/kaggle/input/playground-series-s4e5/test.csv')\n",
    "\n",
    "id_no = input_test['id']\n",
    "test_pred_lgbm = lgbm_model.predict(testddata)\n",
    "\n",
    "submission = pd.DataFrame({\n",
    "    'id': id_no,\n",
    "    'FloodProbability': test_pred_lgbm\n",
    "})\n",
    "\n",
    "print(submission.head())\n",
    "submission.to_csv('/kaggle/working/submission.csv', index=False)"
   ]
  }
 ],
 "metadata": {
  "kaggle": {
   "accelerator": "none",
   "dataSources": [
    {
     "databundleVersionId": 8121328,
     "sourceId": 73278,
     "sourceType": "competition"
    }
   ],
   "dockerImageVersionId": 30698,
   "isGpuEnabled": false,
   "isInternetEnabled": true,
   "language": "python",
   "sourceType": "notebook"
  },
  "kernelspec": {
   "display_name": "Python 3",
   "language": "python",
   "name": "python3"
  },
  "language_info": {
   "codemirror_mode": {
    "name": "ipython",
    "version": 3
   },
   "file_extension": ".py",
   "mimetype": "text/x-python",
   "name": "python",
   "nbconvert_exporter": "python",
   "pygments_lexer": "ipython3",
   "version": "3.10.13"
  },
  "papermill": {
   "default_parameters": {},
   "duration": 1234.579235,
   "end_time": "2024-05-30T21:20:17.649665",
   "environment_variables": {},
   "exception": null,
   "input_path": "__notebook__.ipynb",
   "output_path": "__notebook__.ipynb",
   "parameters": {},
   "start_time": "2024-05-30T20:59:43.070430",
   "version": "2.5.0"
  }
 },
 "nbformat": 4,
 "nbformat_minor": 5
}
